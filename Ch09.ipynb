{
 "cells": [
  {
   "cell_type": "markdown",
   "metadata": {},
   "source": [
    "# Chapter 9: Complex Numbers in Linear Algebra"
   ]
  },
  {
   "cell_type": "markdown",
   "metadata": {},
   "source": [
    "- content:  245 - 258\n",
    "- exercises:  259 - 263"
   ]
  },
  {
   "cell_type": "code",
   "execution_count": 12,
   "metadata": {},
   "outputs": [],
   "source": [
    "# import commonly used Python libraries\n",
    "import numpy as np\n",
    "from matplotlib import pyplot as plt"
   ]
  },
  {
   "cell_type": "markdown",
   "metadata": {},
   "source": [
    "## 9.1 Complex numbers and $\\mathbb{C}$"
   ]
  },
  {
   "cell_type": "markdown",
   "metadata": {},
   "source": [
    "Skipping most of this... misc notes about the origin of imaginary/complex numbers which I'm very familiar with.\n",
    "\n",
    "One of the best explained and most interesting videos on the subject (definitely worth watching) is this one from Veritasium:  \n",
    "[How Imaginary Numbers Were Invented (Veritasium)](https://www.youtube.com/watch?v=cUzklzVXJwo)"
   ]
  },
  {
   "cell_type": "markdown",
   "metadata": {},
   "source": [
    "Fun fact: Gauss and many other people despised the term \"imaginary\", instead arguing that \"lateral\" would be better.  I (and many others) whole-heartedly agree, but unfortunately \"imaginary\" remains standard terminology."
   ]
  },
  {
   "cell_type": "markdown",
   "metadata": {},
   "source": [
    "## 9.2 What are complex numbers?"
   ]
  },
  {
   "cell_type": "markdown",
   "metadata": {},
   "source": [
    "skipping a lot of this as well..."
   ]
  },
  {
   "cell_type": "markdown",
   "metadata": {},
   "source": [
    "A few remarks about indicating complex numbers in writing:\n",
    "1. Complex numbers are always written using the real part first.\n",
    "2. In between the two components could be a space, a comma, or a plus or minus sign.  You might also see square brackets, parentheses, or nothing around the numbers.  Variations include [a bi], (a,bi), [a+bi], a bi.\n",
    "3. z is the go-to letter to indicate a complex number: z = a+ib.  After that, w is the next best thing.\n",
    "4. You cna position the i before or after the imaginary component: [a bi] or [a ib].\n",
    "5. Most people use i to indicate the imaginary operator. Engineers tend to use j because they use i for electrical current.  *On the other hand, engineers write handwritten notes in ALL CAPS and start coungin at 0, so let's not be too quick to adopt all engineering practices.*\n",
    "6. To avoid embarrassment at math parties, be careful to distinguish the following terms:\n",
    "  - **Complex number:**  A number that contains two parts, a real and imaginary, like in the notational varieties above.\n",
    "  - **Imaginary number:** A complex number with no real part [0+ib] = ib.\n",
    "  - **Imaginary operator:** The symbol (i or j) that represents the square root of minus one, without any other numbers attached to it.\n",
    "  - **Imaginary component:** This is the real number that multiplies the imaginary operator.  In the number a+ib, the imaginary component is b, not ib!  Geometrically, this corresponds to the distance on the y-axis on a complex plane.\n",
    "\n",
    "The reason why complex numbers are so useful is that they pack a lot of information into a compact representation.  "
   ]
  },
  {
   "cell_type": "markdown",
   "metadata": {},
   "source": [
    "### Complex vectors and complex matrices\n",
    "- In some sense, complex matrices are really easy: they are just regular matrices except that the elements are drawn from $\\mathbb{C}$ instead of $\\mathbb{R}$\n",
    "- Complex vectors and matrices are confusing at first--many students mistakenly think that the left-most column *vector* above is a 2x2 *matrix* and that the right-most 2x2 matrix is a 2x4 matrix.  If ever you see *i* in a vector or matrix, be especially careful to incpect and correctly interpret the matrix."
   ]
  },
  {
   "cell_type": "code",
   "execution_count": 13,
   "metadata": {},
   "outputs": [
    {
     "data": {
      "text/plain": [
       "(3+4j)"
      ]
     },
     "execution_count": 13,
     "metadata": {},
     "output_type": "execute_result"
    }
   ],
   "source": [
    "# Complex numbers in Python\n",
    "# There are several ways to create complex numbers, some examples below\n",
    "# note 1: Python uses 'j' in complex number notation\n",
    "# note 2: 'np.complex' (an example used in the book) is deprecated and should be replaced by the builtin 'complex'\n",
    "\n",
    "z = complex(3, 4)\n",
    "z"
   ]
  },
  {
   "cell_type": "code",
   "execution_count": 14,
   "metadata": {},
   "outputs": [
    {
     "data": {
      "text/plain": [
       "array([0.+0.j, 0.+0.j])"
      ]
     },
     "execution_count": 14,
     "metadata": {},
     "output_type": "execute_result"
    }
   ],
   "source": [
    "Z = np.zeros(2, dtype=complex)\n",
    "Z"
   ]
  },
  {
   "cell_type": "code",
   "execution_count": 15,
   "metadata": {},
   "outputs": [
    {
     "data": {
      "text/plain": [
       "array([3.+4.j, 0.+0.j])"
      ]
     },
     "execution_count": 15,
     "metadata": {},
     "output_type": "execute_result"
    }
   ],
   "source": [
    "Z[0] = 3+4j\n",
    "Z"
   ]
  },
  {
   "cell_type": "markdown",
   "metadata": {},
   "source": [
    "## 9.3 The complex conjugate"
   ]
  },
  {
   "cell_type": "markdown",
   "metadata": {},
   "source": [
    "- The *conjugate* of a complex number is simply that number with the sign of the imaginary part flipped.  It is indicated using an overbar *(aka overline in LaTeX)*: ($\\overline{z}$) or using a superscripted asterisk ($z^*$).\n",
    "\n",
    "$$z^* = \\overline{z} = \\overline{a+bi} = a-bi$$\n",
    "$$\\overline{z} = \\overline{re^{i\\theta}} = re^{-i\\theta}$$"
   ]
  },
  {
   "cell_type": "markdown",
   "metadata": {},
   "source": [
    "### Complex conjugate pairs\n",
    "- A complex conjugate pair is a complex number and its conjugate.\n",
    "Examples:\n",
    "$$z, \\overline{z} = 4 + 2i, 4 - 2i$$\n",
    "$$w, \\overline{w} = 72 - 32i, 72 + 32i$$\n",
    "$$u, \\overline{u} = a + bi, a - bi$$"
   ]
  },
  {
   "cell_type": "code",
   "execution_count": 16,
   "metadata": {},
   "outputs": [
    {
     "name": "stdout",
     "output_type": "stream",
     "text": [
      "[-2.+2.j -2.-1.j -1.-3.j]\n",
      "[-2.-2.j -2.+1.j -1.+3.j]\n"
     ]
    }
   ],
   "source": [
    "# Complex conjugates in Python\n",
    "# use the .conj() method\n",
    "r = np.random.randint(-3, 4, size=3)\n",
    "i = np.random.randint(-3, 4, size=3)\n",
    "Z = r+i * 1j\n",
    "print(Z)\n",
    "print(Z.conj())"
   ]
  },
  {
   "cell_type": "markdown",
   "metadata": {},
   "source": [
    "## 9.4 Arithmetic with complex numbers"
   ]
  },
  {
   "cell_type": "markdown",
   "metadata": {},
   "source": [
    "In this section, the scalars $z$ and $w$ refer to complex numbers, such that:\n",
    "$$z=a+ib$$\n",
    "$$w=c+id$$"
   ]
  },
  {
   "cell_type": "markdown",
   "metadata": {},
   "source": [
    "### Addition and subtraction\n",
    "- Adding and subtracting two complex nubmers works the way you would think it should:\n",
    "$$z + w = a + ib + c + id = (a+c) + i(b+d)$$"
   ]
  },
  {
   "cell_type": "markdown",
   "metadata": {},
   "source": [
    "### Multiplication\n",
    "- Multiplication of complex numbers, unfortunately, does *not* work the way you might initially expect.\n",
    "- You might have expected (hoped) that you would separately multiply the two real parts and the two imaginary parts and then put them together.  Instead, you have to incorporate the cross-terms.\n",
    "- Fortunately though, the multiplication does follow algebraic rules you already know for expanding grouped terms.\n",
    "$$zw = (a+ib)(c+id)$$\n",
    "$$zw = ac + iad + ibc + i^2bd$$\n",
    "$$zw = ac-bd + i(ad+bc)$$\n",
    "- Notice that $i^2bc = -bd$\n",
    "\n",
    "From Wikipedia:\n",
    "- The multiplication of two complex numbers can be expressed more easily in polar coordinates—the magnitude or modulus of the product is the product of the two absolute values, or moduli, and the angle or argument of the product is the sum of the two angles, or arguments.\n",
    "- In particular, multiplication by a complex number of modulus 1 acts as a rotation."
   ]
  },
  {
   "cell_type": "markdown",
   "metadata": {},
   "source": [
    "An interesting thing happens when you multiply a complex number by its conjugate. Observe:\n",
    "$$z^*z = (a+bi)(a-bi)$$\n",
    "$$= z^2 - (bi)^2 - abi + abi$$\n",
    "$$= a^2 + b^2$$\n",
    "- In addition to being practical, this is an important result, and is used throughout complex linear algebra and signal processing.  In the next section, you'll see how this property is related to the dot product with complex vectors."
   ]
  },
  {
   "cell_type": "markdown",
   "metadata": {},
   "source": [
    "### Division\n",
    "- Division is even weirder\n",
    "- There is a trick for doing division with complex numbers (unknown inventor): multiply both the numerator and the denominator by the complex conjugate of the demnominator.\n",
    "$$\\frac{z}{w}=\\frac{a+ib}{c+id}$$\n",
    "$$=\\frac{(c-id)(a+ib)}{(c-id)(c+id)}$$\n",
    "$$=\\frac{(c-id)(a+ib)}{c^2+d^2}$$\n",
    "$$=\\frac{(ca+db) + i(cb-da)}{c^2+d^2}$$\n",
    "- Notice that the denominator becomes real valued, which makes the fraction easier to work with."
   ]
  },
  {
   "cell_type": "markdown",
   "metadata": {},
   "source": [
    "### Reflection (from the author)\n",
    "Why does the denominator have to be real-valued?  I honestly have no idea.  But all my math teachers and everyone who writes about math in books and on the internet says that we should avoid having complex numbers in the denominator of a fraction.  I don't condone conformity and I think it's important to question the status-quo, but on the other hand, you gotta pick your battles.  This one isnt' worth fighting."
   ]
  },
  {
   "cell_type": "markdown",
   "metadata": {},
   "source": [
    "## 9.5 The Hermitian and complex dot products"
   ]
  },
  {
   "cell_type": "markdown",
   "metadata": {},
   "source": [
    "- The Hermitian transpose, often called simply the Hermitian, is a vancy term for a conjugate-and-transpose operation.\n",
    "- It is indicated with a superscripted H such as $v^H$\n",
    "- For vector notation, the author will use an overbar on top of a vector ($\\overline{v}) to indicate the conjugate of the elements in the vector without transposing that vector.\n",
    "\n",
    "Example:\n",
    "$$\n",
    "\\begin{bmatrix}\n",
    "2 & 4-i5 & 1 & 2+i9\n",
    "\\end{bmatrix}^H\n",
    "$$\n",
    "$$\n",
    "\\begin{bmatrix}\n",
    "2 \\\\\n",
    "4+i5 \\\\\n",
    "1 \\\\\n",
    "2-i9\n",
    "\\end{bmatrix}^H\n",
    "$$\n",
    "- Notice that nothing happened to the real-valued elements (1st and 3rd entries).  For this reason, the Hermitian and \"regular\" transpose are identical operations for real-valued matrices."
   ]
  },
  {
   "cell_type": "markdown",
   "metadata": {},
   "source": [
    "### Dot product with complex vectors\n",
    "- The dot product with complex vectors is exactly the same as the dot product with real-valued vectors: element-wise multiply and sum.\n",
    "- However, in nealy all cases, the \"regular\" dot product is replaced with the Hermitian dot product, which simply means to implement the dot product as $z^Hw$ instead of $z^Tw$.\n",
    "- Why are complex vectors conjugated when computing the dot product?  The answer will be obvious from a geometric perspective:\n",
    "  - Recall that the dot product of a vector with itself is the length of the line represented by that vector.\n",
    "  - Consider what happens when we compute the length of a complex vector that we know has length=1.\n",
    "  - (see examples in book on p. 256)\n",
    "  - across $v^Tv, v^H\\overline{v}, v^Hv, v^T\\overline{v}$, only the last two provide accurate answers: $v^Hv, v^T\\overline{v}$\n",
    "  - for notation purposes, $V^Hv$ is simpler and preferred"
   ]
  },
  {
   "cell_type": "code",
   "execution_count": 17,
   "metadata": {},
   "outputs": [
    {
     "name": "stdout",
     "output_type": "stream",
     "text": [
      "(-1+0j)\n",
      "(1+0j)\n"
     ]
    }
   ],
   "source": [
    "# Dot product with complex vectors in Python\n",
    "v = [0,1j]\n",
    "print(np.dot(v,v))\n",
    "print(np.vdot(v,v))"
   ]
  },
  {
   "cell_type": "markdown",
   "metadata": {},
   "source": [
    "## 9.6 Special complex matrices"
   ]
  },
  {
   "cell_type": "markdown",
   "metadata": {},
   "source": [
    "- Special complex matrices sometimes have different names from their real-valued counterparts.\n",
    "- Below are two such matrices that you may encounter"
   ]
  },
  {
   "cell_type": "markdown",
   "metadata": {},
   "source": [
    "### Hermitian matrices\n",
    "- A Hermitian matrix is the complex-valued equivalent of something between a symmetric matrix ($A=A^T$) and a skew-symmetric matrix ($A=-A^T$)\n",
    "- A Hermitian matrix is defined/notated as $A=A^H$.  Thus, the magnitudes of teh real and imaginary parts are teh same, but the signs of the imaginary parts are swapped.\n",
    "\n",
    "Example:\n",
    "$$\n",
    "\\begin{bmatrix}\n",
    "2 & 3-2i & 2+2i \\\\\n",
    "3+2i & 5 & 8 \\\\\n",
    "2-2i & 8 & 9\n",
    "\\end{bmatrix}\n",
    "$$\n",
    "- Notice that the diagonal elements must be real-valued, because only real-valued numbers are equal to their complex conjugate.\n",
    "- Notice also that hermitian matrices may contain numbers with non-zero-valued imaginary parts."
   ]
  },
  {
   "cell_type": "markdown",
   "metadata": {},
   "source": [
    "### Unitary matrix\n",
    "- For real-valued matrices, an \"orthogonal matrix\" is one for which its transpose is its inverse; thus, multiplying the matrix by its transpose gives the identity matrix ($QQ^T=I$).\n",
    "- Another way to phrase this is that each column in an orthogonal matrix is orthogonal with each other column, and that each column has unit magnitude.\n",
    "- We'll learn more about these special matrices in Ch 13.\n",
    "- A complex-valued matrix that has such properties is called a unitary matrix.\n",
    "\n",
    "Example:\n",
    "$$\n",
    "\\frac{1}{2}\n",
    "\\begin{bmatrix}\n",
    "1+i & 1-i \\\\\n",
    "1-i & 1+i\n",
    "\\end{bmatrix}\n",
    "$$"
   ]
  },
  {
   "cell_type": "markdown",
   "metadata": {},
   "source": [
    "### Final note\n",
    "- There is a lot more that could be said about complex matrices in linear algebra; however the topics introduced in this chapter cover what you will need to know for most linear algebra applications, including everything you need to know for the rest of this book."
   ]
  },
  {
   "cell_type": "markdown",
   "metadata": {},
   "source": [
    "## 9.7-9.8 Exercises"
   ]
  },
  {
   "cell_type": "markdown",
   "metadata": {},
   "source": [
    "do in group discussion?"
   ]
  },
  {
   "cell_type": "markdown",
   "metadata": {},
   "source": [
    "## 9.9-9.10 Code Challenges"
   ]
  },
  {
   "cell_type": "markdown",
   "metadata": {},
   "source": [
    "do in group discussion?"
   ]
  }
 ],
 "metadata": {
  "interpreter": {
   "hash": "9db148180b904fc46fd06c2f413641b164737292de8bab5282deb32231f3976b"
  },
  "kernelspec": {
   "display_name": "Python 3.8.11 ('miniconda3')",
   "language": "python",
   "name": "python3"
  },
  "language_info": {
   "codemirror_mode": {
    "name": "ipython",
    "version": 3
   },
   "file_extension": ".py",
   "mimetype": "text/x-python",
   "name": "python",
   "nbconvert_exporter": "python",
   "pygments_lexer": "ipython3",
   "version": "3.8.11"
  },
  "orig_nbformat": 4
 },
 "nbformat": 4,
 "nbformat_minor": 2
}
