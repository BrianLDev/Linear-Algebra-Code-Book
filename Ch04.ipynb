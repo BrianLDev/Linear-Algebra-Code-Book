{
 "cells": [
  {
   "cell_type": "markdown",
   "metadata": {},
   "source": [
    "# Chapter 4: Vector Spaces"
   ]
  },
  {
   "cell_type": "markdown",
   "metadata": {},
   "source": [
    "## 4.1 Dimensions and fields in linear algebra"
   ]
  },
  {
   "cell_type": "markdown",
   "metadata": {},
   "source": [
    "### Dimension"
   ]
  },
  {
   "cell_type": "markdown",
   "metadata": {},
   "source": [
    "- The number of elements in an vector\n",
    "- Order matters\n",
    "- No element is more imporant than another element\n",
    "  - e.g. for `[3,1,5]` : 1 is 2nd dimension and 5 is 3rd dimension\n",
    "- geometrically the dimensionality is the number of coordinate axes in which the vector exists (x, y, z, t, etc)"
   ]
  },
  {
   "cell_type": "markdown",
   "metadata": {},
   "source": [
    "Coordinate axes in linear algebra (e.g. x, y, z) don't necessarily need to be orthogonal (90 degrees) as in ordinary Cartesian space.  \n",
    "*note: non-orthogonal axes are useful in data compression)*"
   ]
  },
  {
   "cell_type": "markdown",
   "metadata": {},
   "source": [
    "### Field"
   ]
  },
  {
   "cell_type": "markdown",
   "metadata": {},
   "source": [
    "- A field is a set of numbers for which basic arithmetic are defined.\n",
    "- Fields are indicated with blackboard bold (hollow letters)  \n",
    "\n",
    "$\\mathbb{R}$ = real numbers  \n",
    "$\\mathbb{C}$ = complex numbers  \n",
    "$\\mathbb{Q}$ = rational numbers  \n",
    "\n",
    "e.g. $\\mathbb{R}^4$ = a 4 element vector in the form [a, b, c, d] where each are real numbers"
   ]
  },
  {
   "cell_type": "markdown",
   "metadata": {},
   "source": [
    "## 4.2 Vector Spaces"
   ]
  },
  {
   "cell_type": "markdown",
   "metadata": {},
   "source": [
    "### Vector Space"
   ]
  },
  {
   "cell_type": "markdown",
   "metadata": {},
   "source": [
    "- refers to any set of objects for which an addition and scalar multiplication are defined.\n",
    "- not discussed nearly as much as the following \"subspaces\""
   ]
  },
  {
   "cell_type": "markdown",
   "metadata": {},
   "source": [
    "## 4.3 Subspaces and ambient spaces"
   ]
  },
  {
   "cell_type": "markdown",
   "metadata": {},
   "source": [
    "### Subspaces"
   ]
  },
  {
   "cell_type": "markdown",
   "metadata": {},
   "source": [
    "- subspaces central to all concepts in, and applications of linear algebra\n",
    "- geometrically: a subspace is the set of all points you can reach by stretching and combining a collection of vectors (i.e. addition and scalar multiplication)\n",
    "- the subspace of 1 individual vector is an infinitely long line (1D subspace)\n",
    "- the subspace of 2 vectors is the entire infinite 2D plane"
   ]
  },
  {
   "cell_type": "markdown",
   "metadata": {},
   "source": [
    "Technically: A subspace is the set of all points that satisfies the following conditions:\n",
    "- closed under addition and scalar multiplication.\n",
    "- contains the zeros vector **0**."
   ]
  },
  {
   "cell_type": "markdown",
   "metadata": {},
   "source": [
    "### Ambient dimensionality"
   ]
  },
  {
   "cell_type": "markdown",
   "metadata": {},
   "source": [
    "- ambient space is the larger / surrounding space that the subspace is within\n",
    "- e.g. a 2D infinite plane (subspace of 2 vectors) is within the ambient space of a 3D space (or 4D space, etc)\n",
    "- there are an infinite number of subspaces that can fit within any ambient space with dimensions > 1\n",
    "- For an N-dimensional ambient space, there are N+1 possible dimensions for subspaces (0 thru N), and an infinite number of possible subspaces, except for the one 0-dimensional subspace and the one N-dimensional subspace."
   ]
  },
  {
   "cell_type": "markdown",
   "metadata": {},
   "source": [
    "Algebraic definition of a subspace:  \n",
    "TODO: Insert LaTeX version of algebraic definition of subspace   \n",
    "- For any vectors **v** and **w** contained in the vector subspace *V*, and for any real valued scalars $\\lambda$ and $\\alpha$, any linearly weighted combination of **v** and **w** is still inside vector subspace *V*."
   ]
  },
  {
   "cell_type": "markdown",
   "metadata": {},
   "source": [
    "..."
   ]
  },
  {
   "cell_type": "markdown",
   "metadata": {},
   "source": [
    "## 4.4 Subsets"
   ]
  },
  {
   "cell_type": "markdown",
   "metadata": {},
   "source": [
    "..."
   ]
  },
  {
   "cell_type": "markdown",
   "metadata": {},
   "source": [
    "## 4.5 Span"
   ]
  },
  {
   "cell_type": "markdown",
   "metadata": {},
   "source": [
    "..."
   ]
  },
  {
   "cell_type": "markdown",
   "metadata": {},
   "source": [
    "## 4.6 Linear independence"
   ]
  },
  {
   "cell_type": "markdown",
   "metadata": {},
   "source": [
    "..."
   ]
  },
  {
   "cell_type": "markdown",
   "metadata": {},
   "source": [
    "- dependent/independent have different meanings elsewhere in math\n",
    "- what is called \"independent\" in linear algebra would be called \"correlated\" in statistics."
   ]
  },
  {
   "cell_type": "markdown",
   "metadata": {},
   "source": [
    "**Steps to determine whether a set is linearly dependent or independent**  \n",
    "\n",
    "*note: algebraic formulas to determine linear dependence will be introduced later, but it's important to be able to conceptually identify it first.*\n",
    "\n",
    "1. Count the num of vectors (call that number M) in the set and compare to N in $\\mathbb{R}^N$. If M > N, then the set is necessarily dependent. If M <= N then move on to step 2.\n",
    "\n",
    "2. Check for a vector of all zeros.  Any set that contains the zeros vector is a dependent set.\n",
    "\n",
    "3. Trial and error educated guesswork. Start by looking for zeros in the entries of some vectors, with the knowledge that zeros in some vectors in combination with non-zero entries in corresponding dimensions in other vectors is a tip towards independence (you cannot create something from nothing).\n",
    "\n",
    "4. More educated guesswork.  Start by creating one element as a weight combination of other vectors, and see whether that same weighted combination will work for the other dimensions."
   ]
  },
  {
   "cell_type": "markdown",
   "metadata": {},
   "source": [
    "## 4.7 Basis"
   ]
  },
  {
   "cell_type": "markdown",
   "metadata": {},
   "source": [
    "..."
   ]
  },
  {
   "cell_type": "markdown",
   "metadata": {},
   "source": [
    "## 4.8 Exercises"
   ]
  },
  {
   "cell_type": "markdown",
   "metadata": {},
   "source": [
    "..."
   ]
  },
  {
   "cell_type": "markdown",
   "metadata": {},
   "source": [
    "## Code Challenges"
   ]
  },
  {
   "cell_type": "markdown",
   "metadata": {},
   "source": [
    "none for this chapter"
   ]
  }
 ],
 "metadata": {
  "interpreter": {
   "hash": "656cd6254c7b2065e00f01cfa19c07ca066e7d85ef474593a41f6dcc31570de2"
  },
  "kernelspec": {
   "display_name": "Python 3.8.11 ('base')",
   "language": "python",
   "name": "python3"
  },
  "language_info": {
   "codemirror_mode": {
    "name": "ipython",
    "version": 3
   },
   "file_extension": ".py",
   "mimetype": "text/x-python",
   "name": "python",
   "nbconvert_exporter": "python",
   "pygments_lexer": "ipython3",
   "version": "3.8.11"
  },
  "orig_nbformat": 4
 },
 "nbformat": 4,
 "nbformat_minor": 2
}
