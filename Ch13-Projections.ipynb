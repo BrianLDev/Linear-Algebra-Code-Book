{
 "cells": [
  {
   "cell_type": "markdown",
   "metadata": {},
   "source": [
    "# Ch 13: Projections and Orthogonalization"
   ]
  },
  {
   "cell_type": "markdown",
   "metadata": {},
   "source": [
    "- content: pp. 363 - 388\n",
    "- exercists: pp. 389 - 394"
   ]
  },
  {
   "cell_type": "code",
   "execution_count": 4,
   "metadata": {},
   "outputs": [],
   "source": [
    "import numpy as np\n",
    "from matplotlib import pyplot as plt"
   ]
  },
  {
   "cell_type": "markdown",
   "metadata": {},
   "source": [
    "### Intro\n",
    "\n",
    "The goal of this chapter is to introduce a framework for projecting one space onto another space (e.g. a 3D shape forming a 2D shadow).  This framework forms the basis for orthogonalization and for an algorithm called *linear least-squares*, which is the primary method for estimating parameters and fitting models to data, and is therefore one of the most important algorithms in applied mathematics, including control engineering, statistics, and machine learning.  Along the way, we'll also rediscover the left inverse."
   ]
  },
  {
   "cell_type": "markdown",
   "metadata": {},
   "source": [
    "## 13.1 Projections in $\\mathbb{R}^2$"
   ]
  },
  {
   "cell_type": "markdown",
   "metadata": {},
   "source": [
    "We're going to discover a formula for projecting a point onto a line, and then generalize that formula to other projections.\n",
    "- start with:\n",
    "  - a vector $a$\n",
    "  - point $b$ not on $a$\n",
    "  - scalar $\\beta$ such that $\\beta a$ is as close to $b$ as possible without leaving $a$\n",
    "- the question is, where do we place $\\beta$ so that the point $\\beta a$ is as close as possible to point $b$?\n",
    "- the answer: when the line from $\\beta a$ to $b$ is at a right angle to $a$. (i.e. orthogonal)"
   ]
  },
  {
   "cell_type": "markdown",
   "metadata": {},
   "source": [
    "- we can express the line from point $b$ to point $\\beta a$ as a subtraction from vector $b$.\n",
    "- thus, the expression for the line is $b - \\beta a$\n",
    "- Importantly, vectors $a$ and $(b - \\beta a)$ are orthogonal / perpendicular\n",
    "$$(b - \\beta a) \\perp a$$\n",
    "- and since they are orthogonal, that means that the dot product between them is 0, so we can rewrite the equation as:\n",
    "$$(b - \\beta a)^T a = 0$$"
   ]
  },
  {
   "cell_type": "markdown",
   "metadata": {},
   "source": [
    "- from here, we can use algebra to solve for $\\beta$\n",
    "$$a^T(b - \\beta a) = 0$$\n",
    "$$a^Tb - \\beta a^Ta = 0$$\n",
    "$$\\beta a^Ta = a^Tb$$\n",
    "$$\\beta = \\frac{a^Tb}{a^Ta}$$\n",
    "*(note that dividing both sides by $a^Ta$ is valid because it is a scalar)*"
   ]
  },
  {
   "cell_type": "markdown",
   "metadata": {},
   "source": [
    "## 13.2 Projections in $\\mathbb{R}^N$"
   ]
  },
  {
   "cell_type": "markdown",
   "metadata": {},
   "source": []
  },
  {
   "cell_type": "markdown",
   "metadata": {},
   "source": [
    "## 13.3 Orth and par vect comps"
   ]
  },
  {
   "cell_type": "markdown",
   "metadata": {},
   "source": []
  },
  {
   "cell_type": "markdown",
   "metadata": {},
   "source": [
    "## 13.4 Orthogonal matrices"
   ]
  },
  {
   "cell_type": "markdown",
   "metadata": {},
   "source": []
  },
  {
   "cell_type": "markdown",
   "metadata": {},
   "source": [
    "## 13.5 Orthogonalization via GS"
   ]
  },
  {
   "cell_type": "markdown",
   "metadata": {},
   "source": []
  },
  {
   "cell_type": "markdown",
   "metadata": {},
   "source": [
    "## 13.6 QR decomposition"
   ]
  },
  {
   "cell_type": "markdown",
   "metadata": {},
   "source": []
  },
  {
   "cell_type": "markdown",
   "metadata": {},
   "source": [
    "## 13.7 Inverse via QR"
   ]
  },
  {
   "cell_type": "markdown",
   "metadata": {},
   "source": []
  },
  {
   "cell_type": "markdown",
   "metadata": {},
   "source": [
    "## 13.8 - 13.9 Exercises"
   ]
  },
  {
   "cell_type": "markdown",
   "metadata": {},
   "source": []
  },
  {
   "cell_type": "markdown",
   "metadata": {},
   "source": [
    "## 13.10 - 13.11 Code challenges"
   ]
  },
  {
   "cell_type": "markdown",
   "metadata": {},
   "source": []
  }
 ],
 "metadata": {
  "kernelspec": {
   "display_name": "Python 3.8.11 ('base')",
   "language": "python",
   "name": "python3"
  },
  "language_info": {
   "codemirror_mode": {
    "name": "ipython",
    "version": 3
   },
   "file_extension": ".py",
   "mimetype": "text/x-python",
   "name": "python",
   "nbconvert_exporter": "python",
   "pygments_lexer": "ipython3",
   "version": "3.8.11"
  },
  "orig_nbformat": 4,
  "vscode": {
   "interpreter": {
    "hash": "656cd6254c7b2065e00f01cfa19c07ca066e7d85ef474593a41f6dcc31570de2"
   }
  }
 },
 "nbformat": 4,
 "nbformat_minor": 2
}
