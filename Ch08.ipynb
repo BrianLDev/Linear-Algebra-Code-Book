{
 "cells": [
  {
   "cell_type": "markdown",
   "metadata": {},
   "source": [
    "# Chapter 8: Matrix Spaces"
   ]
  },
  {
   "cell_type": "markdown",
   "metadata": {},
   "source": [
    "- content pp. 211 - 237\n",
    "- exercises pp. 238 - 244"
   ]
  },
  {
   "cell_type": "code",
   "execution_count": 1,
   "metadata": {},
   "outputs": [],
   "source": [
    "# import commonly used Python libraries\n",
    "import numpy as np\n",
    "from matplotlib import pyplot as plt"
   ]
  },
  {
   "cell_type": "markdown",
   "metadata": {},
   "source": [
    "- \"Matrix spaces\" are the same concept as vector subspaces, but defined by the features matrices have that vectors don't.\n",
    "- This chapter ties together concepts of vector subspaces, basis, linear independence, and span."
   ]
  },
  {
   "cell_type": "markdown",
   "metadata": {},
   "source": [
    "Remarkably, this entire chapter can be summarized as trying to answer the following two questions about matrix multiplication and a vector $b$ (which is non-zero):\n",
    "\n",
    "1. $Ax = b?$  (i.e. is there a weighted combination of the columns of $A$ that produces vector $b$ with the weights given by vector $x$?)\n",
    "2. $Ay = 0?$  (i.e. Is there a weighted combination of columns of $A$ that produces the zeros vector with the weights given by vector $y$ (for non-zero y))"
   ]
  },
  {
   "cell_type": "markdown",
   "metadata": {},
   "source": [
    "## 8.1 Column space of a matrix"
   ]
  },
  {
   "cell_type": "markdown",
   "metadata": {},
   "source": [
    "### Column Space"
   ]
  },
  {
   "cell_type": "markdown",
   "metadata": {},
   "source": [
    "- the *column space* of a matrix is the subspace spanned by all columns of that matrix.\n",
    "- i.e. think of a matrix as a set of column vectors, and the subspace spanned by that set of vectors as the column space of the matrix.\n",
    "- column space is also sometimes called the *range* or the *image* of a matrix.\n",
    "- The column space is indicated using the notation $C(A)$"
   ]
  },
  {
   "cell_type": "markdown",
   "metadata": {},
   "source": [
    "Formal defintion(s):\n",
    "$$C(A) = \\{\\beta_1b_1 + ... + \\beta_na_n, \\;\\;\\; \\beta \\in \\mathbb{R}\\}$$\n",
    "$$C(A) = span(a_1, ..., a_n)$$\n",
    "These 2 definitions are different but equally acceptable ways to express the same concept"
   ]
  },
  {
   "cell_type": "markdown",
   "metadata": {},
   "source": [
    "- The column space of an $MxN$ matrix is in $\\mathbb{R}^M$\n",
    "- don't be confused and think that the column space is in $\\mathbb{R}^N$ because there are N columns; each of those N columns has M elements, hence $C(A) \\in \\mathbb{R}^M$\n",
    "- If the rank of the matrix is r = M, then the column space spans all of $\\mathbb{R}^M$\n",
    "- if the rank is r < M, then the column space is an r-dimensional subspace of $\\mathbb{R}^M$\n",
    "\n",
    "*note: The column space of a matrix is calculated by counting the number of (linearly independent) elements in any given column, which counter-intuitively is very similar to counting the number of rows. Hence the \"don't be confused\" note above.*"
   ]
  },
  {
   "cell_type": "markdown",
   "metadata": {},
   "source": [
    "Distinction between basis and span:\n",
    "- The columns of a matrix *span* a subspace, but they may or may not be a *basis* for that subspace.\n",
    "- Remember that a set of vectors is a basis for a subspace only if that set is linearly independent."
   ]
  },
  {
   "cell_type": "markdown",
   "metadata": {},
   "source": [
    "Practice by calculating 1) dimensionality of the ambient space in which the column space is embedded, 2) the dimensionality of the columns space, and 3) whether the columns form a basis for the column space.\n",
    "\n",
    "1) **Dimensionality of ambient space:**  Simply count the elements in any given column (e.g. in a 5x3 matrix the columns each have 5 elements)\n",
    "\n",
    "2) **Dimensionality of the column space:**  A bit more work to compute, because it involves determining the largest number of columns that can form a linearly independent set of vectors (which is the same thing as the rank of the matrix).  (e.g. the rank of the 5x3 matrix example is 2).\n",
    "\n",
    "3) **Whether the columns form a basis for the column space:**  Once you know the dimensionality of the column space, determining whether the columns form a basis for the column space is easy: check if the subspace dimensionality is the same as the number of columns. (e.g. in the 5x3 matrix example in the book, the answer is No)."
   ]
  },
  {
   "cell_type": "markdown",
   "metadata": {},
   "source": [
    "## 8.2 The column space of $A$ and $AA^T$"
   ]
  },
  {
   "cell_type": "markdown",
   "metadata": {},
   "source": [
    "- Interestingly, $A$ and $AA^T$ have the same column space.\n",
    "- if $A$ is $MxN$, then $AA^T$ is $(MxN)(MxN)=MxM$.  This means both will have an ambient space of M.\n",
    "- Next, recall from 6.1 that the \"column perspective\" of matrix multiplication states that multiplication is a linear weighted combination of the columns of the left matrix, where the weights come from the columns in the right matrix.  Thus, $AA^T$ is simply a linear weighted combination of the columns of $A$, which means it is in the span of the column space of $A$.\n",
    "- Notice that each column in $AA^T$ is simply a linear weighted combination of the columns of $A$. This is an important observation because linear combinations of vectors in some subspace always stay in that subspace (indeed, that is the definition of subspace!).\n",
    "- This shows that the column space of $AA^T$ is a subset of the column space of $A$.\n",
    "- Next, we rely on the fact that $AA^T$ and $A$ have the same rank (see rank-nullability theory page 197), which means the dimensionalities of their column spaces are the same.\n",
    "- Thus, if the column space of $AA^T$ is a subset of the column space of $A$, and these two subspaces have the same dimensionality, then they must be equal."
   ]
  },
  {
   "cell_type": "markdown",
   "metadata": {},
   "source": [
    "- There's another explanation for $AA^T$ and $A$ sharing the same subspace which will come later in chapter 16.\n",
    "- note that $A$ and $AA^T$ generally do not have exactly the same columns.  So even though they span the same subspace, they can have different basis sets."
   ]
  },
  {
   "cell_type": "markdown",
   "metadata": {},
   "source": [
    "## 8.3 Determining whether $v \\in C(A)$"
   ]
  },
  {
   "cell_type": "markdown",
   "metadata": {},
   "source": [
    "- As a reminder, one of the important questions in linear algebra is whether a certain vector is in the column space of a matrix.\n",
    "- This can be written as $v \\in C(A)$ or $v \\notin C(A)$\n",
    "- this is not a trivial question! We are asking whether a vector in xD happens to lie on an infinitely thin plane."
   ]
  },
  {
   "cell_type": "markdown",
   "metadata": {},
   "source": [
    "### The \"augment-rank\" algorithm to determine whether $v \\in C(A)$"
   ]
  },
  {
   "cell_type": "markdown",
   "metadata": {},
   "source": [
    "- Start by creating a matrix $B = A \\sqcup v$  (i.e. augment the matrix with the vector)\n",
    "- the compute the ranks of these 2 matrices ($B$ and $A$)\n",
    "- There are 2 possible outcomes: 1) the ranks are the same which means $v \\in C(A)$ or 2) the rank of B is one higher than the rank of A which means that $v \\notin C(A)$."
   ]
  },
  {
   "cell_type": "markdown",
   "metadata": {},
   "source": [
    "- Why? Think about it geometrically:\n",
    "  - if $v$ is in the column space of $A$, then the vector is sitting somewhere in the subspace, hence, no new geometric directions are obtained by including vector $v$.\n",
    "  - In contrast, if $v$ is outside the column space, then it points off in some other geometric dimension that is not spanned by the column space; hence $B$ has one extra geometric dimension not contained in $A$, and thus the rank is one higher."
   ]
  },
  {
   "cell_type": "markdown",
   "metadata": {},
   "source": [
    "- The corrolary of this method is that if $A$ is full rank square matrix (that is, rank=M), then $v$ is necessarily in the column space, because it is not possible to have a subspace with more than M dimensions in $\\mathbb{R}^M$."
   ]
  },
  {
   "cell_type": "markdown",
   "metadata": {},
   "source": [
    "- This algorithm only tells you *whether* a vector is in the column space of a matrix.\n",
    "- It doesn't reveal *how* to combine the columns of the matrix to express that vector.\n",
    "- For that, you can apply a procedure called Gaussian elimination, which is a major topic of Chapter 10."
   ]
  },
  {
   "cell_type": "markdown",
   "metadata": {},
   "source": [
    "## 8.4 Row space of a matrix"
   ]
  },
  {
   "cell_type": "markdown",
   "metadata": {},
   "source": [
    "- The *row space* of a matrix, indicated by $R(A)$, is the same concept as the column space, except it refers to the subspace spanned by the rows.\n",
    "- This means it is also the same thing as the column space of the matrix transpose (i.e. $R(A) = C(A^T)$).\n",
    "- The primary difference is the way that you ask the question whether a given vector is in the row space of the matrix.\n",
    "- It also changes how you multiply the matrix against the vector. Instead of $Ax = v$, you have to put the row vector on the left side of the matrix, like this: $w^TA = u^T$.\n",
    "- Now the weighting vector $w$, sometimes also called the coefficients vector, is a row vector on the left, meaning that we are taking weighted combinations of *rows* of $A$ instead of columns."
   ]
  },
  {
   "cell_type": "markdown",
   "metadata": {},
   "source": [
    "- You can apply a slightly modified version of the augment-rank algorithm to determine whether a vector is in the row space of a matrix: Place the vector as a new *row* in the matrix and then compute the rank of that row-augmented matrix.\n",
    "- Note that for a square full-rank matrix, $C(A) = R(A) = \\mathbb{R}^N$"
   ]
  },
  {
   "cell_type": "markdown",
   "metadata": {},
   "source": [
    "## 8.5 Row spaces of $A$ and $A^TA$"
   ]
  },
  {
   "cell_type": "markdown",
   "metadata": {},
   "source": [
    "- Simply put, $A$ and $A^TA$ have the same row spaces $(R(A) = R(A^TA))$."
   ]
  },
  {
   "cell_type": "markdown",
   "metadata": {},
   "source": [
    "## 8.6 Null space of a matrix"
   ]
  },
  {
   "cell_type": "markdown",
   "metadata": {},
   "source": [
    "- The null space of a matrix is like the basement of a cheesy horror movie: Not every house has a basement, but if there is one, anyone who goes into it won't come out!\n",
    "- Likewise, not all matrices have a null space, but if a matrix has a null spaced and a vector goes into it, that vector can never return.\n",
    "- The null spaced is also sometimes called the *kernel* of the matrix."
   ]
  },
  {
   "cell_type": "markdown",
   "metadata": {},
   "source": [
    "Formally:\n",
    "$$Ay = 0$$\n",
    "This means that there is a linear combination of the columns in matrix $A$ that produces a column vector of zeros, and the elements of vector $y$ specify those weightings."
   ]
  },
  {
   "cell_type": "markdown",
   "metadata": {},
   "source": [
    "- setting $y$ as a zeros vector is the simple/trivial way to create a null space, but we're more interested in the non-trivial ways.\n",
    "- If you can find 1 non-zero vector $y$ that satisfies $Ay=0$, then essentially there are infinite (since you can scale $y$ via linear transformations).\n",
    "- Matrices without null spaces are colloquially said to \"have no null space\" though it is more appropriate to say that the null space of this matrix is the empty set (again, ignoring the trivial zeros vector).\n",
    "- Full-rank square matrices and full-column-rank matrices necessarily have an empty null space, whereas reduced-rank and reduced-column-rank matrices necessarily have a non-empty null space.  (explained why in a few pages)"
   ]
  },
  {
   "cell_type": "markdown",
   "metadata": {},
   "source": [
    "### Left-null space"
   ]
  },
  {
   "cell_type": "markdown",
   "metadata": {},
   "source": [
    "- There is a complementary space to the null space, called the *left-null space*, which is the same concept but with a row vector on the left of the matrix instead of a column vector on the right of the matrix.\n",
    "It looks like this:\n",
    "$$y^TA=0^T$$"
   ]
  },
  {
   "cell_type": "markdown",
   "metadata": {},
   "source": [
    "- The left null space cal be thought of as the \"regular\" null space of the matrix transpose.\n",
    "- Here's the rule: For an $MxN$ matrix, the rwo space is in ambient $\\mathbb{R}^N$ and the left-null space is in ambient $\\mathbb{R}^M$"
   ]
  },
  {
   "cell_type": "code",
   "execution_count": 2,
   "metadata": {},
   "outputs": [
    {
     "data": {
      "text/plain": [
       "array([[-0.65840759],\n",
       "       [-0.46557056],\n",
       "       [-0.44924296],\n",
       "       [ 0.38460923]])"
      ]
     },
     "execution_count": 2,
     "metadata": {},
     "output_type": "execute_result"
    }
   ],
   "source": [
    "# Null space in python\n",
    "from scipy.linalg import null_space\n",
    "A = np.random.randn(3,4)\n",
    "null_space(A)"
   ]
  },
  {
   "cell_type": "markdown",
   "metadata": {},
   "source": [
    "## 8.7 Geometric interpretation of the null space"
   ]
  },
  {
   "cell_type": "markdown",
   "metadata": {},
   "source": [
    "- Recall that a matrix times a vector produces another vector.\n",
    "- *note: some informative example diagrams in the book on page 226.  Can't screenshot here but worth reviewing and absorbing.*\n",
    "- Once a matrix multiplied by a vector transforms into the null space (singularity at the origin point), there's no coming back!  Multiplying by any other vector or matrix will yield zero."
   ]
  },
  {
   "cell_type": "markdown",
   "metadata": {},
   "source": [
    "## 8.8 Orthogonal subspaces, orthogonal complements"
   ]
  },
  {
   "cell_type": "markdown",
   "metadata": {},
   "source": [
    "- The 4 subspaces of a matrix--column space, row space, null space, left-null space--come in two pairs of *orthogonal compleemnts*.\n"
   ]
  },
  {
   "cell_type": "markdown",
   "metadata": {},
   "source": [
    "- To understand orthogonal subspaces, first think of a vector that's orthogonal to a matrix.  We can scale the vector to any other size, which would create a subspace which is orthogonal to the matrix.\n",
    "- Similar things can be done with matrices to form orthogonal matrix subspaces.\n",
    "- for 2 subspaces to be orthogonal, *every possible vector* needs to be orthogonal."
   ]
  },
  {
   "cell_type": "markdown",
   "metadata": {},
   "source": [
    "Formally:\n",
    "$$\\forall v \\in S \\; and \\; \\forall w \\in M, \\;\\;\\; v \\perp w$$\n",
    "i.e. For any vector $v$ in subspace $S$, and afor any vector $w$ in subspace $M$, vector $v$ is orthogonal to vector $w$."
   ]
  },
  {
   "cell_type": "markdown",
   "metadata": {},
   "source": [
    "- In $\\mathbb{R}^3$, it is impossible for 2 *planes* to be orthogonal subspaces.\n",
    "- Even if the 2 planes are perpendicular to each other, where they cross will form 1 shared vector, and every possible vector must be orthogonal."
   ]
  },
  {
   "cell_type": "markdown",
   "metadata": {},
   "source": [
    "## 8.9 Orthogonalities of the matrix spaces"
   ]
  },
  {
   "cell_type": "markdown",
   "metadata": {},
   "source": [
    "### Orthogonality of the column space and the left-null space"
   ]
  },
  {
   "cell_type": "markdown",
   "metadata": {},
   "source": [
    "- A vector is orthogonal to the column space of a matrix if the following equation is satisfied:\n",
    "$$y \\perp C(A)$$"
   ]
  },
  {
   "cell_type": "markdown",
   "metadata": {},
   "source": [
    "- What does it mean for vector $y$ to be orthogonal to the column space of $A$?  It means that $y$ is orthogonal to each column individually, and therefore it is orthogonal to all possible linear combinations of the columns.\n",
    "- This can be rewritten as:\n",
    "$$A^Ty = 0$$\n",
    "Remarkably, we've just re-derived Equation 8.13 which was the definition of the left-null space."
   ]
  },
  {
   "cell_type": "markdown",
   "metadata": {},
   "source": [
    "- The orthogonality of the column space and left-null space is a big deal, because we're talking about entire subspaces, not just individual vectors. (a vector is a mere finite object, but subspaces are infinite expanses)\n",
    "- Thus, the column spaced and the left-null space are orthogonal complements, and so together they mus fill up the entire ambient space of $\\mathbb{R}^M$"
   ]
  },
  {
   "cell_type": "markdown",
   "metadata": {},
   "source": [
    "$$C(A) \\cup N(A^T) \\Longleftrightarrow \\mathbb{R}^M$$\n",
    "- i.e. for any given $MxN$ matrix, *every* vector in $\\mathbb{R}^M$ is either in the column space or in the left-null space.\n",
    "- No vector can be in both (because they are orthogonal subspaces) except for the trivial zeros vector.\n",
    "- Therefore, the column space and the left-null space together span all of $\\mathbb{R}^M$."
   ]
  },
  {
   "cell_type": "markdown",
   "metadata": {},
   "source": [
    "### A visual example\n",
    "- can't screenshot. see pages 231 - 232 for details"
   ]
  },
  {
   "cell_type": "markdown",
   "metadata": {},
   "source": [
    "### Orthogonality of the row space and the null space"
   ]
  },
  {
   "cell_type": "markdown",
   "metadata": {},
   "source": [
    "- not much to add that wasn't already said about column space and left-null space above.  Just swap the terms."
   ]
  },
  {
   "cell_type": "markdown",
   "metadata": {},
   "source": [
    "## 8.10 Dimensionalities of matrix spaces"
   ]
  },
  {
   "cell_type": "markdown",
   "metadata": {},
   "source": [
    "- The dimensionalitites of the column space, the row space, and the two null spaces are all interconnected.\n",
    "- Reminder: \"dimension\" is not the same as \"rank\"\n",
    "  - rank is a property of a matrix and the same whether you're thinking about columns or rows or null spaces.\n",
    "  - but the ambient dimensionality differs between rows and columns for non-square matrices.\n",
    "  - on the other hand, the dimensionality of the *subspaces spanned* by the column space and the row space is the same, and those equal the rank of the matrix."
   ]
  },
  {
   "cell_type": "markdown",
   "metadata": {},
   "source": [
    "Formulas:\n",
    "$$\\underbrace{C(A) \\cup N(A^T)}_{\\mathbb{R}^M} \\;\\;\\;\\;\\; \\underbrace{R(A) \\cup N(A)}_{\\mathbb{R}^N}$$"
   ]
  },
  {
   "cell_type": "markdown",
   "metadata": {},
   "source": [
    "$$dim(C(A)) + dim(N(A^T))=M$$\n",
    "$$dim(R(A)) + dim(N(A))=N$$"
   ]
  },
  {
   "cell_type": "markdown",
   "metadata": {},
   "source": [
    "$$rank(A) = dim(C(A)) = dim(R(A))$$"
   ]
  },
  {
   "cell_type": "markdown",
   "metadata": {},
   "source": [
    "## 8.11 More on $Ax=b$ and $Ay=0$"
   ]
  },
  {
   "cell_type": "markdown",
   "metadata": {},
   "source": [
    "- These 2 equations are simple yet profound.\n",
    "- It is no understatement to write that *most people learn linear algebra because they want to know how to solve these equations*.\n",
    "- You might not realize that this is what you want to solve, but most of applied linear algebra boils down to solving one of these 2 equations."
   ]
  },
  {
   "cell_type": "markdown",
   "metadata": {},
   "source": [
    "## 8.12 - 8.13 Exercises"
   ]
  },
  {
   "cell_type": "markdown",
   "metadata": {},
   "source": [
    "do during group discussion?"
   ]
  },
  {
   "cell_type": "markdown",
   "metadata": {},
   "source": [
    "## 8.14 - 8.15 Code Challenges"
   ]
  },
  {
   "cell_type": "markdown",
   "metadata": {},
   "source": [
    "do during group discussion?"
   ]
  }
 ],
 "metadata": {
  "interpreter": {
   "hash": "656cd6254c7b2065e00f01cfa19c07ca066e7d85ef474593a41f6dcc31570de2"
  },
  "kernelspec": {
   "display_name": "Python 3.8.11 ('base')",
   "language": "python",
   "name": "python3"
  },
  "language_info": {
   "codemirror_mode": {
    "name": "ipython",
    "version": 3
   },
   "file_extension": ".py",
   "mimetype": "text/x-python",
   "name": "python",
   "nbconvert_exporter": "python",
   "pygments_lexer": "ipython3",
   "version": "3.8.11"
  },
  "orig_nbformat": 4
 },
 "nbformat": 4,
 "nbformat_minor": 2
}
