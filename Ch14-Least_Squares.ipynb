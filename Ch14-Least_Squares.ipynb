{
 "cells": [
  {
   "cell_type": "markdown",
   "metadata": {},
   "source": [
    "# Chapter 14: Least Squares"
   ]
  },
  {
   "cell_type": "markdown",
   "metadata": {},
   "source": [
    "- content: pp. 395 - 414\n",
    "- exercises: pp. 415 - 419"
   ]
  },
  {
   "cell_type": "code",
   "execution_count": 2,
   "metadata": {},
   "outputs": [],
   "source": [
    "# import commonly used Python libraries\n",
    "import numpy as np\n",
    "from matplotlib import pyplot as plt"
   ]
  },
  {
   "cell_type": "markdown",
   "metadata": {},
   "source": [
    "## 14.1 Introduction"
   ]
  },
  {
   "cell_type": "markdown",
   "metadata": {},
   "source": [
    "- The physical and biological world we inhabit is really, really, *really* complicated.\n",
    "- How do we make sense of the complexity?\n",
    "- We make simplified models of the most important aspects of the system under investigation, while ignoring or abstracting away the aspects that are less relevant.\n",
    "- This process leads to a *model*, which is a set of equations that allows scientists to isolate and understand the principles of the system under investigation.\n",
    "- Thus, the goal of building models is not to replicate *exactly* the system under investigation, but instead to identify a simplified and low-dimensional representation that can be understood by humans or simulated by computers.\n",
    "- On the other hand, models should be sufficiently generic that they can be applied to different datasets.  This means that the models must be flexible enough that they can be adjusted to different datasets without having to create a brand new model for each particular dataset.\n",
    "- This is why models contain both *fixed features* and *free parameters*.\n",
    "  - The fixed features are components of the model that the scientist imposes, based on scientific evidence, theories, and intuition.\n",
    "  - Free parameters are varaibles that can be adjusted to allow the model to fit any particular dataset.\n",
    "- This brings us to the primary goal of model-fitting: find values for these free parameters that make the model match the data as closely as possible."
   ]
  },
  {
   "cell_type": "markdown",
   "metadata": {},
   "source": [
    "### Example:"
   ]
  },
  {
   "cell_type": "markdown",
   "metadata": {},
   "source": [
    "- let's say we wanted to predict someone's height.\n",
    "- Your hypotehsis is that height is a function of 3 features:\n",
    "  - sex (male/female)\n",
    "  - parents height\n",
    "  - childhood nutrition (1-10 scale)\n",
    "- *obviously what determines height is much more complicated than this but we are trying to simplify and capture the key factors*"
   ]
  },
  {
   "cell_type": "markdown",
   "metadata": {},
   "source": [
    "we can now construct our model for height:\n",
    "$$h = \\beta_1s + \\beta_2p + \\beta_3n + \\epsilon$$\n",
    "\n",
    "Fixed Features:\n",
    "- $h$ = height\n",
    "- $s$ = sex\n",
    "- $p$ = parents' height\n",
    "- $n$ = childhood nutrition score\n",
    "- $\\epsilon$ = an \"error term\" / \"residual\" that captures all the variance in height that the 3 variables don't explain"
   ]
  },
  {
   "cell_type": "markdown",
   "metadata": {},
   "source": [
    "Free Parameters:\n",
    "- $\\beta$ scalars for each of the factors\n",
    "- they are also often called \"weights\" because the larger the scalar, the more influence the fixed feature has on the outcome.\n"
   ]
  },
  {
   "cell_type": "markdown",
   "metadata": {},
   "source": [
    "- This leads to the question of how you find the model parameters that make the model match the data as closely as possible.\n",
    "- Random guessing is a terrible idea\n",
    "- We need an algorithm that will find the best parameters given the data\n",
    "- The most commonly used algorithm for fitting models to data is **linear least-squares**, which we will learn in this chapter."
   ]
  },
  {
   "cell_type": "markdown",
   "metadata": {},
   "source": [
    "## 14.2 The five steps of model-fitting"
   ]
  },
  {
   "cell_type": "markdown",
   "metadata": {},
   "source": []
  },
  {
   "cell_type": "markdown",
   "metadata": {},
   "source": [
    "## 14.3 Terminology"
   ]
  },
  {
   "cell_type": "markdown",
   "metadata": {},
   "source": []
  },
  {
   "cell_type": "markdown",
   "metadata": {},
   "source": [
    "## 14.4 Least-squares via left inverse"
   ]
  },
  {
   "cell_type": "markdown",
   "metadata": {},
   "source": []
  },
  {
   "cell_type": "markdown",
   "metadata": {},
   "source": [
    "## 14.5 Least-squares via orthogonal projection"
   ]
  },
  {
   "cell_type": "markdown",
   "metadata": {},
   "source": []
  },
  {
   "cell_type": "markdown",
   "metadata": {},
   "source": [
    "## 14.6 Least squares via row-reduction"
   ]
  },
  {
   "cell_type": "markdown",
   "metadata": {},
   "source": []
  },
  {
   "cell_type": "markdown",
   "metadata": {},
   "source": [
    "## 14.7 Model-predicted values and residuals"
   ]
  },
  {
   "cell_type": "markdown",
   "metadata": {},
   "source": []
  },
  {
   "cell_type": "markdown",
   "metadata": {},
   "source": [
    "## 14.8 Least-squares example"
   ]
  },
  {
   "cell_type": "markdown",
   "metadata": {},
   "source": []
  },
  {
   "cell_type": "markdown",
   "metadata": {},
   "source": [
    "## 14.9 - 14.10 Code Challenges"
   ]
  },
  {
   "cell_type": "markdown",
   "metadata": {},
   "source": []
  }
 ],
 "metadata": {
  "kernelspec": {
   "display_name": "Python 3.8.11 ('base')",
   "language": "python",
   "name": "python3"
  },
  "language_info": {
   "codemirror_mode": {
    "name": "ipython",
    "version": 3
   },
   "file_extension": ".py",
   "mimetype": "text/x-python",
   "name": "python",
   "nbconvert_exporter": "python",
   "pygments_lexer": "ipython3",
   "version": "3.8.11"
  },
  "orig_nbformat": 4,
  "vscode": {
   "interpreter": {
    "hash": "656cd6254c7b2065e00f01cfa19c07ca066e7d85ef474593a41f6dcc31570de2"
   }
  }
 },
 "nbformat": 4,
 "nbformat_minor": 2
}
