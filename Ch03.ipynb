{
 "cells": [
  {
   "cell_type": "markdown",
   "metadata": {},
   "source": [
    "# Chapter 3: Vector Multiplications"
   ]
  },
  {
   "cell_type": "code",
   "execution_count": 1,
   "metadata": {},
   "outputs": [],
   "source": [
    "import numpy as np"
   ]
  },
  {
   "cell_type": "markdown",
   "metadata": {},
   "source": [
    "There are 4 ways to multiply a pair of vectors:\n",
    "1. Dot product\n",
    "2. Outer product\n",
    "3. Element-wise multiplication\n",
    "4. Cross product\n",
    "\n",
    "The Dot product is most important and covered the most in this chapter"
   ]
  },
  {
   "cell_type": "markdown",
   "metadata": {},
   "source": [
    "## 3.1 Dot Product"
   ]
  },
  {
   "cell_type": "markdown",
   "metadata": {},
   "source": [
    "- Dot products are 2 matrices multiplied element-wise, then sum all individual products.\n",
    "  - *note: Some textbooks use an actual dot symbol, but note that this book uses the superscript ^T for dot product.*\n",
    "- The result is always a scalar (1 number) and not a matrix.\n",
    "- The dot product of a vector with itself is its magnitude squared.\n",
    "- The vector dot product **does not** obey the **associative** property (you can't arbitrarily subdivide with parentheses).\n",
    "  - *note that matrix multiplication (covered later) **does** obey the associative property*.\n",
    "- The dot product **is** **commutative** (you can switch the order of terms e.g.: $$a^Tb = b^Ta$$\n",
    "- The dot product **is** **distributive** (scalars distribute inside parentheses e.g.: $$w^T(u+v) = w^Tu + w^Tv$$"
   ]
  },
  {
   "cell_type": "code",
   "execution_count": 2,
   "metadata": {},
   "outputs": [
    {
     "name": "stdout",
     "output_type": "stream",
     "text": [
      "94\n"
     ]
    }
   ],
   "source": [
    "v1 = np.array([2,5,4,7])\n",
    "v2 = np.array([4,1,0,2])\n",
    "dp = np.dot(v1, v1)\n",
    "print(dp)"
   ]
  },
  {
   "cell_type": "markdown",
   "metadata": {},
   "source": [
    "### Cauchy-Schwarz inequality\n",
    "$$|v^Tw| <= \\|v\\|*\\|w\\|$$\n",
    "\n",
    "- provides an upper bound for the dot product between 2 vectors\n",
    "- in English, this inequality says that the magnitude (absolute value) of the dot product between two vectors is no larger than the product of the norms of the individual vectors.  The expressions will equal each other when one vector is a scaled version of the other vector, that is, when $$v = \\lambda*w$$"
   ]
  },
  {
   "cell_type": "markdown",
   "metadata": {},
   "source": [
    "## 3.3 Vector Dot Product Geometry\n",
    "\n",
    "Geometrically, the dot product is the cosine of the angle between the two vectors, times the lengths (magnitudes) of the two vectors.\n",
    "\n",
    "$$a^Tb = \\|a\\| \\|b\\| \\cos(\\theta_{ab})$$\n",
    "*note that if both vectors have unit length (magnitude = 1) then the equation reduces to the cosine of the angle between the 2 vectors.*"
   ]
  },
  {
   "cell_type": "markdown",
   "metadata": {},
   "source": [
    "This formula can be rearranged in order to solve for the angle between 2 vectors\n",
    "\n",
    "**Pearson correlation coefficient:** (more on this in ch 18)\n",
    "$$\\cos(\\theta_{ab}) = \\frac{a^Tb}{\\|a\\| \\|b\\|}$$\n",
    "\n",
    "**Solved for angle:**\n",
    "$$\\theta_{ab} = \\cos^-1 \\frac{a^Tb}{\\|a\\| \\|b\\|}$$"
   ]
  },
  {
   "cell_type": "markdown",
   "metadata": {},
   "source": [
    "The sign (+/-) of the dot product between 2 vectors is determined entirely by the angle between the 2 vectors.  This is a powerful relationship and provides a geometric intuition for every application of the dot product (which are many).\n",
    "\n",
    "This is because lengths (magnitudes) are always a positive value, while cosine can range from -1 to 1."
   ]
  },
  {
   "cell_type": "markdown",
   "metadata": {},
   "source": [
    "### Dot Product Categories\n",
    "We can group dot products into 5 categories based on the angle:\n",
    "\n",
    "**1. Acute**  \n",
    "The cosine of an acute angle is always positive, so the dot product will be positive.\n",
    "$$\\theta < 90^\\circ \\rightarrow \\alpha > 0$$\n",
    "\n",
    "**2. Obtuse**  \n",
    "The cosine of an obtuse angle is always negative, so the dot product will be negative.\n",
    "$$\\theta > 90^\\circ \\rightarrow \\alpha < 0$$\n",
    "\n",
    "**3. Right angle / orthogonal**  \n",
    "The cosine of a right angle is 0, so the dot product will always be 0, regardless of the magnitudes.  \n",
    "This is sucn an important case that it has its own name **orthogonal**.\n",
    "$$\\theta = 90^\\circ \\rightarrow \\alpha = 0$$\n",
    "\n",
    "**4. Collinear (same direction)**  \n",
    "The cosine of 0 is 1, so the dot product reduces to the product of the magnitudes.  \n",
    "The term for this situation is **collinear** (meaning on the same line).\n",
    "$$\\theta = 0^\\circ \\rightarrow \\alpha = \\|a\\| \\|b\\|$$\n",
    "\n",
    "**5. Collinear (opposite direction)**  \n",
    "Basically the same as #4 above, but with a negative sign because cos(180) = -1.  \n",
    "This is also **collinear** but note that the 2 vectors will point in opposite directions.\n",
    "$$\\theta = 180^\\circ \\rightarrow \\alpha = -\\|a\\| \\|b\\|$$"
   ]
  },
  {
   "cell_type": "markdown",
   "metadata": {},
   "source": [
    "![Dot Product Categories](img/03-dot-product-categories.jpeg)"
   ]
  },
  {
   "cell_type": "markdown",
   "metadata": {},
   "source": [
    "## 3.4 Algebraic and geometric equivalence"
   ]
  },
  {
   "cell_type": "markdown",
   "metadata": {},
   "source": [
    "continue here..."
   ]
  }
 ],
 "metadata": {
  "interpreter": {
   "hash": "31f2aee4e71d21fbe5cf8b01ff0e069b9275f58929596ceb00d14d90e3e16cd6"
  },
  "kernelspec": {
   "display_name": "Python 3.8.9 64-bit",
   "language": "python",
   "name": "python3"
  },
  "language_info": {
   "codemirror_mode": {
    "name": "ipython",
    "version": 3
   },
   "file_extension": ".py",
   "mimetype": "text/x-python",
   "name": "python",
   "nbconvert_exporter": "python",
   "pygments_lexer": "ipython3",
   "version": "3.8.11"
  },
  "orig_nbformat": 4
 },
 "nbformat": 4,
 "nbformat_minor": 2
}
