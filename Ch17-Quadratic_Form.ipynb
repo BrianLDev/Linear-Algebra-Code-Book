{
 "cells": [
  {
   "cell_type": "markdown",
   "metadata": {},
   "source": [
    "# Chapter 17: Quadratic Form and Definiteness"
   ]
  },
  {
   "cell_type": "markdown",
   "metadata": {},
   "source": [
    "- content: pp. 521 - 542\n",
    "- exercises: pp. 543 - 548"
   ]
  },
  {
   "cell_type": "markdown",
   "metadata": {},
   "source": [
    "*note - after completing the notes for this chapter, the next time I opened the notebook it was empty except for the skeleton outline.  Very frustrating...  As time is limited and I hate to re-do work, notes will be less detailed than previously, and I will refer to the book more often.*"
   ]
  },
  {
   "cell_type": "markdown",
   "metadata": {},
   "source": [
    "## Intro"
   ]
  },
  {
   "cell_type": "markdown",
   "metadata": {},
   "source": [
    "- quadratic form combines math, geometry, art, data viz, multivariate signal processing, and statistics into one.\n",
    "- **IMPORTANT - The quadratic form only applies to square matrices**\n",
    "  - though the square matrices may be symmetric, non-symmetric, etc, it should be assumed that all matrices in this chapter are square."
   ]
  },
  {
   "cell_type": "markdown",
   "metadata": {},
   "source": [
    "## 17.1 Algebraic perspective"
   ]
  },
  {
   "cell_type": "markdown",
   "metadata": {},
   "source": [
    "- Imagine an MxM matrix and Mx1 column vector, what will happen when they are multiplied?\n",
    "  - post-multiplying will result in another Mx1 column vector.\n",
    "    - e.g. 5x5 @ 5x1 = 5x1\n",
    "  - pre-multiplying will result in a 1xM column vector.\n",
    "    - e.g. 1x5 @ 5x5 = 1x5\n",
    "- What happens when you pre and post multiply by the same vector?\n",
    "  - the result is a single number / a scalar\n",
    "    - e.g. 1x5 @ 5x5 @ 5x1 = 1x1 (a number / scalar)\n",
    "- this is nice because no matter how big the matrix is, it all boils down to a single number / scalar.\n",
    "- we'll call that number/scalar $\\zeta$ (\"zeta\")"
   ]
  },
  {
   "cell_type": "markdown",
   "metadata": {},
   "source": [
    "### Quadratic form of matrix A equation:"
   ]
  },
  {
   "cell_type": "markdown",
   "metadata": {},
   "source": [
    "$$v^TAv = \\zeta$$\n",
    "- this represents the \"energy\" in the matrix over the coordinate space described by vector $v$.\n",
    "  - \"energy\" will make more sense when we get to geometric perspective."
   ]
  },
  {
   "cell_type": "markdown",
   "metadata": {},
   "source": [
    "- Examples of quadratic form of matrix A:\n",
    "  - see p. 523 in the book\n",
    "- Key takeaways from examples:\n",
    "  - the matrix is always pre and post multiplied by the same vector\n",
    "  - the same matrix multiplied by different vectors will give different results"
   ]
  },
  {
   "cell_type": "markdown",
   "metadata": {},
   "source": [
    "### Generalizing the quadratic form using algebra"
   ]
  },
  {
   "cell_type": "markdown",
   "metadata": {},
   "source": [
    "#### 2x2 matrix:\n",
    "- for full proof, see p. 523\n",
    "$$ax^2 + (c+d)xy + dy^2)$$"
   ]
  },
  {
   "cell_type": "markdown",
   "metadata": {},
   "source": [
    "#### 3x3 matrix:\n",
    "- for full proof, see p. 524\n",
    "$$ax^2 + by^2 + cz^2 + 2dxz + 2eyz + 2fxyz$$"
   ]
  },
  {
   "cell_type": "markdown",
   "metadata": {},
   "source": [
    "#### 4x4 matrix:\n",
    "- for full proof, see p. 525\n",
    "$$aw^2 + ex^2 + hy^2 + jz^2 + 2bwx + 2cwy + 2dwz + 2fxy + 2gxz + 2iyz$$"
   ]
  },
  {
   "cell_type": "markdown",
   "metadata": {},
   "source": [
    "### Symmetric matrices\n",
    "- when the matrix is symmetric, then the quadratic form is also symmetric\n",
    "- this is easily proven by transposing the entire quadratic equation:\n",
    "$$(v^TAv)^T = v^TA^Tv^{TT} = v^TAv$$"
   ]
  },
  {
   "cell_type": "markdown",
   "metadata": {},
   "source": [
    "### Complex matrices\n",
    "- The quadratic form for complex-valued matrices is nearly the same as for real-valued matrices, except that the Hermitian transpose replaces the regular transpose:\n",
    "$$v^HAv = \\zeta$$\n",
    "- if the matrix $A$ is Hermitian (the complex version of symmetric, where $A^H=A$), then the quadratic form is real-valued.\n",
    "- non-Hermitian matrices will have complex-valued quadratic forms."
   ]
  },
  {
   "cell_type": "markdown",
   "metadata": {},
   "source": [
    "### Rectangular matrices\n",
    "- technically the quadratic form is valid for rectangular matrices, if the 1st and 2nd vectors differ.\n",
    "  - see proof on p. 526\n",
    "- the results are harder to interpret, because the left side is in a different space than the right side (e.g. $\\mathbb{R}^3$ vs $\\mathbb{R}^4$).\n",
    "- this situation is not further considered."
   ]
  },
  {
   "cell_type": "markdown",
   "metadata": {},
   "source": [
    "### Code"
   ]
  },
  {
   "cell_type": "code",
   "execution_count": 1,
   "metadata": {},
   "outputs": [
    {
     "data": {
      "text/plain": [
       "array([[1.18102611]])"
      ]
     },
     "execution_count": 1,
     "metadata": {},
     "output_type": "execute_result"
    }
   ],
   "source": [
    "import numpy as np\n",
    "m = 4\n",
    "A = np.random.randn(m, m)\n",
    "v = np.random.randn(m, 1) # column vector\n",
    "v.T @ A @ v"
   ]
  },
  {
   "cell_type": "markdown",
   "metadata": {},
   "source": [
    "### Reflection\n",
    "Notice that when $A=I$, the quadratic form reduces to the dot product of the vector with itself, which is the mabnitude-squared of the vector.  Thus, putting a different matrix in between the vecotrs is like using this matrix to modulate, or scale, the mabnitude of this vector.  In fact, this is the mechanism for measuring distance in several non-Euclidean geometries."
   ]
  },
  {
   "cell_type": "markdown",
   "metadata": {},
   "source": [
    "## 17.2 Geometric perspective"
   ]
  },
  {
   "cell_type": "markdown",
   "metadata": {},
   "source": []
  },
  {
   "cell_type": "markdown",
   "metadata": {},
   "source": [
    "## 17.3 The normalized Quadratic Form"
   ]
  },
  {
   "cell_type": "markdown",
   "metadata": {},
   "source": []
  },
  {
   "cell_type": "markdown",
   "metadata": {},
   "source": [
    "## 17.4 Eigenvectors and quadratic form surfaces"
   ]
  },
  {
   "cell_type": "markdown",
   "metadata": {},
   "source": []
  },
  {
   "cell_type": "markdown",
   "metadata": {},
   "source": [
    "## 17.5 Definiteness, geometry, and eigenvalues"
   ]
  },
  {
   "cell_type": "markdown",
   "metadata": {},
   "source": []
  },
  {
   "cell_type": "markdown",
   "metadata": {},
   "source": [
    "## 17.6 The definiteness of $A^TA$"
   ]
  },
  {
   "cell_type": "markdown",
   "metadata": {},
   "source": []
  },
  {
   "cell_type": "markdown",
   "metadata": {},
   "source": [
    "## 17.7 Eigenvalues and matrix definiteness"
   ]
  },
  {
   "cell_type": "markdown",
   "metadata": {},
   "source": []
  },
  {
   "cell_type": "markdown",
   "metadata": {},
   "source": [
    "## 17.8 - 17.9 Code Challenges"
   ]
  },
  {
   "cell_type": "markdown",
   "metadata": {},
   "source": [
    "1. Write code to create and visualize the quadratic form surfaces of 2x2 matrices."
   ]
  },
  {
   "cell_type": "code",
   "execution_count": null,
   "metadata": {},
   "outputs": [],
   "source": []
  },
  {
   "cell_type": "markdown",
   "metadata": {},
   "source": [
    "2. The goal of this code challenge is to explore the definiteness of random-integer matrices.  Start by writing code that generates a 4x4 matrix of random integers between -10 and +10, and that has all real-valued eigenvalues.  You *could* solve this by multiplying the matrix by its transpose, but that would limit the possibilities of definiteness categories.  Thus, continue creating random matrices until all 4 eigenvalues are real-valued.  Next, compute the definiteness category of the matrix.\n",
    "\n",
    "Once you have the code working, embed it inside a for-loop to generate 500 matrices.  Store the definiteness category for each matrix.  Finally, print out a list of the number of matrices in each definiteness category.  What have you discovered about the quadratic forms of random matrices?"
   ]
  },
  {
   "cell_type": "code",
   "execution_count": null,
   "metadata": {},
   "outputs": [],
   "source": []
  }
 ],
 "metadata": {
  "kernelspec": {
   "display_name": "Python 3.8.11 ('base')",
   "language": "python",
   "name": "python3"
  },
  "language_info": {
   "codemirror_mode": {
    "name": "ipython",
    "version": 3
   },
   "file_extension": ".py",
   "mimetype": "text/x-python",
   "name": "python",
   "nbconvert_exporter": "python",
   "pygments_lexer": "ipython3",
   "version": "3.8.13"
  },
  "orig_nbformat": 4,
  "vscode": {
   "interpreter": {
    "hash": "656cd6254c7b2065e00f01cfa19c07ca066e7d85ef474593a41f6dcc31570de2"
   }
  }
 },
 "nbformat": 4,
 "nbformat_minor": 2
}
