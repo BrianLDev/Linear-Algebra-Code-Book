{
 "cells": [
  {
   "cell_type": "markdown",
   "metadata": {},
   "source": [
    "# Chapter 10: Systems of Equations"
   ]
  },
  {
   "cell_type": "markdown",
   "metadata": {},
   "source": [
    "- content:  265 - 296\n",
    "- exercises:  297 - 300"
   ]
  },
  {
   "cell_type": "code",
   "execution_count": 1,
   "metadata": {},
   "outputs": [],
   "source": [
    "# import commonly used Python libraries\n",
    "import numpy as np\n",
    "from matplotlib import pyplot as plt"
   ]
  },
  {
   "cell_type": "markdown",
   "metadata": {},
   "source": [
    "- One of the great things about linear algebra is that it can provide compact notation for large collections of mathematical expressions, equations, variables, data, etc.\n",
    "- In this chapter, we will learn how to represent systems of equations using matrices and vectors, and how to solve those systems using linear algebra operations.\n",
    "- This knowledge will be central to a range of applications including matrix rank, the inverse, and least-squares statistical model fitting."
   ]
  },
  {
   "cell_type": "markdown",
   "metadata": {},
   "source": [
    "- What is an equation?  A statement of equality, typically with 1 or more unknown.  E.g. $2x=6$\n",
    "- A single equation doesn't require linear algebra to solve, but a system of equations does.\n",
    "\n",
    "Example of a system of equations:\n",
    "$$2x+3y-5z = 8$$\n",
    "$$-2y+2z = -3$$\n",
    "$$5x-4z = 3$$"
   ]
  },
  {
   "cell_type": "markdown",
   "metadata": {},
   "source": [
    "- It turns out that systems like this can be represented compactly using the form $Ax=b$\n",
    "- And this doesn't just save space, converting a system of many equations into 1 matrix equation leads to new and efficient ways of solving those equations."
   ]
  },
  {
   "cell_type": "markdown",
   "metadata": {},
   "source": [
    "## 10.1 Algebra and geometry of equations"
   ]
  },
  {
   "cell_type": "markdown",
   "metadata": {},
   "source": [
    "- algebraic equations have an associated picture.  e.g. $2x+3=11$ can be visualized with a point on the number line where $x=4$\n",
    "- An equation with 2 variables is a line in 2D space.  e.g. $2y=x+4$\n",
    "- Similarly, an equation with 3 variables has an associated 3D graph, and so on."
   ]
  },
  {
   "cell_type": "markdown",
   "metadata": {},
   "source": [
    "- So far, we've talked about individual equations.  What do *systems* of equations look like?  \n",
    "- Consider the following system of 2 equations with 2 variables:\n",
    "$$y=x/2+2$$\n",
    "$$y=-x+4$$\n",
    "- If one 2-variable equation is a line, then two 2-variable equations is 2 lines.\n",
    "- The point where the 2 lines intersect is teh solution to both equations.\n",
    "- In the above case, the solution is $(x,y)=(4/3,8/3)$"
   ]
  },
  {
   "cell_type": "markdown",
   "metadata": {},
   "source": [
    "- As we konw, when one side of equations are modified, the other side of the equation must be modified as well.  Similarly, with systems of equations, if 1 equation is modified, the other equations must be modified as well.\n",
    "- But having systems of equatinos allows you to do something more: you may add and subtract entire equations from each other (this is analogous to multiplying the left-hand side by 8 and the right-hand side by \"4x2\")\n",
    "- Let's try this using the above equations.  (transform the 1st equation to be itself minus the 2nd equation):\n",
    "$$0y=3x/2-2$$\n",
    "$$y=-x+4$$\n",
    "- next we'll replace the 2nd equation by itself plus 2 times the original first equation\n",
    "$$0y=3x/2-2$$\n",
    "$$3y=0x+8$$\n",
    "- At first glance, this system of equations seems very different than the original, but what happens when we graph the lines?\n",
    "- The 2 new lines (one horizontal, one vertical) intersect at the exact same point!\n",
    "- So **even though the lines are different, the solution remains the same**: $(x,y)=(4/3,8/3)$"
   ]
  },
  {
   "cell_type": "markdown",
   "metadata": {},
   "source": [
    "- The conclusion here is that you can take a system of equations, scalar multiply individual equations, and add or subtract equations from each other, to your heart's delight.\n",
    "- The individual equations--and the lines representing those equations--will change, but the point of intersection will remain exactly the same (excluding multiplying by 0, but let's ignore that obvious case)\n",
    "- This is an extremely powerful tactic, because you can manipulate equations into ones that are much easier for humans to solve.\n",
    "- That is the principle behind Gaussian elimination and row-recution which we will cover later in this chapter."
   ]
  },
  {
   "cell_type": "markdown",
   "metadata": {},
   "source": [
    "- Do all systems have a common algebraic solution and unique geometric crossing?  No, definitely not.\n",
    "- A system of 2D equations like the one above can either have 1) one intersecting point (most common), 2) no points in common (parallel lines), or 3) infinite number of points in common (identical lines)."
   ]
  },
  {
   "cell_type": "markdown",
   "metadata": {},
   "source": [
    "## 10.2 Matrices representing systems of equations"
   ]
  },
  {
   "cell_type": "markdown",
   "metadata": {},
   "source": [
    "- Converting a system of equations into a matrix equation is straight-forward, and requires an understanding of the 3 components that together define a system of equations:\n",
    "1. **Variables**: These are the unknowns that you want to solve for (x, y, etc)\n",
    "2. **Coefficients:**  These are the numbers that multiply the variables. There is one coefficient per variable. If the variable is sitting by itself, then the coefficient is 1.  If the variable is not present, then the coefficient is 0.\n",
    "3. **Constants:**  These are the numbers that do not multiply variables.  Every equation has one constant (which might be 0)."
   ]
  },
  {
   "cell_type": "markdown",
   "metadata": {},
   "source": [
    "Example:\n",
    "\n",
    "$2x+3y-4z=5$\n",
    "- variables: x, y, z\n",
    "- coefficients: 2, 3, -4\n",
    "- constant: 5"
   ]
  },
  {
   "cell_type": "markdown",
   "metadata": {},
   "source": [
    "### Components to matrices"
   ]
  },
  {
   "cell_type": "markdown",
   "metadata": {},
   "source": [
    "Once you've identified the components of a system, you put those components into matrices:\n",
    "\n",
    "1. The coefficients go into the coefficients matrix, with columns corresponding to variables and with rows corresponding to equations\n",
    "2. The variables go into a column vector that right-multiplies the coefficients matrix.  Importantly, the order of variables in this vecot rmust match the order of variables in the columns of the matrix.\n",
    "3. The coefficients matrix and variables vector are on the left-hand side of the equation.  The constants go into a column vector on the right hand side of the equation, with the number of elements in the vector corresponding to the number of equations.  Of course, the nth element in the constants vector must correspond to the nth equation in the coefficients matrix."
   ]
  },
  {
   "cell_type": "markdown",
   "metadata": {},
   "source": [
    "Example:\n",
    "\n",
    "$$\n",
    "\\begin{Bmatrix}\n",
    "2x + 3y - 5z = 8 \\\\\n",
    "-2y + 2z + 2 = -1\n",
    "\\end{Bmatrix}\n",
    "$$\n",
    "\n",
    "can be converted into matrix form of:\n",
    "$$\n",
    "\\begin{bmatrix}\n",
    "2 & 3 & -5 \\\\\n",
    "0 & -2 & 2\n",
    "\\end{bmatrix}\n",
    "\\begin{bmatrix}\n",
    "x \\\\\n",
    "y \\\\\n",
    "z\n",
    "\\end{bmatrix}\n",
    "=\n",
    "\\begin{bmatrix}\n",
    "8 \\\\\n",
    "3\n",
    "\\end{bmatrix}\n",
    "$$"
   ]
  },
  {
   "cell_type": "markdown",
   "metadata": {},
   "source": [
    "- remember to include a coefficient of 0 for missing matrices\n",
    "- all loose constants should be combined into 1 constant"
   ]
  },
  {
   "cell_type": "markdown",
   "metadata": {},
   "source": [
    "### Reflection:\n",
    "- Sometimes, the biggest challenge in data analysis and modeling is figuring out how to represent a problem using equations; the rest is usually just a matter of algebra and number crunching.\n",
    "- Indeed, the translation from real-world problem to matrix equation is rarely trivial, and sometimes impossible.  In this case, representing a system of equations as matrix-vector multiplication leads to the compact and simplified notation: $Ax=b$.  And this form leads to an equally compact solution via the least-squares algorithm (covered in Ch 14)."
   ]
  },
  {
   "cell_type": "markdown",
   "metadata": {},
   "source": [
    "## 10.3 Row reduction, echelon form, and pivots"
   ]
  },
  {
   "cell_type": "markdown",
   "metadata": {},
   "source": [
    "Note: I've covered this before in previous Linear algebra courses so for the sake of time and brevity I'll be taking briefer notes for the rest of the chapter, only highlighting key points."
   ]
  },
  {
   "cell_type": "markdown",
   "metadata": {},
   "source": [
    "- Row reduction involves modifying rows of a matrix while leaving many key properties (i.e. relationships) of the matrix intact.\n",
    "- \"Transforming the matrix to facilitate analyses\" basically means increasing the number of zeros in the matrix.  The more zeros a matrix has, the easier and faster it is to work with.\n",
    "- So think of row-reduction as reorganizing a matrix to increase the zero-values entries."
   ]
  },
  {
   "cell_type": "markdown",
   "metadata": {},
   "source": [
    "### Echelon form"
   ]
  },
  {
   "cell_type": "markdown",
   "metadata": {},
   "source": [
    "- A matrix is in echelon form when the following two criteria are satisfied:\n",
    "1. The first non-zero number in each row is to the right of the first non-zero numbers in the rows above.\n",
    "2. Rows of all zeros are below rows with at least one non-zero element.\n",
    "\n",
    "(i.e. aim for non-zeros in upper right diagonal)\n",
    "\n",
    "Examples:\n",
    "$$\n",
    "\\begin{bmatrix}\n",
    "2 & 4 & 5 \\\\\n",
    "0 & 1 & 3 \\\\\n",
    "0 & 0 & 9\n",
    "\\end{bmatrix},\n",
    "\\begin{bmatrix}\n",
    "4 & 3 & 0 \\\\\n",
    "0 & 0 & 2 \\\\\n",
    "0 & 0 & 0\n",
    "\\end{bmatrix},\n",
    "\\begin{bmatrix}\n",
    "2 & 5 & 0 & 0 \\\\\n",
    "0 & 0 & 2 & 0 \\\\\n",
    "0 & 0 & 0 & 9\n",
    "\\end{bmatrix},\n",
    "\\begin{bmatrix}\n",
    "4 & 1 \\\\\n",
    "0 & 1 \\\\\n",
    "0 & 0 \\\\\n",
    "0 & 0\n",
    "\\end{bmatrix}\n",
    "$$"
   ]
  },
  {
   "cell_type": "markdown",
   "metadata": {},
   "source": [
    "- To get into reduced row echelon form, manipulate rows by adding or subtracting scaled versions of other row\n",
    "- note: if any rows are linearly dependent, they will end up as a row of all zeros.\n",
    "  - This can be very helpful in calculating the rank of a matrix."
   ]
  },
  {
   "cell_type": "markdown",
   "metadata": {},
   "source": [
    "### A few tips for row reduction:\n"
   ]
  },
  {
   "cell_type": "markdown",
   "metadata": {},
   "source": [
    "1. Divide an entire row by a scalar to make the left-most non-zero number equal 1.\n",
    "$$\n",
    "\\begin{bmatrix}\n",
    "3 & 6 & 9 \\\\\n",
    "...\n",
    "\\end{bmatrix}\n",
    "\\rightarrow\n",
    "\\begin{bmatrix}\n",
    "1 & 2 & 3 \\\\\n",
    "...\n",
    "\\end{bmatrix}\n",
    "$$\n",
    "\n",
    "2. Multiply a row by a scalar to facilitate eliminating elements\n",
    "\n",
    "3. Multiply a row by a scalar to get rid of difficult fractions"
   ]
  },
  {
   "cell_type": "markdown",
   "metadata": {},
   "source": [
    "### Keeping track of row reduction"
   ]
  },
  {
   "cell_type": "markdown",
   "metadata": {},
   "source": [
    "- Changes to a matrix are reversible if you keep track of them\n",
    "- We can consolidate all the changes to a matrix in another matrix: the $R$ matrix\n",
    "- Note that if information can be lost if we do not keep track of changes, but by using an $R$ matrix to track changes, no info is lost\n",
    "- In simple cases, we don't really need to keep track of changes, but for more complex changes and permutations, it becomes vital."
   ]
  },
  {
   "cell_type": "markdown",
   "metadata": {},
   "source": [
    "### Exhanging rows in a matrix"
   ]
  },
  {
   "cell_type": "markdown",
   "metadata": {},
   "source": [
    "- exchanging rows of a matrix is a linear transformation--sometimes called a *permutation* since we are permuting the row order--which means it can be expressed as matrix multiplication.\n",
    "- The way to do this is to manipulate the identity matrix for the rows you want to exchange\n",
    "- for example, if we want to exchange the 1st and 2nd rows of a 3x3 matrix, create matrix $P$ which is the identity matrix with the first 2 rows exchanged/swapped:\n",
    "$$\n",
    "PA=\n",
    "\\begin{bmatrix}\n",
    "0 & 1 & 0 \\\\\n",
    "1 & 0 & 1 \\\\\n",
    "0 & 0 & 1\n",
    "\\end{bmatrix}\n",
    "\\begin{bmatrix}\n",
    "1 & 2 & 3 \\\\\n",
    "4 & 5 & 6 \\\\\n",
    "7 & 8 & 9\n",
    "\\end{bmatrix}\n",
    "=\n",
    "\\begin{bmatrix}\n",
    "4 & 5 & 6 \\\\\n",
    "1 & 2 & 3 \\\\\n",
    "7 & 8 & 9\n",
    "\\end{bmatrix}\n",
    "$$"
   ]
  },
  {
   "cell_type": "markdown",
   "metadata": {},
   "source": [
    "- note that this can be a good example of how matrix multiplication is non-commutative.\n",
    "- if we take the above example and right multiply, then we exchange columns instead of rows\n",
    "$$\n",
    "AP=\n",
    "\\begin{bmatrix}\n",
    "1 & 2 & 3 \\\\\n",
    "4 & 5 & 6 \\\\\n",
    "7 & 8 & 9\n",
    "\\end{bmatrix}\n",
    "\\begin{bmatrix}\n",
    "0 & 1 & 0 \\\\\n",
    "1 & 0 & 1 \\\\\n",
    "0 & 0 & 1\n",
    "\\end{bmatrix}\n",
    "=\n",
    "\\begin{bmatrix}\n",
    "2 & 1 & 3 \\\\\n",
    "5 & 4 & 6 \\\\\n",
    "8 & 7 & 9\n",
    "\\end{bmatrix}\n",
    "$$"
   ]
  },
  {
   "cell_type": "markdown",
   "metadata": {},
   "source": [
    "#### Order of matrices for transorming rows vs. columns\n",
    "Using the mnemonic from previous chapters will help remember order of matrices when multiplying left vs. right for rows vs. columns:"
   ]
  },
  {
   "cell_type": "markdown",
   "metadata": {},
   "source": [
    "- P**R**e-multiply to transform **R**ows\n",
    "\n",
    "- P**O**st-multiply to transform c**O**lumns"
   ]
  },
  {
   "cell_type": "markdown",
   "metadata": {},
   "source": [
    "### Pivots"
   ]
  },
  {
   "cell_type": "markdown",
   "metadata": {},
   "source": [
    "- AFter putting the matrix into echelon form (non-zero upper right diagonal), the pivots are the left-most non-zero elements in each row\n",
    "- Not every row has a pivot and not every column has a pivot.\n",
    "- A zero cannot be a pivot\n",
    "- The pivots of a matrix are generally not known/visible before transforming into echelon form."
   ]
  },
  {
   "cell_type": "code",
   "execution_count": 2,
   "metadata": {},
   "outputs": [
    {
     "name": "stdout",
     "output_type": "stream",
     "text": [
      "[[1. 0. 0.]\n",
      " [0. 1. 0.]\n",
      " [0. 0. 1.]]\n",
      "[[ 1.          0.          0.        ]\n",
      " [-0.23713341  1.          0.        ]\n",
      " [-0.22031483 -0.54649913  1.        ]]\n",
      "[[-1.25500948  0.0788026   0.76348943]\n",
      " [ 0.         -1.61259837 -0.44079618]\n",
      " [ 0.          0.         -2.22865359]]\n"
     ]
    }
   ],
   "source": [
    "# Lower/upper decomposition\n",
    "# \"LU\" stands for lower-upper, and is a decomposition that represents a matrix of 2 triangular matrices\n",
    "A = np.random.randn(3,3)\n",
    "from scipy.linalg import lu\n",
    "P,L,U = lu(A)\n",
    "print(P)\n",
    "print(L)\n",
    "print(U)"
   ]
  },
  {
   "cell_type": "markdown",
   "metadata": {},
   "source": [
    "### Pivot-counting and rank\n",
    "- The rank of a matrix is the number of pivots in the echelon form of that matrix.\n",
    "- any linearly dependent rows get zero'd out via row reduction and we are left with the linearly independent rows\n",
    "- So the echelon form \"cleans up\" the matrix to reveal the dimensionality of the row space and therefore the rank of the matrix."
   ]
  },
  {
   "cell_type": "markdown",
   "metadata": {},
   "source": [
    "### Non-uniqueness of the echelon form\n",
    "- Do you always get the *exact* same echelon matrices that I got in all the exercises above?  Maybe, but you might have also gotten somewhat different results.\n",
    "- The echelon form of a matrix is non-unique.  This means that there are multiple equally valid versions of echelon form reduced matrices."
   ]
  },
  {
   "cell_type": "markdown",
   "metadata": {},
   "source": [
    "## 10.4 Gaussian elimination"
   ]
  },
  {
   "cell_type": "markdown",
   "metadata": {},
   "source": [
    "- Gaussian elimination is one version of row reduction to solving a system of equations.\n",
    "- First, we will convert the system of equations into matrix form as done in previous sections with a few modifications as follows:\n",
    "\n",
    "1. Augment the coefficients matrix by the constants vector.\n",
    "2. Row-reduce to echelon form\n",
    "3. Apply back-substitution to solve the system. (i.e. revert to original equation format and solve for variables)"
   ]
  },
  {
   "cell_type": "markdown",
   "metadata": {},
   "source": [
    "Example:\n",
    "\n",
    "$$\n",
    "\\begin{Bmatrix}\n",
    "2x + 3y = 8 \\\\\n",
    "-2x + 2y = -3\n",
    "\\end{Bmatrix}\n",
    "$$\n",
    "\n",
    "1. Augment the coefficients matrix by the constants vector\n",
    "$$\n",
    "\\begin{bmatrix}\n",
    "2 & 3 & | & 8 \\\\\n",
    "-2 & 2 & | & -3\n",
    "\\end{bmatrix}\n",
    "$$\n",
    "\n",
    "2. Row-reduce to echelon form\n",
    "$$\n",
    "\\begin{bmatrix}\n",
    "2 & 3 & | & 8 \\\\\n",
    "0 & 5 & | & 5\n",
    "\\end{bmatrix}\n",
    "$$\n",
    "simplify row 2 further by dividing by 5\n",
    "$$\n",
    "\\begin{bmatrix}\n",
    "2 & 3 & | & 8 \\\\\n",
    "0 & 1 & | & 1\n",
    "\\end{bmatrix}\n",
    "$$\n",
    "\n",
    "3. Apply back-substitution to solve the system. (i.e. revert to original equation format and solve for variables)\n",
    "$$\n",
    "\\begin{Bmatrix}\n",
    "2x + 3y = 8 \\\\\n",
    "y = 1\n",
    "\\end{Bmatrix}\n",
    "$$\n",
    "\n",
    "**SOLUTION:**\n",
    "$$(x, y) = (5/2, 1)$$"
   ]
  },
  {
   "cell_type": "markdown",
   "metadata": {},
   "source": [
    "## 10.5 Row-reduced echelon form"
   ]
  },
  {
   "cell_type": "markdown",
   "metadata": {},
   "source": [
    "- Often abbreviated as RREF, this is row reduction taken to the extreme!\n",
    "- The goal is to continue row reduction until all pivot points have a value of 1 and each pivot is the only non-zero element of the row\n",
    "\n",
    "Steps to produce RREF:\n",
    "1. Transform a matrix into its echelon form as described earlier.\n",
    "2. For each row that contains a pivot:  \n",
    "  a. Divide that row by its pivot, which converts the pivot into the number 1.  \n",
    "  b. Apply row-reduction but work upwards instead of downwards.  That is, use row-reduction to produce zeros in teh elements above the pivot.  Continue \"upwards row-recution\" until the pivot is the only non-zero element in its column.\n",
    "\n",
    "- it is often useful to apply step 2 from the bottom row of the matrix to the top.\n",
    "- i.e. to obtain echelon form of the matrix, work from top row to bottom, then to obtain the RREF, work from the bottom row (or last row with pivots) up to the top."
   ]
  },
  {
   "cell_type": "markdown",
   "metadata": {},
   "source": [
    "Examples:\n",
    "\n",
    "$$\n",
    "\\begin{bmatrix}\n",
    "1 & 2 & 3 \\\\\n",
    "4 & 5 & 6 \\\\\n",
    "7 & 8 & 9\n",
    "\\end{bmatrix}\n",
    "\\Rightarrow\n",
    "\\begin{bmatrix}\n",
    "1 & 0 & -1 \\\\\n",
    "0 & 1 & 2 \\\\\n",
    "0 & 0 & 0\n",
    "\\end{bmatrix}\n",
    "$$\n",
    "$$\n",
    "\\begin{bmatrix}\n",
    "5 & 2 & 1 & 0 & 4 \\\\\n",
    "4 & 1 & 5 & 6 & 3 \\\\\n",
    "2 & 1 & 9 & 0 & 4\n",
    "\\end{bmatrix}\n",
    "\\Rightarrow\n",
    "\\begin{bmatrix}\n",
    "1 & 0 & 0 & 3.4 & -.03 \\\\\n",
    "0 & 1 & 0 & -8.6 & 1.967 \\\\\n",
    "0 & 0 & 1 & .2 & .233\n",
    "\\end{bmatrix}\n",
    "$$\n",
    "$$\n",
    "\\begin{bmatrix}\n",
    "1 & 2 \\\\\n",
    "6 & 2 \\\\\n",
    "4 & 7 \\\\\n",
    "1 & 7\n",
    "\\end{bmatrix}\n",
    "\\Rightarrow\n",
    "\\begin{bmatrix}\n",
    "1 & 0 \\\\\n",
    "0 & 1 \\\\\n",
    "0 & 0 \\\\\n",
    "0 & 0\n",
    "\\end{bmatrix}\n",
    "$$\n",
    "$$\n",
    "\\begin{bmatrix}\n",
    "1 & 2 & 3 \\\\\n",
    "4 & 1 & 2 \\\\\n",
    "6 & 4 & 2\n",
    "\\end{bmatrix}\n",
    "\\Rightarrow\n",
    "\\begin{bmatrix}\n",
    "1 & 0 & 0 \\\\\n",
    "0 & 1 & 0 \\\\\n",
    "0 & 0 & 1\n",
    "\\end{bmatrix}\n",
    "$$"
   ]
  },
  {
   "cell_type": "markdown",
   "metadata": {},
   "source": [
    "- each system has a unique RREF, but many different matrix systems can lead to the same RREF"
   ]
  },
  {
   "cell_type": "code",
   "execution_count": 3,
   "metadata": {},
   "outputs": [
    {
     "data": {
      "text/plain": [
       "(Matrix([\n",
       " [1, 0, 0.653368052064143, -1.24951016350731],\n",
       " [0, 1,  -2.1094073038511, 0.309249655951786]]),\n",
       " (0, 1))"
      ]
     },
     "execution_count": 3,
     "metadata": {},
     "output_type": "execute_result"
    }
   ],
   "source": [
    "# computing the RREF.\n",
    "# note: in Python, first convert the matrix into a sympy matrix.\n",
    "import sympy as sym\n",
    "A = np.random.randn(2, 4)\n",
    "sym.Matrix(A).rref()"
   ]
  },
  {
   "cell_type": "markdown",
   "metadata": {},
   "source": [
    "## 10.6 Gauss-Jordan elimination"
   ]
  },
  {
   "cell_type": "markdown",
   "metadata": {},
   "source": [
    "- Gauss-Jordan elimination is like a super-charged version of Gaussian elimination.\n",
    "- It's basically the same procedure as above, exception you modify step 2: instead of row reducing the coefficients-constants augmented matrix to its echelon form, you row-reduce the matrix to its RREF.\n",
    "- This row reduction takes a bit longer, but the back-substitution becomes *much* easier.\n",
    "\n",
    "Example:\n",
    "$$\n",
    "\\begin{bmatrix}\n",
    "2 & 3 & | & 8 \\\\\n",
    "0 & 1 & | & 1\n",
    "\\end{bmatrix}\n",
    "\\rightarrow\n",
    "\\begin{bmatrix}\n",
    "2 & 0 & | & 5 \\\\\n",
    "0 & 1 & | & 1\n",
    "\\end{bmatrix}\n",
    "\n",
    "\\rightarrow\n",
    "\\begin{bmatrix}\n",
    "1 & 0 & | & 5/2 \\\\\n",
    "0 & 1 & | & 1\n",
    "\\end{bmatrix}\n",
    "$$\n",
    "\n",
    "Now, the solution becomes obvious:\n",
    "$$(x, y) = (5/2, 1)$$"
   ]
  },
  {
   "cell_type": "markdown",
   "metadata": {},
   "source": [
    "## 10.7 Possibilities for solutions"
   ]
  },
  {
   "cell_type": "markdown",
   "metadata": {},
   "source": [
    "As mentioned earlier, there are 3 possible solutions:\n",
    "\n",
    "1. The system has no solutions (in 2D, the lines are parallel)\n",
    "2. The system has exactly one unique solution (in 2D, the lines cross at a point = any non-parallel, non-collinear lines)\n",
    "3. The system has an infinite number of solutions (in 2D, the lines are collinear / identical)"
   ]
  },
  {
   "cell_type": "markdown",
   "metadata": {},
   "source": [
    "### No solution (figure 10.5A on p. 292)\n",
    "- In a 2D system, geometrically, the lines never touch.  That means the lines in the system are parallel to each other.\n",
    "- mapping an RREF of equations with no solution will provide nonsense results like $0=1$\n",
    "- i.e. if the system provides inconsistent / illogical answers, then it has no solution"
   ]
  },
  {
   "cell_type": "markdown",
   "metadata": {},
   "source": [
    "### Unique solution\n",
    "- In a 2D system, the lines will cross at 1 specific point\n",
    "- This is the majority of the cases and the examples we worked through in this chapter"
   ]
  },
  {
   "cell_type": "markdown",
   "metadata": {},
   "source": [
    "### Infinite solutions\n",
    "- In 2D systems, the lines overlap with each other (they are collinear)\n",
    "- This happens when there is only 1 linearly independent row, and all other rows are simply linear transformations of that row\n",
    "- This is not really a \"system\" anymore, it's actually just 1 equation"
   ]
  },
  {
   "cell_type": "markdown",
   "metadata": {},
   "source": [
    "## 10.8 Matrix spaces after row reduction"
   ]
  },
  {
   "cell_type": "markdown",
   "metadata": {},
   "source": [
    "- Row-reduction has implications for the span of matrix subspaces\n",
    "- The main take-home message here is that row reduction does not affect the row space of a matrix, but it can *drastically* affect the column space of the matrix.  On the other hand, the dimensionalitities of the matrix do not change."
   ]
  },
  {
   "cell_type": "markdown",
   "metadata": {},
   "source": [
    "### Rank\n",
    "- As we know, rank is a property of a matrix, not of rows or columns.\n",
    "- The rank doesn't change before vs. after row-reduction.\n",
    "- In fact, row-reduction makes the rank much easier to compute (count the pivots)"
   ]
  },
  {
   "cell_type": "markdown",
   "metadata": {},
   "source": [
    "### Row space\n",
    "- This doesn't change after row reduction\n",
    "- Why? Because a row subspace includes all linear combinations of the rows. And since a row reduced matrix is simply linear combinations of the matrix, then the subspace remains the same.\n",
    "- The only characteristic of the row space that *could* change is the basis vectors: if you take the rows of the matrix (possibly sub-selecting to get a linearly independent set) as a basis for the row space, then row reduction will change the basis vectors.  But those are just different vectors that span the same space; the subspace spanned by the rows is unchanged before, during, and after row reduction."
   ]
  },
  {
   "cell_type": "markdown",
   "metadata": {},
   "source": [
    "### Column space\n",
    "- The column space actually can change during row reduction\n",
    "- First off, the dimensionality of a column space does not change with row reduction (since the rank doesn't change)\n",
    "- But what can change is the actual subspace that is spanned by the columns.  This can happen when the column space occupies a lower-dimensional subspace of the ambient space in which the columns live.\n",
    "- The reason is that *row* reduction involves changing entire *rows* at a time; individual elements of a column will change while other elements in the same column stay the same."
   ]
  },
  {
   "cell_type": "markdown",
   "metadata": {},
   "source": [
    "### Take-home message on matrix spaces after row-reduction\n",
    "Row reduction...\n",
    "1. does not affect the rank or the dimensionalitities of the matrix subspaces\n",
    "2. does not change the row space, and\n",
    "3. can (but does not necessarily) change the column space."
   ]
  },
  {
   "cell_type": "markdown",
   "metadata": {},
   "source": [
    "## 10.9 - 10.10 Exercises"
   ]
  },
  {
   "cell_type": "markdown",
   "metadata": {},
   "source": [
    "do in group discussion?"
   ]
  },
  {
   "cell_type": "markdown",
   "metadata": {},
   "source": [
    "## 10.11 - 10.12 Code Challenges"
   ]
  },
  {
   "cell_type": "markdown",
   "metadata": {},
   "source": [
    "do in group discussion?"
   ]
  },
  {
   "cell_type": "markdown",
   "metadata": {},
   "source": []
  }
 ],
 "metadata": {
  "kernelspec": {
   "display_name": "Python 3.8.11 ('base')",
   "language": "python",
   "name": "python3"
  },
  "language_info": {
   "codemirror_mode": {
    "name": "ipython",
    "version": 3
   },
   "file_extension": ".py",
   "mimetype": "text/x-python",
   "name": "python",
   "nbconvert_exporter": "python",
   "pygments_lexer": "ipython3",
   "version": "3.8.11"
  },
  "orig_nbformat": 4,
  "vscode": {
   "interpreter": {
    "hash": "656cd6254c7b2065e00f01cfa19c07ca066e7d85ef474593a41f6dcc31570de2"
   }
  }
 },
 "nbformat": 4,
 "nbformat_minor": 2
}
