{
 "cells": [
  {
   "cell_type": "markdown",
   "metadata": {},
   "source": [
    "# Chapter 12: Matrix Inverse"
   ]
  },
  {
   "cell_type": "markdown",
   "metadata": {},
   "source": [
    "- content: pp. 327 - 354\n",
    "- exercises: pp. 355 - 362"
   ]
  },
  {
   "cell_type": "code",
   "execution_count": 2,
   "metadata": {},
   "outputs": [],
   "source": [
    "# import commonly used python libraries\n",
    "import numpy as np\n",
    "from matplotlib import pyplot as plt"
   ]
  },
  {
   "cell_type": "markdown",
   "metadata": {},
   "source": [
    "## 12.1 Concepts and applications"
   ]
  },
  {
   "cell_type": "markdown",
   "metadata": {},
   "source": [
    "- reminder: matrix division doesn't exist per se, but you can perform a similar action by multiplying a matrix by its inverse.\n",
    "- not all numbers have inverses (i.e. you can't divide by 0)"
   ]
  },
  {
   "cell_type": "markdown",
   "metadata": {},
   "source": [
    "### Matrix inverse concepts"
   ]
  },
  {
   "cell_type": "markdown",
   "metadata": {},
   "source": [
    "- The matrix inverse is a matrix that multiples another matrix such that the product is the identity matrix. This is because the identity matrix is the analog of the number 1.\n",
    "$$A^{-1}A=I$$"
   ]
  },
  {
   "cell_type": "markdown",
   "metadata": {},
   "source": [
    "- here is an example application of matrix inverse:\n",
    "$$Ax = b$$\n",
    "$$A^{-1}Ax = A^{-1}b$$\n",
    "$$Ix = A^{-1}b$$\n",
    "$$x = A^{-1}b$$"
   ]
  },
  {
   "cell_type": "markdown",
   "metadata": {},
   "source": [
    "- **IMPORTANT:** Because matrix multiplication is non-commutative (i.e. $AB \\neq BA$), you need to be mindful to multiply both sides of the equation by the matrix inverse on the same side.\n",
    "- e.g. the following equation is **WRONG**:\n",
    "$$A^{-1}Ax = bA^{-1}$$"
   ]
  },
  {
   "cell_type": "markdown",
   "metadata": {},
   "source": [
    "### Inverting the inverse"
   ]
  },
  {
   "cell_type": "markdown",
   "metadata": {},
   "source": [
    "- because the inverse is unique, it can be undone / reversed.\n",
    "- Therefore:\n",
    "$$(A^{-1})^{-1} = A$$"
   ]
  },
  {
   "cell_type": "markdown",
   "metadata": {},
   "source": [
    "### Transpose and inverse"
   ]
  },
  {
   "cell_type": "markdown",
   "metadata": {},
   "source": [
    "- inverting the inverse is remininiscent of double transposing a matrix ($A^{TT}=A$), but transpose and inverse are completely different operations.\n",
    "  - *note: there is actually a special kind of matrix called an orthogonal matrix for which the inverse equals the transpose (covered in next chapter) but for most cases they are not the same.*\n",
    "- That said, the inverse and transpose do have a special relationship where the transpose of the inverse equals the inverse of the transpose:\n",
    "$$(A^{-1})^T = (A^T)^{-1} = A^{-T}$$"
   ]
  },
  {
   "cell_type": "markdown",
   "metadata": {},
   "source": [
    "### Conditions for invertibility"
   ]
  },
  {
   "cell_type": "markdown",
   "metadata": {},
   "source": [
    "- just like not all numbers have an inverse, not all matrices have an inverse.\n",
    "- in fact, many (or perhaps most) matrices that you will work with in practical applications are not invertible.\n",
    "- *note: remember that square matrices without an inverse are called singular / reduced-rank, or rank-deficient.*"
   ]
  },
  {
   "cell_type": "markdown",
   "metadata": {},
   "source": [
    "A matrix has a full inverse matrix if the following criteria are met:\n",
    "1. It is square\n",
    "2. It is full-rank"
   ]
  },
  {
   "cell_type": "markdown",
   "metadata": {},
   "source": [
    "- what does a \"full\" matrix inverse mean? It means you can put the inverse on either side of the matrix and still get the identity matrix:\n",
    "  - thus, the full matrix inverse is one of the few exceptions to matrix multiplication commutitivity.\n",
    "$$AA^{-1} = A^{-1}A = I$$"
   ]
  },
  {
   "cell_type": "markdown",
   "metadata": {},
   "source": [
    "- some rectangular matrices have a \"one-sided\" inverse, if certain conditions are met.  One-sided inverses are non-commutative.\n",
    "- for example $AA^{-1} = I$ but $A^{-1}A \\neq I$\n",
    "- for this reason, the \"full inverse\" is also sometimes called the \"two-sided inverse\"."
   ]
  },
  {
   "cell_type": "markdown",
   "metadata": {},
   "source": [
    "### Remember to LIVE EVIL"
   ]
  },
  {
   "cell_type": "markdown",
   "metadata": {},
   "source": [
    "- quick reminder:\n",
    "$$(ABC)^{-1} = C^{-1}B^{-1}A^{-1}$$\n",
    "- however this is not as simple as it sounds: it is possible for the matrix product (ABC) to be invertible while the individual matrices are not invertible."
   ]
  },
  {
   "cell_type": "markdown",
   "metadata": {},
   "source": [
    "### Uniqueness of the matrix inverse"
   ]
  },
  {
   "cell_type": "markdown",
   "metadata": {},
   "source": [
    "- Every inverse is unique, meaning that **if a matrix has an inverse, it has exactly one inverse**\n",
    "- proof for this statement is provided on page 331-332"
   ]
  },
  {
   "cell_type": "markdown",
   "metadata": {},
   "source": [
    "### Inverse of a symmetric matrix"
   ]
  },
  {
   "cell_type": "markdown",
   "metadata": {},
   "source": [
    "- The inverse of a symmetric matrix is itself symmetric.\n",
    "- i.e. if $A = A^T$ then $A^{-1} = A^{-T}$\n",
    "- proof provided on page 332"
   ]
  },
  {
   "cell_type": "markdown",
   "metadata": {},
   "source": [
    "### Avoid the inverse when possible!"
   ]
  },
  {
   "cell_type": "markdown",
   "metadata": {},
   "source": [
    "- Important to note that the matrix inverse is great *in theory*.\n",
    "- When doing abstract paper-and-pencil work, you can invert matrices as much as you want, regardless of their size and content.\n",
    "- But in practice, computing the inverse of a matrix on a computer is difficult and can be wrought with numerical inaccuracies and rounding errors.\n",
    "- Thus, **in practical computer applications of linear algebra, you should avoid using the explicit inverse unless it is absolutely necessary!**\n",
    "- Computer scientists have worked hard to develop algorithms that solve problems that--on paper--require the inverse.  The details are beyond the scope of this book, but the fact that these algorithms are already provided allows you to focus on understanding the conceptual aspects of the inverse, while letting the computer deal with the number crunching."
   ]
  },
  {
   "cell_type": "markdown",
   "metadata": {},
   "source": [
    "### Computing the matrix inverse"
   ]
  },
  {
   "cell_type": "markdown",
   "metadata": {},
   "source": [
    "- We'll cover 3 of the many algorithms to compute the matrix inverse in this book:\n",
    "  - MNA (minors, cofactors, adjugate)\n",
    "  - row-reduction\n",
    "  - SVD (Singular Value Decomposition)\n",
    "- the first 2 will be covered in this chapter, and SVD covered in chapter 16."
   ]
  },
  {
   "cell_type": "markdown",
   "metadata": {},
   "source": [
    "## 12.2 Inverse of a diagonal matrix"
   ]
  },
  {
   "cell_type": "markdown",
   "metadata": {},
   "source": []
  },
  {
   "cell_type": "markdown",
   "metadata": {},
   "source": [
    "## 12.3 Inverse of a 2x2 matrix"
   ]
  },
  {
   "cell_type": "markdown",
   "metadata": {},
   "source": []
  },
  {
   "cell_type": "markdown",
   "metadata": {},
   "source": [
    "## 12.4 The MNA algorithm"
   ]
  },
  {
   "cell_type": "markdown",
   "metadata": {},
   "source": []
  },
  {
   "cell_type": "markdown",
   "metadata": {},
   "source": [
    "## 12.5 Inverse via row reduction"
   ]
  },
  {
   "cell_type": "markdown",
   "metadata": {},
   "source": []
  },
  {
   "cell_type": "markdown",
   "metadata": {},
   "source": [
    "## 12.6 Left inverse"
   ]
  },
  {
   "cell_type": "markdown",
   "metadata": {},
   "source": []
  },
  {
   "cell_type": "markdown",
   "metadata": {},
   "source": [
    "## 12.7 Right inverse"
   ]
  },
  {
   "cell_type": "markdown",
   "metadata": {},
   "source": []
  },
  {
   "cell_type": "markdown",
   "metadata": {},
   "source": [
    "## 12.8 The pseudoinverse, part 1"
   ]
  },
  {
   "cell_type": "markdown",
   "metadata": {},
   "source": []
  },
  {
   "cell_type": "markdown",
   "metadata": {},
   "source": [
    "## 12.9 - 12.10 Exercises"
   ]
  },
  {
   "cell_type": "markdown",
   "metadata": {},
   "source": []
  },
  {
   "cell_type": "markdown",
   "metadata": {},
   "source": [
    "## 12.11 - 12.12 Code challenges"
   ]
  },
  {
   "cell_type": "markdown",
   "metadata": {},
   "source": []
  }
 ],
 "metadata": {
  "kernelspec": {
   "display_name": "Python 3.8.11 ('base')",
   "language": "python",
   "name": "python3"
  },
  "language_info": {
   "codemirror_mode": {
    "name": "ipython",
    "version": 3
   },
   "file_extension": ".py",
   "mimetype": "text/x-python",
   "name": "python",
   "nbconvert_exporter": "python",
   "pygments_lexer": "ipython3",
   "version": "3.8.11"
  },
  "orig_nbformat": 4,
  "vscode": {
   "interpreter": {
    "hash": "656cd6254c7b2065e00f01cfa19c07ca066e7d85ef474593a41f6dcc31570de2"
   }
  }
 },
 "nbformat": 4,
 "nbformat_minor": 2
}
