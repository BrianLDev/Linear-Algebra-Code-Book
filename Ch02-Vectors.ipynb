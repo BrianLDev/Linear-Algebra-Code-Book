{
 "cells": [
  {
   "cell_type": "markdown",
   "metadata": {},
   "source": [
    "# Chapter 2: Vectors"
   ]
  },
  {
   "cell_type": "code",
   "execution_count": 1,
   "metadata": {},
   "outputs": [],
   "source": [
    "# standard python libraries to import for all code blocks below\n",
    "import numpy as np\n",
    "import matplotlib.pyplot as plt"
   ]
  },
  {
   "cell_type": "markdown",
   "metadata": {},
   "source": [
    "## 2.1 Scalars"
   ]
  },
  {
   "cell_type": "markdown",
   "metadata": {},
   "source": [
    "*note: mostly easy stuff, so skipping notes except for things I need to refresh on / retain*"
   ]
  },
  {
   "cell_type": "markdown",
   "metadata": {},
   "source": [
    "## 2.2 Geometry and algebra"
   ]
  },
  {
   "cell_type": "markdown",
   "metadata": {},
   "source": [
    "*mostly review, skipping notes...*"
   ]
  },
  {
   "cell_type": "markdown",
   "metadata": {},
   "source": [
    "## 2.3 Transposing"
   ]
  },
  {
   "cell_type": "markdown",
   "metadata": {},
   "source": [
    "- a^T transposes a column vector to a row, or a row vector to a column\n",
    "- row vectors rotate clockwise\n",
    "- column vectors rotate counter-clockwise\n",
    "- *note: 1st element row-wise always corresponds to top element column-wise*\n",
    "- If you double-transpose a vector you get the original vector"
   ]
  },
  {
   "cell_type": "code",
   "execution_count": 2,
   "metadata": {},
   "outputs": [
    {
     "name": "stdout",
     "output_type": "stream",
     "text": [
      "[[2 5 4 7]]\n",
      "[[2]\n",
      " [5]\n",
      " [4]\n",
      " [7]]\n"
     ]
    }
   ],
   "source": [
    "v1 = np.array([ [2,5,4,7] ]) # row vector\n",
    "v2 = v1.T\n",
    "print (v1)\n",
    "print (v2)"
   ]
  },
  {
   "cell_type": "code",
   "execution_count": 17,
   "metadata": {},
   "outputs": [
    {
     "name": "stdout",
     "output_type": "stream",
     "text": [
      "[2 5 4 7]\n",
      "[2 5 4 7]\n"
     ]
    }
   ],
   "source": [
    "# note, you need to specify additional external brackets or numpy transpose won't do anything\n",
    "v1 = np.array([2,5,4,7]) # row vector\n",
    "v2 = v1.T\n",
    "print (v1)\n",
    "print (v2)"
   ]
  },
  {
   "cell_type": "markdown",
   "metadata": {},
   "source": [
    "## 2.4 Vector addition and subtraction"
   ]
  },
  {
   "cell_type": "markdown",
   "metadata": {},
   "source": [
    "- **Addition:**\n",
    "  - tail to head\n",
    "  - put the tail of one vector at the head of the other vector, and the combined vector is origin to final head.\n",
    "  - order doesn't matter (same with regular subtraction)\n",
    "- **Subtraction:**\n",
    "  - Negative Addition Version:\n",
    "    - also tail to head like addition, but 2nd vector is mirrored\n",
    "    - final position matches matrix subtraction result\n",
    "  - Head-To-Head Version: \n",
    "    - head to head (2nd vector towards 1st vector)\n",
    "    - order does matter (same with regular subtraction)\n",
    "    - vector is the same as the negative addition version, but detached from origin, so it will not match the matrix subtraction result.\n",
    "    - think of it as \"what vector would move the head of the 2nd vector to the head of the 1st vector\""
   ]
  },
  {
   "cell_type": "markdown",
   "metadata": {},
   "source": [
    "*note: in the image below, both the \"negative addition\" and \"head-to-head\" versions give the same vector, but the \"head-to-head\" version is displaced from the origin. The \"negative addition\" version will match the numerical answer.*\n",
    "\n",
    "<img src=\"img/02/vector-add-subtract.jpeg\" alt=\"vector add subtract\" width=500>"
   ]
  },
  {
   "cell_type": "code",
   "execution_count": 3,
   "metadata": {},
   "outputs": [
    {
     "name": "stdout",
     "output_type": "stream",
     "text": [
      "[-1  2]\n"
     ]
    }
   ],
   "source": [
    "# \"negative addition\" version\n",
    "v1 = np.array([1, 2])\n",
    "v2 = np.array([2, 0])\n",
    "v3 = v1 - v2\n",
    "print(v3)"
   ]
  },
  {
   "cell_type": "code",
   "execution_count": 4,
   "metadata": {},
   "outputs": [
    {
     "name": "stdout",
     "output_type": "stream",
     "text": [
      "[ True  True]\n"
     ]
    }
   ],
   "source": [
    "# \"head to head\" version (i.e. what vector v3 will take you from v2 --> v1)\n",
    "\n",
    "print((v2 + v3) == v1)"
   ]
  },
  {
   "cell_type": "markdown",
   "metadata": {},
   "source": [
    "## 2.5 Vector-scalar multiplication"
   ]
  },
  {
   "cell_type": "markdown",
   "metadata": {},
   "source": [
    "*mostly review, skipping notes...*"
   ]
  },
  {
   "cell_type": "markdown",
   "metadata": {},
   "source": [
    "## 2.6 - 2.7 Exercises & Answers"
   ]
  },
  {
   "cell_type": "code",
   "execution_count": 5,
   "metadata": {},
   "outputs": [
    {
     "name": "stdout",
     "output_type": "stream",
     "text": [
      "[ 2.  1. 11.  3.]\n"
     ]
    }
   ],
   "source": [
    "# 1a)\n",
    "v = np.array([6,3,33,9])\n",
    "scalar = 3\n",
    "print(v / 3)"
   ]
  },
  {
   "cell_type": "code",
   "execution_count": 6,
   "metadata": {},
   "outputs": [
    {
     "name": "stdout",
     "output_type": "stream",
     "text": [
      "[4. 1. 2. 5.]\n"
     ]
    }
   ],
   "source": [
    "# 1b)\n",
    "v = np.array([48,12,24,60])\n",
    "scalar = 12\n",
    "print(v / scalar)"
   ]
  },
  {
   "cell_type": "code",
   "execution_count": 7,
   "metadata": {},
   "outputs": [
    {
     "name": "stdout",
     "output_type": "stream",
     "text": [
      "[2. 3. 4.]\n"
     ]
    }
   ],
   "source": [
    "# 1c)\n",
    "v = np.array([12,18,24])\n",
    "scalar = 6\n",
    "print(v / scalar)"
   ]
  },
  {
   "cell_type": "code",
   "execution_count": 8,
   "metadata": {},
   "outputs": [
    {
     "name": "stdout",
     "output_type": "stream",
     "text": [
      "[15. 12. 33. 24.  9.]\n"
     ]
    }
   ],
   "source": [
    "# 1d)\n",
    "v = np.array([45,36,99,72,27])\n",
    "scalar = 3\n",
    "print(v / scalar)"
   ]
  },
  {
   "cell_type": "code",
   "execution_count": 9,
   "metadata": {},
   "outputs": [
    {
     "data": {
      "image/png": "[encoded data removed]",
      "text/plain": [
       "<Figure size 432x288 with 1 Axes>"
      ]
     },
     "metadata": {
      "needs_background": "light"
     },
     "output_type": "display_data"
    }
   ],
   "source": [
    "# 2a)\n",
    "head = np.array([2,2])\n",
    "tail = np.array([0,0])\n",
    "# note plt.plot takes the format (xData, yData);\n",
    "plt.plot([tail[0],head[0]], [tail[1],head[1]])\n",
    "plt.grid('on')"
   ]
  },
  {
   "cell_type": "code",
   "execution_count": 10,
   "metadata": {},
   "outputs": [
    {
     "data": {
      "image/png": "[encoded data removed]",
      "text/plain": [
       "<Figure size 432x288 with 1 Axes>"
      ]
     },
     "metadata": {
      "needs_background": "light"
     },
     "output_type": "display_data"
    }
   ],
   "source": [
    "# 2b)\n",
    "head = np.array([6,12])\n",
    "tail = np.array([1,-2])\n",
    "plt.plot([tail[0],head[0]], [tail[1],head[1]])\n",
    "plt.grid('on')"
   ]
  },
  {
   "cell_type": "code",
   "execution_count": 11,
   "metadata": {},
   "outputs": [
    {
     "data": {
      "image/png": "[encoded data removed]",
      "text/plain": [
       "<Figure size 432x288 with 1 Axes>"
      ]
     },
     "metadata": {
      "needs_background": "light"
     },
     "output_type": "display_data"
    }
   ],
   "source": [
    "# 2d)\n",
    "head = np.array([np.pi, np.e])\n",
    "tail = np.array([0,0])\n",
    "plt.plot([tail[0],head[0]], [tail[1],head[1]])\n",
    "plt.grid('on')"
   ]
  },
  {
   "cell_type": "markdown",
   "metadata": {},
   "source": [
    "*easy...skipping some*"
   ]
  },
  {
   "cell_type": "code",
   "execution_count": 12,
   "metadata": {},
   "outputs": [
    {
     "data": {
      "image/png": "[encoded data removed]",
      "text/plain": [
       "<Figure size 432x288 with 1 Axes>"
      ]
     },
     "metadata": {
      "needs_background": "light"
     },
     "output_type": "display_data"
    }
   ],
   "source": [
    "#4a)\n",
    "v = np.array([1,2])\n",
    "#orig line\n",
    "plt.plot([0,v[0]], [0, v[1]])\n",
    "plt.grid('on')"
   ]
  },
  {
   "cell_type": "code",
   "execution_count": 13,
   "metadata": {},
   "outputs": [
    {
     "data": {
      "image/png": "[encoded data removed]",
      "text/plain": [
       "<Figure size 432x288 with 1 Axes>"
      ]
     },
     "metadata": {
      "needs_background": "light"
     },
     "output_type": "display_data"
    }
   ],
   "source": [
    "# scaled line\n",
    "scalar = 3\n",
    "v = scalar * v\n",
    "plt.plot([0,v[0]], [0, v[1]])\n",
    "plt.grid('on')"
   ]
  },
  {
   "cell_type": "code",
   "execution_count": 14,
   "metadata": {},
   "outputs": [
    {
     "data": {
      "image/png": "[encoded data removed]",
      "text/plain": [
       "<Figure size 432x288 with 1 Axes>"
      ]
     },
     "metadata": {
      "needs_background": "light"
     },
     "output_type": "display_data"
    }
   ],
   "source": [
    "#4d)\n",
    "v = np.array([-3,3])\n",
    "#orig line\n",
    "plt.plot([0,v[0]], [0, v[1]])\n",
    "plt.grid('on')"
   ]
  },
  {
   "cell_type": "code",
   "execution_count": 15,
   "metadata": {},
   "outputs": [
    {
     "data": {
      "image/png": "[encoded data removed]",
      "text/plain": [
       "<Figure size 432x288 with 1 Axes>"
      ]
     },
     "metadata": {
      "needs_background": "light"
     },
     "output_type": "display_data"
    }
   ],
   "source": [
    "# scaled line\n",
    "scalar = 4\n",
    "v = scalar * v\n",
    "plt.plot([0,v[0]], [0, v[1]])\n",
    "plt.grid('on')"
   ]
  },
  {
   "cell_type": "markdown",
   "metadata": {},
   "source": [
    "*skipping more easy stuff...*"
   ]
  },
  {
   "cell_type": "markdown",
   "metadata": {},
   "source": [
    "## 2.8 Code Challenges"
   ]
  },
  {
   "cell_type": "markdown",
   "metadata": {},
   "source": [
    "Create a 2D vector **v**, 10 scalars that are drawn at random from a normal (Gaussian) distribution, and plot all 10 scalar-vector multiplications on top of each other.  What do you notice?"
   ]
  },
  {
   "cell_type": "code",
   "execution_count": 16,
   "metadata": {},
   "outputs": [
    {
     "data": {
      "image/png": "[encoded data removed]",
      "text/plain": [
       "<Figure size 432x288 with 1 Axes>"
      ]
     },
     "metadata": {
      "needs_background": "light"
     },
     "output_type": "display_data"
    }
   ],
   "source": [
    "v = np.array([1,2])\n",
    "# note plt.plot takes the format (xData, yData);\n",
    "plt.plot([0,v[0]], [0,v[1]])\n",
    "for i in range(10):\n",
    "  s = np.random.randn()\n",
    "  sv = s*v\n",
    "  plt.plot([0,sv[0]], [0, sv[1]])\n",
    "  plt.grid('on')\n",
    "  plt.axis([-4,4, -4,4])"
   ]
  }
 ],
 "metadata": {
  "interpreter": {
   "hash": "656cd6254c7b2065e00f01cfa19c07ca066e7d85ef474593a41f6dcc31570de2"
  },
  "kernelspec": {
   "display_name": "Python 3.8.11 64-bit ('base': conda)",
   "language": "python",
   "name": "python3"
  },
  "language_info": {
   "codemirror_mode": {
    "name": "ipython",
    "version": 3
   },
   "file_extension": ".py",
   "mimetype": "text/x-python",
   "name": "python",
   "nbconvert_exporter": "python",
   "pygments_lexer": "ipython3",
   "version": "3.8.11"
  },
  "orig_nbformat": 4
 },
 "nbformat": 4,
 "nbformat_minor": 2
}
