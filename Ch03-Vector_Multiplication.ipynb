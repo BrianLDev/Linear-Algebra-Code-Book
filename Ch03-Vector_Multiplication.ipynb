{
 "cells": [
  {
   "cell_type": "markdown",
   "metadata": {},
   "source": [
    "# Chapter 3: Vector Multiplications"
   ]
  },
  {
   "cell_type": "code",
   "execution_count": 1,
   "metadata": {},
   "outputs": [],
   "source": [
    "# standard libraries to import\n",
    "import numpy as np\n",
    "import matplotlib.pyplot as plt"
   ]
  },
  {
   "cell_type": "markdown",
   "metadata": {},
   "source": [
    "There are 4 ways to multiply a pair of vectors:\n",
    "1. Dot product\n",
    "2. Outer product\n",
    "3. Element-wise multiplication\n",
    "4. Cross product\n",
    "\n",
    "The Dot product is most important and covered the most in this chapter"
   ]
  },
  {
   "cell_type": "markdown",
   "metadata": {},
   "source": [
    "## 3.1 Dot Product"
   ]
  },
  {
   "cell_type": "markdown",
   "metadata": {},
   "source": [
    "- Dot products are 2 matrices multiplied element-wise, then sum all individual products.\n",
    "  - *note: Some textbooks use an actual dot symbol, but this book specifically uses the superscript ^T for dot product.*\n",
    "- requires 2 vectors of equal dimensionality (otherwise it's undefined)\n",
    "- The result of the dot product is always a scalar (1 number) and not a matrix.\n",
    "- The dot product of a vector with itself is its magnitude squared.\n",
    "- The vector dot product **does not** obey the **associative** property (you can't arbitrarily subdivide with parentheses).\n",
    "  - *note that confusingly, matrix multiplication (covered later) **does** obey the associative property*.\n",
    "- The dot product **is** **commutative** (you can switch the order of terms) e.g.: $$a^Tb = b^Ta$$\n",
    "- The dot product **is** **distributive** (scalars distribute inside parentheses) e.g.: $$w^T(u+v) = w^Tu + w^Tv$$"
   ]
  },
  {
   "cell_type": "code",
   "execution_count": 2,
   "metadata": {},
   "outputs": [
    {
     "name": "stdout",
     "output_type": "stream",
     "text": [
      "94\n"
     ]
    }
   ],
   "source": [
    "# Dot product code example:\n",
    "v1 = np.array([2,5,4,7])\n",
    "v2 = np.array([4,1,0,2])\n",
    "dp = np.dot(v1, v1)\n",
    "print(dp)"
   ]
  },
  {
   "cell_type": "markdown",
   "metadata": {},
   "source": [
    "*Note: 3Blue1Brown has an excellent video on the Dot Product (and Linear Algebra intuition in general)*\n",
    "\n",
    "[3Blue1Brown - Dot product](https://www.youtube.com/watch?v=LyGKycYT2v0&list=PLZHQObOWTQDPD3MizzM2xVFitgF8hE_ab&index=9)\n",
    "\n",
    "[3Blue1Brown - Essence of Linear Algebra (All 16 videos)](https://www.youtube.com/watch?v=fNk_zzaMoSs&list=PLZHQObOWTQDPD3MizzM2xVFitgF8hE_ab)"
   ]
  },
  {
   "cell_type": "markdown",
   "metadata": {},
   "source": [
    "### Cauchy-Schwarz inequality\n",
    "$$|v^Tw| <= \\|v\\|*\\|w\\|$$\n",
    "\n",
    "- provides an upper bound for the dot product between 2 vectors\n",
    "- in English, this inequality says that the magnitude (absolute value) of the dot product between two vectors is no larger than the product of the norms of the individual vectors.  The expressions will equal each other when one vector is a scaled version of the other vector, that is, when $$v = \\lambda*w$$"
   ]
  },
  {
   "cell_type": "markdown",
   "metadata": {},
   "source": [
    "## 3.3 Vector Dot Product Geometry"
   ]
  },
  {
   "cell_type": "markdown",
   "metadata": {},
   "source": [
    "Geometrically, the dot product is the cosine of the angle between the two vectors, times the lengths (magnitudes) of the two vectors.\n",
    "\n",
    "$$a^Tb = \\|a\\| \\|b\\| \\cos(\\theta_{ab})$$\n",
    "*note that if both vectors have unit length (magnitude = 1) then the equation reduces to the cosine of the angle between the 2 vectors.*"
   ]
  },
  {
   "cell_type": "markdown",
   "metadata": {},
   "source": [
    "This formula can be rearranged in order to solve for the angle between 2 vectors\n",
    "\n",
    "**Pearson correlation coefficient:** (more on this in ch 18)\n",
    "$$\\cos(\\theta_{ab}) = \\frac{a^Tb}{\\|a\\| \\|b\\|}$$\n",
    "\n",
    "**Solved for angle:**\n",
    "$$\\theta_{ab} = \\cos^-1 \\frac{a^Tb}{\\|a\\| \\|b\\|}$$"
   ]
  },
  {
   "cell_type": "markdown",
   "metadata": {},
   "source": [
    "The sign (+/-) of the dot product between 2 vectors is determined entirely by the angle between the 2 vectors.  This is a powerful relationship and provides a geometric intuition for every application of the dot product (which are many).\n",
    "\n",
    "This is because lengths (magnitudes) are always a positive value, while cosine can range from -1 to 1."
   ]
  },
  {
   "cell_type": "markdown",
   "metadata": {},
   "source": [
    "### Dot Product Categories\n",
    "We can group dot products into 5 categories based on the angle:\n",
    "\n",
    "**1. Acute**  \n",
    "The cosine of an acute angle is always positive, so the dot product will be positive.\n",
    "$$\\theta < 90^\\circ \\rightarrow \\alpha > 0$$\n",
    "\n",
    "**2. Obtuse**  \n",
    "The cosine of an obtuse angle is always negative, so the dot product will be negative.\n",
    "$$\\theta > 90^\\circ \\rightarrow \\alpha < 0$$\n",
    "\n",
    "**3. Right angle / orthogonal**  \n",
    "The cosine of a right angle is 0, so the dot product will always be 0, regardless of the magnitudes.  \n",
    "This is sucn an important case that it has its own name **orthogonal**.\n",
    "$$\\theta = 90^\\circ \\rightarrow \\alpha = 0$$\n",
    "\n",
    "**4. Collinear (same direction)**  \n",
    "The cosine of 0 is 1, so the dot product reduces to the product of the magnitudes.  \n",
    "The term for this situation is **collinear** (meaning on the same line).\n",
    "$$\\theta = 0^\\circ \\rightarrow \\alpha = \\|a\\| \\|b\\|$$\n",
    "\n",
    "**5. Collinear (opposite direction)**  \n",
    "Basically the same as #4 above, but with a negative sign because cos(180) = -1.  \n",
    "This is also **collinear** but note that the 2 vectors will point in opposite directions.\n",
    "$$\\theta = 180^\\circ \\rightarrow \\alpha = -\\|a\\| \\|b\\|$$"
   ]
  },
  {
   "cell_type": "markdown",
   "metadata": {},
   "source": [
    "<img src=\"img/03/dot-product-categories.jpeg\" alt=\"Dot Product Categories\" width=700>"
   ]
  },
  {
   "cell_type": "markdown",
   "metadata": {},
   "source": [
    "## 3.4 Algebraic and geometric equivalence"
   ]
  },
  {
   "cell_type": "markdown",
   "metadata": {},
   "source": [
    "The algebraic and geometric versions of the dot product look very different and its not intuitive at first why they're the same.\n",
    "\n",
    "<img src=\"img/03/dot-equivalence.jpeg\" alt=\"Dot product algebraic and geometric equivalence\" width=600>"
   ]
  },
  {
   "cell_type": "markdown",
   "metadata": {},
   "source": [
    "Proving equivalence requires the Law of Cosines\n",
    "\n",
    "(reminder: Law of cosines is a generalized version of Pythagorean theorem that works for all triangles not just right triangles)\n",
    "\n",
    "<img src=\"img/03/law-of-cos-1.jpeg\" alt=\"Law of cos 1\" width=\"200\"/>\n",
    "<img src=\"img/03/law-of-cos-2.jpeg\" alt=\"Law of cos 2\" width=\"600\"/>"
   ]
  },
  {
   "cell_type": "markdown",
   "metadata": {},
   "source": [
    "## 3.5 Linear Weighted Combination"
   ]
  },
  {
   "cell_type": "code",
   "execution_count": 3,
   "metadata": {},
   "outputs": [
    {
     "data": {
      "text/plain": [
       "array([ -7,  -4, -13])"
      ]
     },
     "execution_count": 3,
     "metadata": {},
     "output_type": "execute_result"
    }
   ],
   "source": [
    "import numpy as np\n",
    "l1 = 1\n",
    "l2 = 2\n",
    "l3 = -3\n",
    "v1 = np.array([4,5,1])\n",
    "v2 = np.array([-4,0,-4])\n",
    "v3 = np.array([1,3,2])\n",
    "l1*v1 + l2*v2 + l3*v3"
   ]
  },
  {
   "cell_type": "markdown",
   "metadata": {},
   "source": [
    "## 3.6 The outer product"
   ]
  },
  {
   "cell_type": "code",
   "execution_count": 4,
   "metadata": {},
   "outputs": [
    {
     "name": "stdout",
     "output_type": "stream",
     "text": [
      "[[ 8  2  0  4]\n",
      " [20  5  0 10]\n",
      " [16  4  0  8]\n",
      " [28  7  0 14]]\n"
     ]
    }
   ],
   "source": [
    "v1 = np.array([2,5,4,7])\n",
    "v2 = np.array([4,1,0,2])\n",
    "op = np.outer(v1, v2)\n",
    "print(op)"
   ]
  },
  {
   "cell_type": "markdown",
   "metadata": {},
   "source": [
    "## 3.7 Element-wise (Hadamard) vector product"
   ]
  },
  {
   "cell_type": "code",
   "execution_count": 5,
   "metadata": {},
   "outputs": [
    {
     "name": "stdout",
     "output_type": "stream",
     "text": [
      "[ 8  5  0 14]\n"
     ]
    }
   ],
   "source": [
    "v1 = np.array([2,5,4,7])\n",
    "v2 = np.array([4,1,0,2])\n",
    "v3 = v1 * v2\n",
    "print(v3)"
   ]
  },
  {
   "cell_type": "markdown",
   "metadata": {},
   "source": [
    "## 3.8 Cross Product"
   ]
  },
  {
   "cell_type": "markdown",
   "metadata": {},
   "source": [
    "## 3.9 Unit vectors"
   ]
  },
  {
   "cell_type": "code",
   "execution_count": 6,
   "metadata": {},
   "outputs": [
    {
     "name": "stdout",
     "output_type": "stream",
     "text": [
      "[0.20628425 0.51571062 0.4125685  0.72199487]\n"
     ]
    }
   ],
   "source": [
    "v = np.array([2,5,4,7])\n",
    "vMag = np.linalg.norm(v)\n",
    "v_unit = v / vMag\n",
    "print(v_unit)"
   ]
  },
  {
   "cell_type": "markdown",
   "metadata": {},
   "source": [
    "## 3.10 - 3.11 Practice Problems"
   ]
  },
  {
   "cell_type": "markdown",
   "metadata": {},
   "source": [
    "## 3.12 Code Challenges"
   ]
  },
  {
   "cell_type": "markdown",
   "metadata": {},
   "source": [
    "1. Create a linear weighted combination of 3 vectors.\n",
    "\n",
    "Create 3 5-D vectors and a 4th vector that contains the weights for each vector.  Then create the weighted sum of those vectors.  Next, modify the code to compute the weighted mixture of 4 5-D vectors.  What's the relationship between the dimensionality of the to-be-summed vectors, the number of vectors to sum, and the dimensionality of the coefficients vector?"
   ]
  },
  {
   "cell_type": "code",
   "execution_count": 7,
   "metadata": {},
   "outputs": [
    {
     "name": "stdout",
     "output_type": "stream",
     "text": [
      "[-1 14 -1 28  4]\n"
     ]
    }
   ],
   "source": [
    "v1 = np.array([4,5,1,7,6])\n",
    "v2 = np.array([-4,0,-4,3,-7])\n",
    "v3 = np.array([1,3,2,5,4])\n",
    "w = np.array([1,2,3,])\n",
    "weighted_sum = v1*w[0] + v2*w[1] + v3*w[2]\n",
    "print(weighted_sum)"
   ]
  },
  {
   "cell_type": "code",
   "execution_count": 8,
   "metadata": {},
   "outputs": [
    {
     "name": "stdout",
     "output_type": "stream",
     "text": [
      "[27 30  3 -4 16]\n"
     ]
    }
   ],
   "source": [
    "v1 = np.array([4,5,1,7,6])\n",
    "v2 = np.array([-4,0,-4,3,-7])\n",
    "v3 = np.array([1,3,2,5,4])\n",
    "v4 = np.array([7,4,1,-8,3])\n",
    "w = np.array([1,2,3,4])\n",
    "weighted_sum = v1*w[0] + v2*w[1] + v3*w[2] + v4*w[3]\n",
    "print(weighted_sum)"
   ]
  },
  {
   "cell_type": "markdown",
   "metadata": {},
   "source": [
    "dive into relationship question later with group"
   ]
  },
  {
   "cell_type": "markdown",
   "metadata": {},
   "source": [
    "2.  Develop a method to use the dot product to compute the average set of numbers in a vector. (Hint: consider the vector of all ones, sometimes written **1**.)"
   ]
  },
  {
   "cell_type": "code",
   "execution_count": 9,
   "metadata": {},
   "outputs": [
    {
     "name": "stdout",
     "output_type": "stream",
     "text": [
      "5.125\n"
     ]
    }
   ],
   "source": [
    "v = [9,6,2,-3,8,13,5,1]\n",
    "ones = np.ones(len(v))\n",
    "avg = np.dot(v,ones) / len(v)\n",
    "print(avg)"
   ]
  },
  {
   "cell_type": "markdown",
   "metadata": {},
   "source": [
    "3. What if some numbers were more important than other numbers?  Modify your answer to the previous question to devise a method to use the dot product to compute a weighted mean of a set of numbers."
   ]
  },
  {
   "cell_type": "code",
   "execution_count": 18,
   "metadata": {},
   "outputs": [
    {
     "name": "stdout",
     "output_type": "stream",
     "text": [
      "4.888888888888889\n"
     ]
    }
   ],
   "source": [
    "v = np.array([9, 6, 2, -3, 8, 13, 5, 1])\n",
    "w = np.array([0.1, 0.2, 0.3, 0.4, 0.5, 0.6, 0.7, 0.8])  # arbitrary weight values\n",
    "weighted_avg = np.dot(v, w / sum(w))\n",
    "print(weighted_avg)"
   ]
  }
 ],
 "metadata": {
  "interpreter": {
   "hash": "31f2aee4e71d21fbe5cf8b01ff0e069b9275f58929596ceb00d14d90e3e16cd6"
  },
  "kernelspec": {
   "display_name": "Python 3.8.9 64-bit",
   "language": "python",
   "name": "python3"
  },
  "language_info": {
   "codemirror_mode": {
    "name": "ipython",
    "version": 3
   },
   "file_extension": ".py",
   "mimetype": "text/x-python",
   "name": "python",
   "nbconvert_exporter": "python",
   "pygments_lexer": "ipython3",
   "version": "3.8.11"
  },
  "orig_nbformat": 4
 },
 "nbformat": 4,
 "nbformat_minor": 2
}
