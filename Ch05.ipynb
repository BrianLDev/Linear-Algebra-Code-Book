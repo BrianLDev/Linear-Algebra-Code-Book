{
 "cells": [
  {
   "cell_type": "markdown",
   "metadata": {},
   "source": [
    "# Chapter 5: Matrices"
   ]
  },
  {
   "cell_type": "code",
   "execution_count": 1,
   "metadata": {},
   "outputs": [],
   "source": [
    "# standard python libraries to import\n",
    "import numpy as np\n",
    "import matplotlib.pyplot as plt"
   ]
  },
  {
   "cell_type": "markdown",
   "metadata": {},
   "source": [
    "## 5.1 Interpretations and uses of matrices"
   ]
  },
  {
   "cell_type": "markdown",
   "metadata": {},
   "source": [
    "- This book focuses on matrices that you can \"lay down on a table\", though they are not necessarily 2D matrices, as each row/column of a matrix is a dimension.\n",
    "- Matrices that don't lay flat on a table are *tensors* (e.g. tensor calculus used in GR)\n",
    "- Tensors will not be discussed in this book."
   ]
  },
  {
   "cell_type": "markdown",
   "metadata": {},
   "source": [
    "Matrices are ubiquitous and have innumerable uses.  A few examples:\n",
    "- representing a linear transformation or mapping\n",
    "- storing partial derivatives of a multivariable system\n",
    "- representing a system of equations\n",
    "- storing data (e.g. features x observations)\n",
    "- representing regressors for statistical modeling\n",
    "- storing geometric transformations for computer graphics\n",
    "- storing kernels used in filtering or convolution\n",
    "- representing finance information from various sectors of an economy or business\n",
    "- housing parameters for a model that predicts changes in the spread of an infectious disease"
   ]
  },
  {
   "cell_type": "markdown",
   "metadata": {},
   "source": [
    "## 5.2 Matrix terminology and notation"
   ]
  },
  {
   "cell_type": "markdown",
   "metadata": {},
   "source": [
    "- mostly review...skipping the basics\n",
    "- A \"block matrix\" is a matrix that comprises smaller matrices (note: this book doesn't cover block matrices)\n",
    "- Matrix notation is typically M rows by N columns (mnemonic \"**M**(R). **N**i(C)e guy\")"
   ]
  },
  {
   "cell_type": "markdown",
   "metadata": {},
   "source": [
    "## 5.3 Matrix dimensionalities"
   ]
  },
  {
   "cell_type": "markdown",
   "metadata": {},
   "source": [
    "- Matrices are flexible with their notation, and flexibility can lead to confusion\n",
    "- In practice, the dimensionality of a given matrix is made on a case-by-case basis, and is either explicitly stated, or is inferred from context."
   ]
  },
  {
   "cell_type": "markdown",
   "metadata": {},
   "source": [
    "## 5.4 The transpose operation"
   ]
  },
  {
   "cell_type": "markdown",
   "metadata": {},
   "source": [
    "- transposing a matrix is the same as transposing a vector: swap rows and columns\n",
    "  - $B_{i,j} = A_{j,i}$\n",
    "- transposing a matrix twice gives you the original matrix\n",
    "  - $A^{TT} = A$\n",
    "- example of a transposed matrix:\n",
    "\\begin{bmatrix}\n",
    "1 & 2 & 3 \\\\\n",
    "4 & 5 & 6\n",
    "\\end{bmatrix}^T = \n",
    "\\begin{bmatrix}\n",
    "1 & 4 \\\\\n",
    "2 & 5 \\\\\n",
    "3 & 6\n",
    "\\end{bmatrix}\n",
    "\n",
    "*note that transposing is like drawing a diagonal line and flipping the matrix*\n",
    "\n",
    "*first always stays first (i.e. 1st row -> 1st column, or 1st column -> 1st row)*"
   ]
  },
  {
   "cell_type": "markdown",
   "metadata": {},
   "source": [
    "#### Code"
   ]
  },
  {
   "cell_type": "code",
   "execution_count": 2,
   "metadata": {},
   "outputs": [
    {
     "name": "stdout",
     "output_type": "stream",
     "text": [
      "[[ 0.46518617  0.82340415 -0.12050009  2.04364095  0.75041181]\n",
      " [ 1.88589917 -0.70063764 -0.61802163  0.33387694 -0.65562649]]\n"
     ]
    }
   ],
   "source": [
    "# Transposing in code is the same as transposing vectors\n",
    "A = np.random.randn(2,5)\n",
    "print(A)"
   ]
  },
  {
   "cell_type": "code",
   "execution_count": 3,
   "metadata": {},
   "outputs": [
    {
     "name": "stdout",
     "output_type": "stream",
     "text": [
      "[[ 0.46518617  1.88589917]\n",
      " [ 0.82340415 -0.70063764]\n",
      " [-0.12050009 -0.61802163]\n",
      " [ 2.04364095  0.33387694]\n",
      " [ 0.75041181 -0.65562649]]\n"
     ]
    }
   ],
   "source": [
    "# option 1) using numpy's .T method\n",
    "At1 = A.T\n",
    "print(At1)"
   ]
  },
  {
   "cell_type": "code",
   "execution_count": 4,
   "metadata": {},
   "outputs": [
    {
     "name": "stdout",
     "output_type": "stream",
     "text": [
      "[[ 0.46518617  1.88589917]\n",
      " [ 0.82340415 -0.70063764]\n",
      " [-0.12050009 -0.61802163]\n",
      " [ 2.04364095  0.33387694]\n",
      " [ 0.75041181 -0.65562649]]\n"
     ]
    }
   ],
   "source": [
    "# option 2) using numpy's .transpose method\n",
    "At2 = np.transpose(A)\n",
    "print(At2)"
   ]
  },
  {
   "cell_type": "markdown",
   "metadata": {},
   "source": [
    "## 5.5 Matrix zoology"
   ]
  },
  {
   "cell_type": "markdown",
   "metadata": {},
   "source": [
    "- \"fat\" / wide matrices have more columns than rows\n",
    "- \"skinny\" / tall matrices have more rows than columns"
   ]
  },
  {
   "cell_type": "markdown",
   "metadata": {},
   "source": [
    "### Symmetric matrices"
   ]
  },
  {
   "cell_type": "markdown",
   "metadata": {},
   "source": [
    "- a matrix is symmetric if it's mirrored across the diagonal\n",
    "- A matrix is symmetric if it equals its transpose\n",
    "- only square matrices can be symmetric (obviously)\n",
    "- $A = A^T$\n",
    "- $a_{i,j} = a_{j,i}$"
   ]
  },
  {
   "cell_type": "markdown",
   "metadata": {},
   "source": [
    "\\begin{bmatrix}\n",
    "1 & 4 & \\pi \\\\\n",
    "4 & 7 & 2 \\\\\n",
    "\\pi & 2 & 0\n",
    "\\end{bmatrix}"
   ]
  },
  {
   "cell_type": "markdown",
   "metadata": {},
   "source": [
    "- Symmetric matrices have many special properties and will be used throughout this book\n",
    "- There are 2 ways to convert non-symmetric matrices into symetric matrices. Both will be covered in future chapters."
   ]
  },
  {
   "cell_type": "markdown",
   "metadata": {},
   "source": [
    "### Skew-symmetric"
   ]
  },
  {
   "cell_type": "markdown",
   "metadata": {},
   "source": [
    "- skew symmetric matrices are where the lower triangle is the sign flipped version of the upper triangle\n",
    "- The diagonal on a skew symmetric matrix must be 0 (positive and negative combined)\n",
    "- $A = -A^T$\n",
    "- $a_{i,j} = -a_{j,i}$\n"
   ]
  },
  {
   "cell_type": "markdown",
   "metadata": {},
   "source": [
    "\\begin{bmatrix}\n",
    "0 & -4 & 8 \\\\\n",
    "4 & 0 & -5 \\\\\n",
    "-8 & 5 & 0\n",
    "\\end{bmatrix}"
   ]
  },
  {
   "cell_type": "markdown",
   "metadata": {},
   "source": [
    "*note: I believe Hermitian matrices from physics are a type of skew-symmetric matrices in the Complex space*"
   ]
  },
  {
   "cell_type": "markdown",
   "metadata": {},
   "source": [
    "### Identity"
   ]
  },
  {
   "cell_type": "markdown",
   "metadata": {},
   "source": [
    "- The identity matrix $I$ is equal to the number 1 (anything multiplied by it = itself)\n",
    "- 1's in diagonal, 0's everywhere else\n",
    "- always a square matrix"
   ]
  },
  {
   "cell_type": "markdown",
   "metadata": {},
   "source": [
    "\\begin{bmatrix}\n",
    "1 & 0 & ... & 0 \\\\\n",
    "0 & 1 & ... & 0 \\\\\n",
    "... & ... & ... & ... \\\\\n",
    "0 & 0 & ... & 1\n",
    "\\end{bmatrix}"
   ]
  },
  {
   "cell_type": "markdown",
   "metadata": {},
   "source": [
    "### Zeros"
   ]
  },
  {
   "cell_type": "markdown",
   "metadata": {},
   "source": [
    "- obviously just a matrix of 0's\n",
    "- can be either square or rectangular\n",
    "- also called the *additive identity matrix* (since adding zero to anything gives you the original)"
   ]
  },
  {
   "cell_type": "markdown",
   "metadata": {},
   "source": [
    "#### Code"
   ]
  },
  {
   "cell_type": "code",
   "execution_count": 5,
   "metadata": {},
   "outputs": [
    {
     "name": "stdout",
     "output_type": "stream",
     "text": [
      "[[1. 0. 0. 0.]\n",
      " [0. 1. 0. 0.]\n",
      " [0. 0. 1. 0.]\n",
      " [0. 0. 0. 1.]]\n"
     ]
    }
   ],
   "source": [
    "I = np.eye(4)\n",
    "print(I)"
   ]
  },
  {
   "cell_type": "code",
   "execution_count": 6,
   "metadata": {},
   "outputs": [
    {
     "name": "stdout",
     "output_type": "stream",
     "text": [
      "[1. 1. 1. 1.]\n"
     ]
    }
   ],
   "source": [
    "O = np.ones(4)\n",
    "print(O)"
   ]
  },
  {
   "cell_type": "code",
   "execution_count": 7,
   "metadata": {},
   "outputs": [
    {
     "name": "stdout",
     "output_type": "stream",
     "text": [
      "[[0. 0. 0. 0.]\n",
      " [0. 0. 0. 0.]\n",
      " [0. 0. 0. 0.]\n",
      " [0. 0. 0. 0.]]\n"
     ]
    }
   ],
   "source": [
    "Z = np.zeros((4,4))\n",
    "print(Z)"
   ]
  },
  {
   "cell_type": "markdown",
   "metadata": {},
   "source": [
    "### $A^TA$"
   ]
  },
  {
   "cell_type": "markdown",
   "metadata": {},
   "source": [
    "- $A^TA$ is sometimes written as `AtA`\n",
    "- $A^TA$ is one of the most important forms in all of applied linear algebra (covered in more detail next chapter)\n",
    "- $AA^T$ is identical to $A^TA$, but $A^TA$ notation is used far more often"
   ]
  },
  {
   "cell_type": "markdown",
   "metadata": {},
   "source": [
    "Important properties of $A^TA$:\n",
    "- always a square matrix, even if A is rectangular\n",
    "- Symmetric, even if A isn't\n",
    "- it is full-rank if A is full column-rank\n",
    "- it is invertible if A is full column-rank\n",
    "- it has the same row space as A\n",
    "- it has orthogonal eigenvectors\n",
    "- it is positive (semi)definite.\n",
    "- it has non-negative, real-valued eigenvalues.\n",
    "- it is called a \"covariance matrix\" if A is a data matrix.\n",
    "- if often looks pretty"
   ]
  },
  {
   "cell_type": "markdown",
   "metadata": {},
   "source": [
    "### Diagonal"
   ]
  },
  {
   "cell_type": "markdown",
   "metadata": {},
   "source": [
    "- only has values in the diagonal direction, everything else is zeroes\n",
    "- diagonal can also be rectangular\n",
    "- $I$ is one example of a diagonal, as is the following"
   ]
  },
  {
   "cell_type": "markdown",
   "metadata": {},
   "source": [
    "\\begin{bmatrix}\n",
    "1 & 0 & 0 \\\\\n",
    "0 & 2 & 0 \\\\\n",
    "0 & 0 & 3\n",
    "\\end{bmatrix}, \n",
    "\\begin{bmatrix}\n",
    "7 & 0 & 0 & 0 \\\\\n",
    "0 & \\pi & 0 & 0\n",
    "\\end{bmatrix}"
   ]
  },
  {
   "cell_type": "markdown",
   "metadata": {},
   "source": [
    "- If all the diagonal values are the same, then it can be written as a constant * Identity matrix"
   ]
  },
  {
   "cell_type": "markdown",
   "metadata": {},
   "source": [
    "$\\begin{bmatrix}\n",
    "7 & 0 \\\\\n",
    "0 & 7\n",
    "\\end{bmatrix} = \n",
    "7\\begin{bmatrix}\n",
    "1 & 0 \\\\\n",
    "0 & 1\n",
    "\\end{bmatrix}\n",
    "= 7I_2$"
   ]
  },
  {
   "cell_type": "markdown",
   "metadata": {},
   "source": [
    "- Diagonal matrices are useful because they simplify operations like matrix multiplication and exponentiation.\n",
    "- transforming a matrix into a diagonal is called *diagonalization* (covered later)\n",
    "- $D$ is often used to indicate diagonal matrix, but note that there are many diagonal matrices not labeled $D$"
   ]
  },
  {
   "cell_type": "markdown",
   "metadata": {},
   "source": [
    "#### Hollow Matrix"
   ]
  },
  {
   "cell_type": "markdown",
   "metadata": {},
   "source": [
    "- The opposite of a diagonal matrix is a hollow matrix (0's on the diagonal)\n",
    "- skew symmetric matrices are hollow"
   ]
  },
  {
   "cell_type": "markdown",
   "metadata": {},
   "source": [
    "#### Code"
   ]
  },
  {
   "cell_type": "code",
   "execution_count": 8,
   "metadata": {},
   "outputs": [
    {
     "name": "stdout",
     "output_type": "stream",
     "text": [
      "[[1 0 0 0]\n",
      " [0 2 0 0]\n",
      " [0 0 3 0]\n",
      " [0 0 0 5]]\n"
     ]
    }
   ],
   "source": [
    "D = np.diag([1,2,3,5])  # diagonal matrix\n",
    "print(D)"
   ]
  },
  {
   "cell_type": "code",
   "execution_count": 9,
   "metadata": {},
   "outputs": [
    {
     "name": "stdout",
     "output_type": "stream",
     "text": [
      "[[-1.4192849   0.80970953  1.01493698 -0.52223646]\n",
      " [-0.10148739  0.58264719 -2.10766802 -0.94577382]\n",
      " [-0.96487829 -0.39610669 -1.00388355  0.6201468 ]]\n"
     ]
    }
   ],
   "source": [
    "R = np.random.randn(3,4)\n",
    "print(R)"
   ]
  },
  {
   "cell_type": "code",
   "execution_count": 10,
   "metadata": {},
   "outputs": [
    {
     "name": "stdout",
     "output_type": "stream",
     "text": [
      "[-1.4192849   0.58264719 -1.00388355]\n"
     ]
    }
   ],
   "source": [
    "d = np.diag(R)  # diagonal elements\n",
    "print(d)"
   ]
  },
  {
   "cell_type": "markdown",
   "metadata": {},
   "source": [
    "### Augmented"
   ]
  },
  {
   "cell_type": "markdown",
   "metadata": {},
   "source": [
    "- Augmented matrix is the result of concatenating two or more matrices column-wise\n",
    "  - i.e. tacking the columns from one matrix on the end of another\n",
    "- You can only augment 2 matrices if they have the same number of rows (# of columns doesn't matter)"
   ]
  },
  {
   "cell_type": "markdown",
   "metadata": {},
   "source": [
    "#### Code"
   ]
  },
  {
   "cell_type": "code",
   "execution_count": 11,
   "metadata": {},
   "outputs": [
    {
     "name": "stdout",
     "output_type": "stream",
     "text": [
      "[[ 2.52433883 -1.33498509 -0.60150062  0.55633469]\n",
      " [-0.17116002  0.19594515  0.74102735  0.71382889]\n",
      " [ 0.29101293  2.26408239 -0.34446524 -1.50921809]]\n"
     ]
    }
   ],
   "source": [
    "# Augmenting matrix A and B => AB\n",
    "A = np.random.randn(3,4)\n",
    "print(A)"
   ]
  },
  {
   "cell_type": "code",
   "execution_count": 12,
   "metadata": {},
   "outputs": [
    {
     "name": "stdout",
     "output_type": "stream",
     "text": [
      "[[-2.37702634 -0.52866817]\n",
      " [ 0.15127199  0.38832373]\n",
      " [ 0.05900842  0.22395287]]\n"
     ]
    }
   ],
   "source": [
    "B = np.random.randn(3, 2)\n",
    "print(B)"
   ]
  },
  {
   "cell_type": "code",
   "execution_count": 13,
   "metadata": {},
   "outputs": [
    {
     "name": "stdout",
     "output_type": "stream",
     "text": [
      "[[ 2.52433883 -1.33498509 -0.60150062  0.55633469 -2.37702634 -0.52866817]\n",
      " [-0.17116002  0.19594515  0.74102735  0.71382889  0.15127199  0.38832373]\n",
      " [ 0.29101293  2.26408239 -0.34446524 -1.50921809  0.05900842  0.22395287]]\n"
     ]
    }
   ],
   "source": [
    "AB = np.concatenate((A,B), axis=1)\n",
    "print(AB)"
   ]
  },
  {
   "cell_type": "markdown",
   "metadata": {},
   "source": [
    "### Triangular"
   ]
  },
  {
   "cell_type": "markdown",
   "metadata": {},
   "source": [
    "- only 1/2 the matrix has non-zero numbers (including diagonal)\n",
    "- two kinds: upper triangle, lower triangle\n",
    "- can be rectangular\n",
    "- sometimes, the zeros are left off / ignored for visual clarity"
   ]
  },
  {
   "cell_type": "markdown",
   "metadata": {},
   "source": [
    "#### Code"
   ]
  },
  {
   "cell_type": "code",
   "execution_count": 14,
   "metadata": {},
   "outputs": [
    {
     "name": "stdout",
     "output_type": "stream",
     "text": [
      "[[-0.70827514 -0.4758618  -0.28407267  0.39652402  0.13435338]\n",
      " [-0.13737639  1.35782143  0.39476863  0.40569077 -0.14598929]\n",
      " [-0.66888504  0.75073146 -0.74378422  0.69637979  1.12940427]\n",
      " [-0.64464889  0.27205418 -0.18347664 -0.84907938  1.82777886]]\n"
     ]
    }
   ],
   "source": [
    "# Triangle matrices (lower and upper)\n",
    "A = np.random.randn(4,5)\n",
    "print(A)"
   ]
  },
  {
   "cell_type": "code",
   "execution_count": 15,
   "metadata": {},
   "outputs": [
    {
     "name": "stdout",
     "output_type": "stream",
     "text": [
      "[[-0.70827514  0.          0.          0.          0.        ]\n",
      " [-0.13737639  1.35782143  0.          0.          0.        ]\n",
      " [-0.66888504  0.75073146 -0.74378422  0.          0.        ]\n",
      " [-0.64464889  0.27205418 -0.18347664 -0.84907938  0.        ]]\n"
     ]
    }
   ],
   "source": [
    "L = np.tril(A)  # tril(ower) extracts the lower triangle\n",
    "print(L)"
   ]
  },
  {
   "cell_type": "code",
   "execution_count": 16,
   "metadata": {},
   "outputs": [
    {
     "name": "stdout",
     "output_type": "stream",
     "text": [
      "[[-0.70827514 -0.4758618  -0.28407267  0.39652402  0.13435338]\n",
      " [ 0.          1.35782143  0.39476863  0.40569077 -0.14598929]\n",
      " [ 0.          0.         -0.74378422  0.69637979  1.12940427]\n",
      " [ 0.          0.          0.         -0.84907938  1.82777886]]\n"
     ]
    }
   ],
   "source": [
    "U = np.triu(A)  # triu(pper) extracts the upper triangle\n",
    "print(U)"
   ]
  },
  {
   "cell_type": "markdown",
   "metadata": {},
   "source": [
    "### Dense and sparse"
   ]
  },
  {
   "cell_type": "markdown",
   "metadata": {},
   "source": [
    "- a matrix in which most or all of the elements are non-zero is called a **dense** matrix (sometimes also called a full matrix)\n",
    "- dense/full is usually used in comparison to another matrix\n",
    "- a **sparse** matrix contains mostly zeros and a relatively small number of non-zero elements\n",
    "- sparse elements are very computationally efficient which is why many modern algorithms utilize them"
   ]
  },
  {
   "cell_type": "markdown",
   "metadata": {},
   "source": [
    "### Orthogonal"
   ]
  },
  {
   "cell_type": "markdown",
   "metadata": {},
   "source": [
    "- orthogonal matrices satisfy the following:\n",
    "  - all columns are pairwise orthogonal.  This means that the dot product between any 2 columns is exactly 0.\n",
    "  - Each column *i* has unit magnitude: $\\|Q_i\\|=1$.\n",
    "    - *(remember that the magnitude of a vector/column of a matrix is the dot product of the vector with itself)*\n",
    "\n",
    "- $Q$ is often used to indicate orthogonal matrix (but not always)\n",
    "- $Q^TQ = I$"
   ]
  },
  {
   "cell_type": "markdown",
   "metadata": {},
   "source": [
    "### Toeplitz"
   ]
  },
  {
   "cell_type": "markdown",
   "metadata": {},
   "source": [
    "- Toeplitz and Hankel matrices are closely related.\n",
    "- In a Toeplitz matrix, all diagonals contain the same element"
   ]
  },
  {
   "cell_type": "markdown",
   "metadata": {},
   "source": [
    "A Toeplitz matrix created from a vector:\n",
    "\n",
    "$$\n",
    "\\begin{bmatrix}\n",
    "a & b & c & d\n",
    "\\end{bmatrix} =>\n",
    "\\begin{bmatrix}\n",
    "a & b & c & d \\\\\n",
    "d & a & b & c \\\\\n",
    "c & d & a & b \\\\\n",
    "b & c & d & a\n",
    "\\end{bmatrix}\n",
    "$$"
   ]
  },
  {
   "cell_type": "markdown",
   "metadata": {},
   "source": [
    "### Hankel"
   ]
  },
  {
   "cell_type": "markdown",
   "metadata": {},
   "source": [
    "- the opposite of a Toeplitz matrix (anti-diagonal)"
   ]
  },
  {
   "cell_type": "markdown",
   "metadata": {},
   "source": [
    "A Hankel matrix created from a vector:\n",
    "\n",
    "$$\n",
    "\\begin{bmatrix}\n",
    "a & b & c & d\n",
    "\\end{bmatrix} =>\n",
    "\\begin{bmatrix}\n",
    "a & b & c & d \\\\\n",
    "b & c & d & 0 \\\\\n",
    "c & d & 0 & 0 \\\\\n",
    "d & 0 & 0 & 0\n",
    "\\end{bmatrix}\n",
    "$$\n",
    "or with wrap-around:\n",
    "$$\n",
    "\\begin{bmatrix}\n",
    "a & b & c & d \\\\\n",
    "b & c & d & a \\\\\n",
    "c & d & a & b \\\\\n",
    "d & a & b & c\n",
    "\\end{bmatrix}\n",
    "$$"
   ]
  },
  {
   "cell_type": "markdown",
   "metadata": {},
   "source": [
    "#### Code"
   ]
  },
  {
   "cell_type": "code",
   "execution_count": 17,
   "metadata": {},
   "outputs": [
    {
     "name": "stdout",
     "output_type": "stream",
     "text": [
      "[[1 2 3 4]\n",
      " [2 1 2 3]\n",
      " [3 2 1 2]\n",
      " [4 3 2 1]]\n"
     ]
    }
   ],
   "source": [
    "# Toeplitz matrix\n",
    "from scipy.linalg import hankel, toeplitz\n",
    "t = [1,2,3,4]\n",
    "T = toeplitz(t)\n",
    "print(T)"
   ]
  },
  {
   "cell_type": "code",
   "execution_count": 18,
   "metadata": {},
   "outputs": [
    {
     "name": "stdout",
     "output_type": "stream",
     "text": [
      "[[1 2 3 4]\n",
      " [2 3 4 3]\n",
      " [3 4 3 4]\n",
      " [4 3 4 1]]\n"
     ]
    }
   ],
   "source": [
    "# Hankel matrix (slighly less intuitive to create than Toeplitz)\n",
    "H = hankel(t,r=[2,3,4,1])\n",
    "print(H)"
   ]
  },
  {
   "cell_type": "markdown",
   "metadata": {},
   "source": [
    "## 5.6 Matrix addition and subtraction"
   ]
  },
  {
   "cell_type": "markdown",
   "metadata": {},
   "source": [
    "- matrix addition and subtraction are simply item-wise addition / subtraction\n",
    "- must have same number of elements (columns & rows)\n",
    "- addition/subtraction is commutative (may seem trivial but it's important to remember because matrix multiplication is NOT commutative)"
   ]
  },
  {
   "cell_type": "code",
   "execution_count": 19,
   "metadata": {},
   "outputs": [
    {
     "name": "stdout",
     "output_type": "stream",
     "text": [
      "[[ 0  6]\n",
      " [-3  7]\n",
      " [-2  0]]\n"
     ]
    }
   ],
   "source": [
    "# Matrix addition\n",
    "A = np.array([[0,5],[-4,6],[-3,0]])\n",
    "B = np.array([[0,1],[1,1],[1,0]])\n",
    "print(A + B)"
   ]
  },
  {
   "cell_type": "markdown",
   "metadata": {},
   "source": [
    "## 5.7 Scalar-matrix multiplication"
   ]
  },
  {
   "cell_type": "markdown",
   "metadata": {},
   "source": [
    "- matrix multiplication is involved enough to have its own chapter (later), but scalar multiplication is simple\n",
    "- For scalar multiplication, just multiply the scalar value by each value of the matrix"
   ]
  },
  {
   "cell_type": "markdown",
   "metadata": {},
   "source": [
    "## 5.8 \"Shifting\" a matrix"
   ]
  },
  {
   "cell_type": "markdown",
   "metadata": {},
   "source": [
    "- \"Shifting\" a matrix means to add to the matrix a multiple of the identity matrix\n",
    "- shifting is applied only to square matrices.\n",
    "- The new, shifted matrix is often denoted as $\\~A$"
   ]
  },
  {
   "cell_type": "code",
   "execution_count": 20,
   "metadata": {},
   "outputs": [
    {
     "name": "stdout",
     "output_type": "stream",
     "text": [
      "[[1.1 3.  0. ]\n",
      " [1.  3.1 0. ]\n",
      " [2.  2.  7.1]]\n"
     ]
    }
   ],
   "source": [
    "# Example of shifting a matrix\n",
    "A = np.array([[1,3,0],[1,3,0],[2,2,7]])\n",
    "I = np.eye(3)\n",
    "shift = 0.1 * I\n",
    "print (A + shift)"
   ]
  },
  {
   "cell_type": "markdown",
   "metadata": {},
   "source": [
    "3 properties of matrix shifting:\n",
    "1. only diagonal elements are affected\n",
    "2. it can make identical rows distince (e.g. row 1 and 2 in above example)\n",
    "3. when the $\\lambda$ (scalar) is closer to zero, then $\\~A$ is very similar to $A$.  (*I imagine this can be useful if you want to differentiate rows, but keep the matrix relatively the same.*)\n",
    "\n",
    "- Shifting a matrix has important applications in statistics, machine learning, deep learning, etc\n",
    "  - e.g. \"regularization\""
   ]
  },
  {
   "cell_type": "markdown",
   "metadata": {},
   "source": [
    "## 5.9 Diagonal and trace"
   ]
  },
  {
   "cell_type": "markdown",
   "metadata": {},
   "source": [
    "### Diagonal"
   ]
  },
  {
   "cell_type": "markdown",
   "metadata": {},
   "source": [
    "- the diagonal elements of a matrix can be extracted and converted into a vector\n",
    "  - this is useful in statistics: the diagonal elements of a covariance matrix contain the variance of each variable\n",
    "- matrix can be either square or rectangular"
   ]
  },
  {
   "cell_type": "markdown",
   "metadata": {},
   "source": [
    "### Trace"
   ]
  },
  {
   "cell_type": "markdown",
   "metadata": {},
   "source": [
    "- Trace produces a single number from a square matrix\n",
    "- **IMPORTANT:** trace is only defined for square matrices\n",
    "- it is indicated as $tr(A)$ and is defined as the sum of all diagonal elements of a matrix\n",
    "- the trace operation has 2 applications in machine learning:\n",
    "  - to compute the Frobenius norm of a matrix (measure of the magnitude of a matrix)\n",
    "  - to measure the \"distance\" between 2 matrices"
   ]
  },
  {
   "cell_type": "markdown",
   "metadata": {},
   "source": [
    "#### Code"
   ]
  },
  {
   "cell_type": "code",
   "execution_count": 21,
   "metadata": {},
   "outputs": [
    {
     "name": "stdout",
     "output_type": "stream",
     "text": [
      "-1.3827373924581665\n"
     ]
    }
   ],
   "source": [
    "# Trace\n",
    "A = np.random.randn(4,4)\n",
    "tr = np.trace(A)\n",
    "print(tr)"
   ]
  },
  {
   "cell_type": "markdown",
   "metadata": {},
   "source": [
    "## 5.10 - 5.11 Exercises"
   ]
  },
  {
   "cell_type": "markdown",
   "metadata": {},
   "source": []
  },
  {
   "cell_type": "markdown",
   "metadata": {},
   "source": [
    "## 5.12 Coding Challenges"
   ]
  },
  {
   "cell_type": "markdown",
   "metadata": {},
   "source": [
    "1. Goal: Create a matrix that contains the dot products between all pairs of columns in the two other matrices.\n",
    "\n",
    "- create two 4x2 matrices\n",
    "- write a double for loop to compute the dot products between each column of both matrices\n",
    "- the *i,j* element of the resulting matrix will be the dot product between column *i* of the first matrix and column *j* of the second matrix"
   ]
  },
  {
   "cell_type": "code",
   "execution_count": 22,
   "metadata": {},
   "outputs": [
    {
     "name": "stdout",
     "output_type": "stream",
     "text": [
      "[[-0.38131789  1.30087495]\n",
      " [-0.51721821 -1.23224382]\n",
      " [ 0.10024948  1.27267139]\n",
      " [-1.45061494  0.07074066]]\n"
     ]
    }
   ],
   "source": [
    "A = np.random.randn(4, 2)\n",
    "print(A)"
   ]
  },
  {
   "cell_type": "code",
   "execution_count": 23,
   "metadata": {},
   "outputs": [
    {
     "name": "stdout",
     "output_type": "stream",
     "text": [
      "[[-0.12829338 -0.5594911 ]\n",
      " [ 1.1899798   0.60583369]\n",
      " [ 0.02650357  1.40881382]\n",
      " [ 1.32094341  1.24843604]]\n"
     ]
    }
   ],
   "source": [
    "B = np.random.randn(4, 2)\n",
    "print(B)"
   ]
  },
  {
   "cell_type": "code",
   "execution_count": 24,
   "metadata": {},
   "outputs": [
    {
     "name": "stdout",
     "output_type": "stream",
     "text": [
      "[-0.12829338  1.1899798   0.02650357  1.32094341]\n"
     ]
    }
   ],
   "source": [
    "# test - extract a column from B\n",
    "print( B[:,0] )"
   ]
  },
  {
   "cell_type": "code",
   "execution_count": 25,
   "metadata": {},
   "outputs": [
    {
     "name": "stdout",
     "output_type": "stream",
     "text": [
      "[-2.480081935393587, -1.769771369806117, -1.5060641615133419, 0.4069094496616006]\n"
     ]
    }
   ],
   "source": [
    "dot_prods = []  # initialize empty array to hold 4 dot products\n",
    "\n",
    "for i in range(0,2):  # from 0 up to but not including 2\n",
    "  for j in range(0,2):\n",
    "    col_A = A[:, i]\n",
    "    col_B = B[:, j]\n",
    "    dot = np.dot(col_A, col_B)\n",
    "    dot_prods.append(dot)\n",
    "\n",
    "print(dot_prods)"
   ]
  },
  {
   "cell_type": "markdown",
   "metadata": {},
   "source": [
    "2. Create a symmetric matrix by starting with a dense random numbers matrix and applying 3 matrix operations: convert to triangular, transpose, matrix addition."
   ]
  },
  {
   "cell_type": "code",
   "execution_count": 26,
   "metadata": {},
   "outputs": [
    {
     "name": "stdout",
     "output_type": "stream",
     "text": [
      "[[-0.58360455  1.01974647  0.54125838  1.27438416 -0.60891399  1.83064104]\n",
      " [ 0.80417938 -0.32595505 -0.21122167 -0.57867439 -0.49743304  0.55881994]\n",
      " [-0.64780552 -1.98591846  0.9928516   0.48203502 -0.53457592 -0.55968225]\n",
      " [-0.10365128  1.0849641  -0.12319094  0.13725647  0.99102136 -0.00434617]\n",
      " [ 0.06209404 -1.59797683  1.14366104 -0.06044753  0.08217303 -0.94737571]\n",
      " [ 0.79227567  0.16936967 -1.8861463   0.20573651  0.75883644  0.67477437]]\n"
     ]
    }
   ],
   "source": [
    "A = np.random.randn(6, 6)   # create random number matrix\n",
    "print(A)"
   ]
  },
  {
   "cell_type": "code",
   "execution_count": 27,
   "metadata": {},
   "outputs": [
    {
     "name": "stdout",
     "output_type": "stream",
     "text": [
      "[[-0.58360455  0.          0.          0.          0.          0.        ]\n",
      " [ 0.80417938 -0.32595505  0.          0.          0.          0.        ]\n",
      " [-0.64780552 -1.98591846  0.9928516   0.          0.          0.        ]\n",
      " [-0.10365128  1.0849641  -0.12319094  0.13725647  0.          0.        ]\n",
      " [ 0.06209404 -1.59797683  1.14366104 -0.06044753  0.08217303  0.        ]\n",
      " [ 0.79227567  0.16936967 -1.8861463   0.20573651  0.75883644  0.67477437]]\n"
     ]
    }
   ],
   "source": [
    "# 2a) convert to triangular\n",
    "tri_A = np.tril(A)\n",
    "print(tri_A)"
   ]
  },
  {
   "cell_type": "code",
   "execution_count": 28,
   "metadata": {},
   "outputs": [
    {
     "name": "stdout",
     "output_type": "stream",
     "text": [
      "[[-0.58360455  0.80417938 -0.64780552 -0.10365128  0.06209404  0.79227567]\n",
      " [ 0.         -0.32595505 -1.98591846  1.0849641  -1.59797683  0.16936967]\n",
      " [ 0.          0.          0.9928516  -0.12319094  1.14366104 -1.8861463 ]\n",
      " [ 0.          0.          0.          0.13725647 -0.06044753  0.20573651]\n",
      " [ 0.          0.          0.          0.          0.08217303  0.75883644]\n",
      " [ 0.          0.          0.          0.          0.          0.67477437]]\n"
     ]
    }
   ],
   "source": [
    "# 2b) transpose\n",
    "A_t = tri_A.T\n",
    "print(A_t)"
   ]
  },
  {
   "cell_type": "code",
   "execution_count": 29,
   "metadata": {},
   "outputs": [
    {
     "name": "stdout",
     "output_type": "stream",
     "text": [
      "[[-1.1672091   0.80417938 -0.64780552 -0.10365128  0.06209404  0.79227567]\n",
      " [ 0.80417938 -0.65191011 -1.98591846  1.0849641  -1.59797683  0.16936967]\n",
      " [-0.64780552 -1.98591846  1.98570319 -0.12319094  1.14366104 -1.8861463 ]\n",
      " [-0.10365128  1.0849641  -0.12319094  0.27451294 -0.06044753  0.20573651]\n",
      " [ 0.06209404 -1.59797683  1.14366104 -0.06044753  0.16434605  0.75883644]\n",
      " [ 0.79227567  0.16936967 -1.8861463   0.20573651  0.75883644  1.34954873]]\n"
     ]
    }
   ],
   "source": [
    "# 2c) combine with addition\n",
    "A_symm = tri_A + A_t\n",
    "print(A_symm)"
   ]
  },
  {
   "cell_type": "markdown",
   "metadata": {},
   "source": [
    "3. Create a diagonal matrix of size 4x8 without using the diag() function. The diagonal elements should be 1,2,3,4. How much of your code would you need to change to create an 8x4 diagonal matrix?"
   ]
  },
  {
   "cell_type": "code",
   "execution_count": 30,
   "metadata": {},
   "outputs": [
    {
     "name": "stdout",
     "output_type": "stream",
     "text": [
      "[[1. 0. 0. 0.]\n",
      " [0. 2. 0. 0.]\n",
      " [0. 0. 3. 0.]\n",
      " [0. 0. 0. 4.]]\n"
     ]
    }
   ],
   "source": [
    "A = np.array([1,2,3,4])\n",
    "I = np.eye(4)\n",
    "D = A * I\n",
    "print(D)"
   ]
  },
  {
   "cell_type": "code",
   "execution_count": 31,
   "metadata": {},
   "outputs": [
    {
     "name": "stdout",
     "output_type": "stream",
     "text": [
      "[[1. 0. 0. 0.]\n",
      " [0. 2. 0. 0.]\n",
      " [0. 0. 3. 0.]\n",
      " [0. 0. 0. 4.]\n",
      " [0. 0. 0. 0.]\n",
      " [0. 0. 0. 0.]\n",
      " [0. 0. 0. 0.]\n",
      " [0. 0. 0. 0.]]\n"
     ]
    }
   ],
   "source": [
    "# one way to change to 8x4 diagonal matrix is by augmenting a 4x4 zeroes matrix using np.concatenate\n",
    "Z = np.zeros((4,4))\n",
    "A2 = np.concatenate((D, Z), axis=0)\n",
    "print(A2)"
   ]
  }
 ],
 "metadata": {
  "interpreter": {
   "hash": "656cd6254c7b2065e00f01cfa19c07ca066e7d85ef474593a41f6dcc31570de2"
  },
  "kernelspec": {
   "display_name": "Python 3.8.11 ('base')",
   "language": "python",
   "name": "python3"
  },
  "language_info": {
   "codemirror_mode": {
    "name": "ipython",
    "version": 3
   },
   "file_extension": ".py",
   "mimetype": "text/x-python",
   "name": "python",
   "nbconvert_exporter": "python",
   "pygments_lexer": "ipython3",
   "version": "3.8.11"
  },
  "orig_nbformat": 4
 },
 "nbformat": 4,
 "nbformat_minor": 2
}
