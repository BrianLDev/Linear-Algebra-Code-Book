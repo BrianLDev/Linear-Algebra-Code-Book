{
 "cells": [
  {
   "cell_type": "markdown",
   "metadata": {},
   "source": [
    "# Chapter 11: Matrix Determinant"
   ]
  },
  {
   "cell_type": "markdown",
   "metadata": {},
   "source": [
    "- content: pp 301 - 321\n",
    "- exercises: pp 322 - 326"
   ]
  },
  {
   "cell_type": "code",
   "execution_count": 2,
   "metadata": {},
   "outputs": [],
   "source": [
    "# import commonly used Python libraries\n",
    "import numpy as np\n",
    "from matplotlib import pyplot as plt"
   ]
  },
  {
   "cell_type": "markdown",
   "metadata": {},
   "source": [
    "## 11.1 Four things to know about determinants"
   ]
  },
  {
   "cell_type": "markdown",
   "metadata": {},
   "source": [
    "**1. Only for square matrices**\n",
    "- The determinant is defined only for square matrices.\n",
    "\n",
    "**2. A matrix has one determinant**\n",
    "- The determinant is a scalar that contains information about the matrix.\n",
    "- The determinant is unique in the sense that a matrix has **exactly one** determinant.\n",
    "- Of course many matrices can share the same numerical value for a determinant, but it's not possible for one matrix to have 2 determinants.\n",
    "\n",
    "**3. Zero for singular matrices**\n",
    "- The determinant is zero for a non-invertible matrix (a matrix with rank $r < M$).\n",
    "- You can also say that a matrix with linear dependencies in either the columns or in the rows has a determinant of zero.\n",
    "\n",
    "**4. Notation**\n",
    "- The determinant is indicated using either:\n",
    "  - single vertical lines around the matrix letter $|A|$\n",
    "  - by printing the contents of the matrix with vertical lines instead of square brackets $\\begin{vmatrix}1 & 2 \\\\ 3 & 4\\end{vmatrix}$\n",
    "  - by using $det(A)$.\n",
    "  - with the Greek character $\\Delta$\n",
    "- Single vertical lines are used to disambiguate the determinant $|A|$ from the magnitude or norm $||A||$"
   ]
  },
  {
   "cell_type": "markdown",
   "metadata": {},
   "source": [
    "Thus:\n",
    "$$\n",
    "det(A) = |A| = \n",
    "\\begin{vmatrix}\n",
    "1 & 2 & 3 \\\\\n",
    "4 & 5 & 6 \\\\\n",
    "7 & 8 & 9\n",
    "\\end{vmatrix}\n",
    "= \\Delta\n",
    "$$"
   ]
  },
  {
   "cell_type": "markdown",
   "metadata": {},
   "source": [
    "### Applications:\n",
    "There are several applications of the determinant.\n",
    "1. Computing the inverse (and determining whether a matrix has an inverse) (Ch 12)\n",
    "2. Uncovering the eigenvalues of a matrix (Ch 15)\n",
    "3. If a matrix contains the vertices of a polygon, then the absolute value of the determinant measures the volume of that polygon (not used in this book)"
   ]
  },
  {
   "cell_type": "markdown",
   "metadata": {},
   "source": [
    "### Computing the determinant:\n",
    "- The determinant is really difficult to compute for large matrices (i.e. anything larger than 4x4)\n",
    "- In fact, computers are unable to compute the determinant reliably for large matrices (this comes up in the code challenge later)\n",
    "- However, there are handy short-cuts for computing the determinant of 2x3 and 3x3 matrices, so they will be introduced first, then the \"full\" determinant formula after"
   ]
  },
  {
   "cell_type": "markdown",
   "metadata": {},
   "source": [
    "## 11.2 Determinant of a 2x2 matrix"
   ]
  },
  {
   "cell_type": "markdown",
   "metadata": {},
   "source": [
    "The determinant of a 2x2 matrix is the product of the diagonal minus the product of the off-diagonal.  \n",
    "*note that this only works on 2x2 matrices*\n",
    "$$\n",
    "det \n",
    "\\begin{pmatrix}\\begin{bmatrix}\n",
    "a & b \\\\\n",
    "c & d\n",
    "\\end{bmatrix}\\end{pmatrix}\n",
    "=\n",
    "\\begin{vmatrix}\n",
    "a & b \\\\\n",
    "c & d\n",
    "\\end{vmatrix}\n",
    "= ad - bc\n",
    "$$"
   ]
  },
  {
   "cell_type": "markdown",
   "metadata": {},
   "source": [
    "Important point:\n",
    "- every reduced-rank matrix has a determinant of zero (one definition of a singular matrix is a matrix with a determinant of zero)"
   ]
  },
  {
   "cell_type": "markdown",
   "metadata": {},
   "source": [
    "### Determinant and transpose\n",
    "- The determinant is robust to the transpose operation.  In other words, $det(A) = det(A^T)$\n",
    "- This is because the determinant is a property of the *matrix*, not of the rows or the columns"
   ]
  },
  {
   "cell_type": "markdown",
   "metadata": {},
   "source": [
    "## 11.3 The characteristic polynomial"
   ]
  },
  {
   "cell_type": "markdown",
   "metadata": {},
   "source": [
    "- we can transform a matrix into an equation with the matrix elements on one side of the equation, and the determinant on the other side.\n",
    "- for a 2x2 matrix, that looks like:\n",
    "$$ab-cd=\\Delta$$"
   ]
  },
  {
   "cell_type": "markdown",
   "metadata": {},
   "source": [
    "- this is interesting because it means that we can solve for a particular matrix element if we know the determinant\n",
    "e.g.\n",
    "$$\n",
    "\\begin{vmatrix}\n",
    "2 & 7 \\\\\n",
    "4 & \\lambda\n",
    "\\end{vmatrix}\n",
    "= 4\n",
    "\\Rightarrow\n",
    "2 \\lambda - 28 = 4\n",
    "\\Rightarrow\n",
    "2 \\lambda = 32\n",
    "\\Rightarrow\n",
    "\\lambda = 16\n",
    "$$"
   ]
  },
  {
   "cell_type": "markdown",
   "metadata": {},
   "source": [
    "### Multiple solutions\n",
    "- note that in some cases times there can be multiple solutions e.g. $\\lambda^2=4 \\Rightarrow \\lambda = \\pm 2$\n",
    "- *the Fundamental Theorem of Algebra tells us that an nth order polynomial has exactly n roots (though they might be complex-valued)*"
   ]
  },
  {
   "cell_type": "markdown",
   "metadata": {},
   "source": [
    "- additionally, there can be multiple solutions even without polynomials.  \n",
    "e.g.:\n",
    "$$\n",
    "\\begin{vmatrix}\n",
    "1-\\lambda & 3 \\\\\n",
    "3 & 1-\\lambda\n",
    "\\end{vmatrix}\n",
    "= 0\n",
    "\\Rightarrow\n",
    "\\lambda = -2, 4\n",
    "$$\n",
    "\n",
    "- this creates 2 possible matrix solutions depending on lambda\n",
    "\n",
    "$$\n",
    "\\lambda=-2\n",
    "\\Rightarrow\n",
    "\\begin{bmatrix}\n",
    "3 & 3 \\\\\n",
    "3 & 3\n",
    "\\end{bmatrix}\n",
    "$$\n",
    "$$\n",
    "\\lambda=4\n",
    "\\Rightarrow\n",
    "\\begin{bmatrix}\n",
    "-3 & 3 \\\\\n",
    "3 & -3\n",
    "\\end{bmatrix}\n",
    "$$"
   ]
  },
  {
   "cell_type": "markdown",
   "metadata": {},
   "source": [
    "- if you compare the two matrices, we can convert one into the other by subtracting a constant from the diagonal of the matrix.\n",
    "- This is called a *shift* and something covered in previous chapters: we shifted the matrix by $-\\lambda I$\n",
    "- Therefore, we could rewrite the above equations as:\n",
    "$$\n",
    "det\n",
    "\\begin{pmatrix}\n",
    "\\begin{bmatrix}\n",
    "1 & 3 \\\\\n",
    "3 & 1\n",
    "\\end{bmatrix}\n",
    "- \\lambda I\n",
    "\\end{pmatrix}\n",
    "= 0\n",
    "$$"
   ]
  },
  {
   "cell_type": "markdown",
   "metadata": {},
   "source": [
    "### The characteristic polynomial of a matrix"
   ]
  },
  {
   "cell_type": "markdown",
   "metadata": {},
   "source": [
    "- We have now arrived at an equation called the characteristic polynomial of a matrix:\n",
    "$$det(A-\\lambda I)$$"
   ]
  },
  {
   "cell_type": "markdown",
   "metadata": {},
   "source": [
    "- The characteristic polynomial is a big deal.\n",
    "- It allows us to represent a matrix in terms of a polynomial expression, and polynomials have a lot of great properties in mathematics.\n",
    "- But more importantly for our purposes in this book, when the characteristic polynomial is set to zero (that is, when we assume that the determinant of the shifted matrix is 0), the $\\lambda$'s--the roots of the polynomial--are the eigenvalues of the matrix.\n",
    "  - Pretty neat, eh?  More on this in Ch 15."
   ]
  },
  {
   "cell_type": "markdown",
   "metadata": {},
   "source": [
    "## 11.4 Determinant of a 3x3 matrix"
   ]
  },
  {
   "cell_type": "markdown",
   "metadata": {},
   "source": [
    "- The shortcut to get the determinant of a 3x3 matrix is easiest to understand visually\n",
    "- there are 2 ways to think about the procedure:\n",
    "  - one that \"wraps around\" the matrix\n",
    "  - one that augments the matrix with the first 2 columns\n",
    "  - of course they aren't different methods, just different ways of interpreting the same procedure.  Just use whichever method is easier to remember.\n",
    "\n",
    "**See p. 309 in book for visual diagrams of the augmented and wrap around interpretations**"
   ]
  },
  {
   "cell_type": "markdown",
   "metadata": {},
   "source": [
    "Equation:\n",
    "$$\n",
    "\\begin{vmatrix}\n",
    "a & b & c \\\\\n",
    "d & e & f \\\\\n",
    "g & h & i\n",
    "\\end{vmatrix}\n",
    "= \n",
    "aei + bfg + cdh - ceg - bdi - afh\n",
    "$$"
   ]
  },
  {
   "cell_type": "markdown",
   "metadata": {},
   "source": [
    "### Determinant and transpose\n",
    "- We can now show that the determinant of a 3x3 matrix is the same before and after transposing.\n",
    "\n",
    "$$\n",
    "\\begin{vmatrix}\n",
    "a & b & c \\\\\n",
    "d & e & f \\\\\n",
    "g & h & i\n",
    "\\end{vmatrix}\n",
    "= \n",
    "aei + bfg + cdh - ceg - bdi - afh\n",
    "$$\n",
    "\n",
    "$$\n",
    "\\begin{vmatrix}\n",
    "a & d & g \\\\\n",
    "b & e & h \\\\\n",
    "c & f & i\n",
    "\\end{vmatrix}\n",
    "= \n",
    "aei + dhc + gbf - gec - dbi - ahf\n",
    "$$"
   ]
  },
  {
   "cell_type": "markdown",
   "metadata": {},
   "source": [
    "## 11.5 Full procedure to compute the determinant"
   ]
  },
  {
   "cell_type": "markdown",
   "metadata": {},
   "source": [
    "- It turns out that the aforementioned tricks for computing the determinants of 2x2 and 3x3 matrices are simplifications of the full procedure to compute the determinant of any sized matrix.\n",
    "- It gets really complicated quickly, so it'll be illustrated with a 4x4 matrix below"
   ]
  },
  {
   "cell_type": "markdown",
   "metadata": {},
   "source": [
    "### Procedure"
   ]
  },
  {
   "cell_type": "markdown",
   "metadata": {},
   "source": [
    "- In general, the procedure is to multiply the $i^{th}$ element of the first row of the matrix by the determinat of the 3x3 submatrix created by excluding the $i^{th}$ row and $i^{th}$ column.\n",
    "- That gives 4 numbers, you then add the 1st and 3rd, and subtract the 2nd and 4th"
   ]
  },
  {
   "cell_type": "markdown",
   "metadata": {},
   "source": [
    "$$\n",
    "\\begin{vmatrix}\n",
    "a & b & c & d \\\\\n",
    "e & f & g & h \\\\\n",
    "i & j & k & l \\\\\n",
    "m & n & o & p\n",
    "\\end{vmatrix}\n",
    "= a \\times\n",
    "\\begin{vmatrix}\n",
    "f & g & h \\\\\n",
    "j & k & l \\\\\n",
    "n & o & p\n",
    "\\end{vmatrix}\n",
    "- b \\times\n",
    "\\begin{vmatrix}\n",
    "e && g & h \\\\\n",
    "i && k & l \\\\\n",
    "m && o & p\n",
    "\\end{vmatrix}\n",
    "+ c \\times\n",
    "\\begin{vmatrix}\n",
    "e & f && h \\\\\n",
    "i & j && l \\\\\n",
    "m & n && p\n",
    "\\end{vmatrix}\n",
    "- d \\times\n",
    "\\begin{vmatrix}\n",
    "e & f & g \\\\\n",
    "i & j & k \\\\\n",
    "m & n & o\n",
    "\\end{vmatrix}\n",
    "$$\n",
    "*note the alternating plus and minus symbols*"
   ]
  },
  {
   "cell_type": "markdown",
   "metadata": {},
   "source": [
    "- thus, computing the determinant of a 4x4 matrix actually requires computing four 3x3 determinants.\n",
    "- Interestingly, you can modify this procedure to go column-wise rather than row-wise."
   ]
  },
  {
   "cell_type": "markdown",
   "metadata": {},
   "source": [
    "## 11.6 Determinant of a triangular matrix"
   ]
  },
  {
   "cell_type": "markdown",
   "metadata": {},
   "source": [
    "- **key takeaway: The determinant of a triangular matrix is equal to the product of its diagonal elements.**\n",
    "- why is this true? we can prove it with an upper-triangular 2x2 matrix:\n",
    "$$\n",
    "\\begin{vmatrix}\n",
    "a & b \\\\\n",
    "0 & d\n",
    "\\end{vmatrix}\n",
    "= ad - b0 = ad\n",
    "$$"
   ]
  },
  {
   "cell_type": "markdown",
   "metadata": {},
   "source": [
    "- and for a 3x3 matrix\n",
    "$$\n",
    "\\begin{vmatrix}\n",
    "a & b & c \\\\\n",
    "0 & e & f \\\\\n",
    "0 & 0 & i\n",
    "\\end{vmatrix}\n",
    "= aei + bf0 + c00 - ce0 - b0i - af0 = aei\n",
    "$$"
   ]
  },
  {
   "cell_type": "markdown",
   "metadata": {},
   "source": [
    "- In mathematics, proofs don't necessarily lead to intuition.\n",
    "- The reason *why* the determinant equals the product of the diagonals for any triangular matrix is this:\n",
    "  - All but one of the individual terms in the determinant formula have at least one element from the upper-triangle and at least one element from the lower-triangle.\n",
    "  - The one exception is the main diagonal."
   ]
  },
  {
   "cell_type": "code",
   "execution_count": 2,
   "metadata": {},
   "outputs": [
    {
     "data": {
      "text/plain": [
       "3.864927986687358"
      ]
     },
     "execution_count": 2,
     "metadata": {},
     "output_type": "execute_result"
    }
   ],
   "source": [
    "# Computing the determinant in Python\n",
    "# (simple to do for small matrices, numerically unstable for large matrices)\n",
    "A = np.random.randn(3,3)\n",
    "np.linalg.det(A)"
   ]
  },
  {
   "cell_type": "markdown",
   "metadata": {},
   "source": [
    "## 11.7 Determinant and row reduction"
   ]
  },
  {
   "cell_type": "markdown",
   "metadata": {},
   "source": [
    "The procedures involved in row reduction (swapping rows, adding multiples of rows to other rows, and multiplying a row by a constant) have implications for the determinant of the matrix.  Let's explore each of these in turn"
   ]
  },
  {
   "cell_type": "markdown",
   "metadata": {},
   "source": [
    "### Row swapping\n",
    "- Curiously enough, swapping the rows of a matrix flips the sign of the determinant, without affecting its magnitude.\n",
    "- for a 2x2 matrix, it effectively changes $ad - cb$ into $cb - da$.\n",
    "- for a 3x3 matrix, swapping rows once flips the sign, then swapping again flips the sign once more\n",
    "- Thus, **each row swap reverses the sign of the determinant.**\n",
    "  - two swaps returns you back to the original sign"
   ]
  },
  {
   "cell_type": "markdown",
   "metadata": {},
   "source": [
    "### Adding multiples of rows\n",
    "- **Adding a multiple of one row to another does not change the determinant**"
   ]
  },
  {
   "cell_type": "markdown",
   "metadata": {},
   "source": [
    "### Row-scalar multiplication\n",
    "- **Multiplying 1 row by some scalar $\\beta$ scales the determinant by $\\beta$**"
   ]
  },
  {
   "cell_type": "markdown",
   "metadata": {},
   "source": [
    "### Summary\n",
    "- Row swap $\\rightarrow \\Delta = - \\Delta$\n",
    "- Add one row to another $\\rightarrow \\Delta = \\Delta$\n",
    "- Scale 1 row by $\\beta$ $\\rightarrow \\Delta = \\beta \\Delta$"
   ]
  },
  {
   "cell_type": "markdown",
   "metadata": {},
   "source": [
    "## 11.8 Determinant & matrix-scalar multiplication"
   ]
  },
  {
   "cell_type": "markdown",
   "metadata": {},
   "source": [
    "- What happens to the determinant of a scalar-multiplication over the entire matrix $|A|$ and $|\\beta A|$?\n",
    "- One way to think about it is that matrix-scalar multiplication is the same as row-scalar multiplication repeated for all rows.\n",
    "- This means that the determinant is exponentiated by the number of rows\n",
    "$$\n",
    "det(\\beta A) = \\beta^M det(A), \\;\\;\\;\\; A \\in R^{MxM}\n",
    "$$"
   ]
  },
  {
   "cell_type": "markdown",
   "metadata": {},
   "source": [
    "## 11.9 Determinant in theory and in practice"
   ]
  },
  {
   "cell_type": "markdown",
   "metadata": {},
   "source": [
    "- As mentioned, the determinant has several applications including computing the matrix inverse and discovering the eigenvalues.\n",
    "- Clearly the determinant is important, but it is difficult to compute for large matrices.\n",
    "- The main point is that the determinant is an important concept to understand for the *theory* of linear algebra, but you should avoid computing or using it directly when *implementing* linear algebra concepts on computers."
   ]
  },
  {
   "cell_type": "markdown",
   "metadata": {},
   "source": [
    "## 11.10 - 11.11 Exercises"
   ]
  },
  {
   "cell_type": "markdown",
   "metadata": {},
   "source": [
    "### Code Challenge 1\n",
    "\n",
    "Write code that illustrates Equation 11.26.  Your code should generate a 4x4 matrix comprising integers between 0 and 10, then generate a random integer $\\beta$ between -10 and -1, and then print out the left- and right-hand sides of Equation 11.26"
   ]
  },
  {
   "cell_type": "code",
   "execution_count": 8,
   "metadata": {},
   "outputs": [
    {
     "name": "stdout",
     "output_type": "stream",
     "text": [
      "[[ 5  0  5  2]\n",
      " [10  7  4  8]\n",
      " [ 6  7  4  6]\n",
      " [ 9  8  2  6]]\n"
     ]
    }
   ],
   "source": [
    "# create a 4x4 matrix made of integers between 0 and 10\n",
    "A = np.random.randint(0, 11, (4,4))\n",
    "print(A)"
   ]
  },
  {
   "cell_type": "code",
   "execution_count": 9,
   "metadata": {},
   "outputs": [
    {
     "name": "stdout",
     "output_type": "stream",
     "text": [
      "-9\n"
     ]
    }
   ],
   "source": [
    "# create a random integer beta between -10 and -1\n",
    "beta = np.random.randint(-10, 0)\n",
    "print(beta)"
   ]
  },
  {
   "cell_type": "code",
   "execution_count": 11,
   "metadata": {},
   "outputs": [
    {
     "data": {
      "text/plain": [
       "-2007665.9999999977"
      ]
     },
     "execution_count": 11,
     "metadata": {},
     "output_type": "execute_result"
    }
   ],
   "source": [
    "# print out left-hand side of 11.26\n",
    "np.linalg.det(beta * A)"
   ]
  },
  {
   "cell_type": "code",
   "execution_count": 14,
   "metadata": {},
   "outputs": [
    {
     "data": {
      "text/plain": [
       "-2007666.0"
      ]
     },
     "execution_count": 14,
     "metadata": {},
     "output_type": "execute_result"
    }
   ],
   "source": [
    "# print out right-hand side of 11.26\n",
    "beta**A.shape[0] * np.linalg.det(A)"
   ]
  },
  {
   "cell_type": "markdown",
   "metadata": {},
   "source": [
    "### Code Challenge 2"
   ]
  },
  {
   "cell_type": "markdown",
   "metadata": {},
   "source": [
    "copy instructions here later..."
   ]
  },
  {
   "cell_type": "code",
   "execution_count": 24,
   "metadata": {},
   "outputs": [
    {
     "ename": "IndexError",
     "evalue": "index 1 is out of bounds for axis 1 with size 0",
     "output_type": "error",
     "traceback": [
      "\u001b[0;31m---------------------------------------------------------------------------\u001b[0m",
      "\u001b[0;31mIndexError\u001b[0m                                Traceback (most recent call last)",
      "\u001b[0;32m/var/folders/8h/1v3jnq0j7v7drs6hw89vqvkw0000gn/T/ipykernel_1964/1131391783.py\u001b[0m in \u001b[0;36m<module>\u001b[0;34m\u001b[0m\n\u001b[1;32m      9\u001b[0m   \u001b[0;32mfor\u001b[0m \u001b[0mj\u001b[0m \u001b[0;32min\u001b[0m \u001b[0mrange\u001b[0m\u001b[0;34m(\u001b[0m\u001b[0;36m0\u001b[0m\u001b[0;34m,\u001b[0m \u001b[0;36m101\u001b[0m\u001b[0;34m)\u001b[0m\u001b[0;34m:\u001b[0m\u001b[0;34m\u001b[0m\u001b[0;34m\u001b[0m\u001b[0m\n\u001b[1;32m     10\u001b[0m     \u001b[0mA\u001b[0m \u001b[0;34m=\u001b[0m \u001b[0mnp\u001b[0m\u001b[0;34m.\u001b[0m\u001b[0mrandom\u001b[0m\u001b[0;34m.\u001b[0m\u001b[0mrandn\u001b[0m\u001b[0;34m(\u001b[0m\u001b[0mi\u001b[0m\u001b[0;34m,\u001b[0m\u001b[0mi\u001b[0m\u001b[0;34m)\u001b[0m        \u001b[0;31m# 1. create a matrix of normally distributed random numbers\u001b[0m\u001b[0;34m\u001b[0m\u001b[0;34m\u001b[0m\u001b[0m\n\u001b[0;32m---> 11\u001b[0;31m     \u001b[0mA\u001b[0m\u001b[0;34m[\u001b[0m\u001b[0;34m:\u001b[0m\u001b[0;34m,\u001b[0m\u001b[0;36m0\u001b[0m\u001b[0;34m]\u001b[0m \u001b[0;34m=\u001b[0m \u001b[0mA\u001b[0m\u001b[0;34m[\u001b[0m\u001b[0;34m:\u001b[0m\u001b[0;34m,\u001b[0m\u001b[0;36m1\u001b[0m\u001b[0;34m]\u001b[0m                 \u001b[0;31m# 2. ensure that the matrix is reduced-rank\u001b[0m\u001b[0;34m\u001b[0m\u001b[0;34m\u001b[0m\u001b[0m\n\u001b[0m\u001b[1;32m     12\u001b[0m     \u001b[0mdetAbs\u001b[0m \u001b[0;34m=\u001b[0m \u001b[0mabs\u001b[0m\u001b[0;34m(\u001b[0m\u001b[0mnp\u001b[0m\u001b[0;34m.\u001b[0m\u001b[0mlinalg\u001b[0m\u001b[0;34m.\u001b[0m\u001b[0mdet\u001b[0m\u001b[0;34m(\u001b[0m\u001b[0mA\u001b[0m\u001b[0;34m)\u001b[0m\u001b[0;34m)\u001b[0m  \u001b[0;31m# 3. Compute the absolute value of the determinant\u001b[0m\u001b[0;34m\u001b[0m\u001b[0;34m\u001b[0m\u001b[0m\n\u001b[1;32m     13\u001b[0m     \u001b[0mdetAgg\u001b[0m \u001b[0;34m+=\u001b[0m \u001b[0mdetAbs\u001b[0m\u001b[0;34m\u001b[0m\u001b[0;34m\u001b[0m\u001b[0m\n",
      "\u001b[0;31mIndexError\u001b[0m: index 1 is out of bounds for axis 1 with size 0"
     ]
    }
   ],
   "source": [
    "import sympy as sym\n",
    "\n",
    "sizes = range(3, 31)\n",
    "iters = 100\n",
    "dets = np.zeros([len(sizes), 2])\n",
    "\n",
    "for i in range(len(sizes)):\n",
    "  detAgg = 0\n",
    "  for j in range(0, 101):\n",
    "    A = np.random.randn(i,i)        # 1. create a matrix of normally distributed random numbers\n",
    "    A[:,0] = A[:,1]                 # 2. ensure that the matrix is reduced-rank\n",
    "    detAbs = abs(np.linalg.det(A))  # 3. Compute the absolute value of the determinant\n",
    "    detAgg += detAbs\n",
    "  detAvg = detAgg/100\n",
    "  results[i-3][0] = i\n",
    "  results[i-3][1] = detAvg\n",
    "\n",
    "print(results)"
   ]
  },
  {
   "cell_type": "markdown",
   "metadata": {},
   "source": [
    "## 11.12 - 11.13 Code Challenges"
   ]
  },
  {
   "cell_type": "markdown",
   "metadata": {},
   "source": [
    "do in group discussion?"
   ]
  }
 ],
 "metadata": {
  "kernelspec": {
   "display_name": "Python 3.8.11 ('base')",
   "language": "python",
   "name": "python3"
  },
  "language_info": {
   "codemirror_mode": {
    "name": "ipython",
    "version": 3
   },
   "file_extension": ".py",
   "mimetype": "text/x-python",
   "name": "python",
   "nbconvert_exporter": "python",
   "pygments_lexer": "ipython3",
   "version": "3.8.11"
  },
  "orig_nbformat": 4,
  "vscode": {
   "interpreter": {
    "hash": "656cd6254c7b2065e00f01cfa19c07ca066e7d85ef474593a41f6dcc31570de2"
   }
  }
 },
 "nbformat": 4,
 "nbformat_minor": 2
}
